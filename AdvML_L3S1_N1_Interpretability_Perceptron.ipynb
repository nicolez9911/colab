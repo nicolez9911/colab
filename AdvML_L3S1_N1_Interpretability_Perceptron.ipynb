{
  "cells": [
    {
      "cell_type": "markdown",
      "metadata": {
        "id": "view-in-github",
        "colab_type": "text"
      },
      "source": [
        "<a href=\"https://colab.research.google.com/github/nicolez9911/colab/blob/main/AdvML_L3S1_N1_Interpretability_Perceptron.ipynb\" target=\"_parent\"><img src=\"https://colab.research.google.com/assets/colab-badge.svg\" alt=\"Open In Colab\"/></a>"
      ]
    },
    {
      "cell_type": "markdown",
      "metadata": {
        "id": "cO8_6YgO9Fav"
      },
      "source": [
        "# 07_EX_01 Interpretability\n",
        "\n",
        "\n",
        "The focus of this notebook is the concept of interpretability.\n",
        "\n",
        "Interpretability and Explanability:\n",
        "\n",
        "* Interpretability in the case of Machine Learning means that we are able to understand what the dimensions of the weight vectors mean. More generally that we are able to somehow interpret what the individual elements of the machine learning model mean.\n",
        "* Explainability is a much higher goal. It means that we are able to understand and explain why a machine learning model has taken a decision.\n",
        "\n",
        "Interpretability is a hot research topic in Machine Learning.\n",
        "The reason it has become a central interest in ML research is the observation that for many real world use cases it is not sufficient to just measure accuracy of models. You also have to be able to understand what is happening in your model. You have to be able to get an idea what the model has learnt.\n",
        "\n",
        "If we are able to interprete a machine learning model, that is if we can understand what is the meaning of:\n",
        "\n",
        "* the parameters that are learnt\n",
        "* the state of all the parameters in a learning phase\n",
        "* the state of the parameters after learning\n",
        "\n",
        "we have a chance to understand what is happening in our machine learning project.\n",
        "\n"
      ]
    },
    {
      "cell_type": "markdown",
      "metadata": {
        "id": "paocYqVG9Faz"
      },
      "source": [
        "## 1. Perceptron class\n",
        "\n",
        "We will re-use the Perceptron class from `04_EX_01`.\n",
        "\n",
        "The class is capable of doing binary classification and provides of the following methods:\n",
        "\n",
        "* fit: train the Perceptron\n",
        "* net_input: calculate the net_input\n",
        "* predict: make a prediction based on a sample input\n",
        "\n",
        "We have done one major change in this class compared to the version you have utilized so far.\n",
        "Instead of calculating the dot product manually in Python we have delegated that to the `numpy.dot` method.\n"
      ]
    },
    {
      "cell_type": "code",
      "execution_count": 4,
      "metadata": {
        "pycharm": {
          "is_executing": false,
          "name": "#%%\n"
        },
        "id": "QGDqIHnJ9Fa0"
      },
      "outputs": [],
      "source": [
        "import matplotlib.pyplot as plt\n",
        "import numpy as np\n",
        "import os\n",
        "\n",
        "\n",
        "import numpy.random\n",
        "from matplotlib._cm_listed import cmaps\n",
        "\n",
        "class Perceptron(object):\n",
        "\n",
        "    \"\"\"Perceptron binary classifier.\n",
        "\n",
        "    Parameters\n",
        "    -----------\n",
        "    eta : float\n",
        "       Learning rate (value between 0.0 and 1.0)\n",
        "    epochs  : int\n",
        "       Number of passes over the training set\n",
        "\n",
        "    Attributes\n",
        "    -----------\n",
        "    w_  : 1d-array\n",
        "       Weights after fitting.\n",
        "    errors_   : list\n",
        "       Number of updates (triggered by prediction != target)\n",
        "\n",
        "    \"\"\"\n",
        "\n",
        "    def __init__(self, eta=0.01, epochs=10, random_state=1):\n",
        "        self.eta = eta\n",
        "        self.epochs = epochs\n",
        "        self.random_state = random_state\n",
        "\n",
        "    def fit(self, X, y, draw, heatmap):\n",
        "        \"\"\" Fit training data; i.e. train the Perceptron\n",
        "\n",
        "        Parameters\n",
        "        -----------\n",
        "        X : dataframe with shape - [n_samples, n_features]\n",
        "          feature vectors, where n_samples is the number of samples\n",
        "          in the data set, n_features is the number of features\n",
        "        y : dataframe with shape = [n_samples].\n",
        "            1 target value per sample (the label).\n",
        "\n",
        "        Returns\n",
        "        -----------\n",
        "        self : object\n",
        "\n",
        "        \"\"\"\n",
        "\n",
        "        # this initialize the weights\n",
        "        rgen = numpy.random.RandomState(self.random_state)\n",
        "        self.w_ = rgen.normal(loc=0.0, scale=0.01, size=1 + X.shape[1])\n",
        "\n",
        "        # this will be used to store the number of updates per epoch\n",
        "        self.errors_ = []\n",
        "\n",
        "        for _ in range(self.epochs):\n",
        "            errors = 0\n",
        "            for xi, target in zip(X, y):\n",
        "                error = target - self.predict(xi)\n",
        "                if (error != 0):\n",
        "                    update = self.eta * (error)\n",
        "                    self.w_[1:] += update * xi\n",
        "                    self.w_[0] += update\n",
        "                    errors += int(update != 0.0)\n",
        "            self.errors_.append(errors)\n",
        "        return self\n",
        "\n",
        "    def net_input(self, x):\n",
        "        \"\"\"Calculate net input\"\"\"\n",
        "        net_input = np.dot(x, self.w_[1:]) + self.w_[0]\n",
        "        return net_input\n",
        "\n",
        "    def predict(self, x):\n",
        "        \"\"\"Predict based on computing the net input and the threshold function\"\"\"\n",
        "        net_input = self.net_input(x)\n",
        "        if net_input >= 0.0:\n",
        "            prediction = 1\n",
        "        elif net_input < 0.0:\n",
        "            prediction = -1\n",
        "        return prediction"
      ]
    },
    {
      "cell_type": "markdown",
      "metadata": {
        "id": "3S_B-_bC9Fa1"
      },
      "source": [
        "# Training Material"
      ]
    },
    {
      "cell_type": "markdown",
      "metadata": {
        "id": "1AWw8Emp9Fa1"
      },
      "source": [
        "### MNIST Dataset\n",
        "\n",
        "In order to start testing our Perceptron implementation we will move to a different and more realistially sized MNIST dataset.\n",
        "\n",
        "We have already used the MNNIST dataset in the last semester when we started to familiarize us with the Machine Learning workflow.\n",
        "\n",
        "\"MNIST database of handwritten digits, available from this page, has a training set of 60,000 examples, and a test set of 10,000 examples. It is a subset of a larger set available from NIST. The digits have been size-normalized and centered in a fixed-size image.\" (source: http://yann.lecun.com/exdb/mnist/)\n",
        "\n",
        "To save you some time the following cell contains code to download and sort the dataset."
      ]
    },
    {
      "cell_type": "code",
      "execution_count": 5,
      "metadata": {
        "pycharm": {
          "is_executing": false,
          "name": "#%%\n"
        },
        "colab": {
          "base_uri": "https://localhost:8080/"
        },
        "id": "wvS4ws4n9Fa2",
        "outputId": "4a04463d-2320-433e-83d3-53edf8b6ee29"
      },
      "outputs": [
        {
          "output_type": "stream",
          "name": "stdout",
          "text": [
            "(70000,)\n",
            "(70000, 784)\n"
          ]
        }
      ],
      "source": [
        "# Download and sort the dataset\n",
        "\n",
        "# Sorts the dataset by target (i.e the numbers 0-9). Sorts only the first 60000 entries (the training set).\n",
        "def sort_by_target(mnist):\n",
        "    reorder_train = np.array(sorted([(target, i) for i, target in enumerate(mnist.target[:60000])]))[:, 1]\n",
        "    reorder_test = np.array(sorted([(target, i) for i, target in enumerate(mnist.target[60000:])]))[:, 1]\n",
        "    mnist.data[:60000] = mnist.data[reorder_train]\n",
        "    mnist.target[:60000] = mnist.target[reorder_train]\n",
        "    mnist.data[60000:] = mnist.data[reorder_test + 60000]\n",
        "    mnist.target[60000:] = mnist.target[reorder_test + 60000]\n",
        "\n",
        "\n",
        "# Download and sort the dataset\n",
        "try:\n",
        "    from sklearn.datasets import fetch_openml\n",
        "    mnist = fetch_openml('mnist_784', version=1, cache=True, as_frame=False)\n",
        "    mnist.target = mnist.target.astype(np.int8) # fetch_openml() returns targets as strings\n",
        "    sort_by_target(mnist) # fetch_openml() returns an unsorted dataset\n",
        "except ImportError:\n",
        "    from sklearn.datasets import fetch_mldata\n",
        "    mnist = fetch_mldata('MNIST original')\n",
        "mnist[\"data\"], mnist[\"target\"]\n",
        "\n",
        "\n",
        "print(mnist.target.shape)\n",
        "print(mnist.data.shape)\n"
      ]
    },
    {
      "cell_type": "markdown",
      "metadata": {
        "id": "-o52pcCU9Fa2"
      },
      "source": [
        "## Creating a Binary Training Set\n",
        "\n",
        "\n",
        "**Note**: Since the implementation of our Perceptron is binary it only will correctly work if we use the target values `-1` and `1`. That means you have to map `0` and `9` to `-1` and `1` in the training data."
      ]
    },
    {
      "cell_type": "code",
      "execution_count": 6,
      "metadata": {
        "pycharm": {
          "is_executing": false,
          "name": "#%%\n"
        },
        "colab": {
          "base_uri": "https://localhost:8080/"
        },
        "id": "1uliYyqd9Fa3",
        "outputId": "6714838f-ea1d-4bbd-a1c1-39f6dfadc9eb"
      },
      "outputs": [
        {
          "output_type": "execute_result",
          "data": {
            "text/plain": [
              "10000"
            ]
          },
          "metadata": {},
          "execution_count": 6
        }
      ],
      "source": [
        "from sklearn.utils import shuffle\n",
        "\n",
        "\n",
        "# Select 5000 values for 0 and 9 each by manually checking the boundaries or by checking for target value.\n",
        "mnist_0_target = mnist.target[0:5000]\n",
        "mnist_0_data = mnist.data[0:5000]\n",
        "mnist_9_target = mnist.target[6000:11000]\n",
        "mnist_9_data = mnist.data[6000:11000]\n",
        "mnist_bin_0_9_data = np.concatenate((mnist_0_data, mnist_9_data))\n",
        "mnist_bin_0_9_target = np.concatenate((mnist_0_target, mnist_9_target))\n",
        "mnist_bin_0_9_target = np.where(mnist_bin_0_9_target == 0, -1, 1)\n",
        "\n",
        "# Shuffle should be something that the students have to identify as an element that impacts the learning\n",
        "X, y = shuffle(mnist_bin_0_9_data, mnist_bin_0_9_target)\n",
        "X = mnist_bin_0_9_data\n",
        "y = mnist_bin_0_9_target\n",
        "len(mnist_bin_0_9_data)"
      ]
    },
    {
      "cell_type": "markdown",
      "metadata": {
        "id": "d6segk3u9Fa4"
      },
      "source": [
        "# Heatmap Visualization\n",
        "\n",
        "The method below expects a numpy array filled with double values as input and creates a 1D heatmap as output.\n",
        "\n",
        "\n"
      ]
    },
    {
      "cell_type": "code",
      "execution_count": 7,
      "metadata": {
        "id": "nhXcVURC9Fa4"
      },
      "outputs": [],
      "source": [
        "import matplotlib.pyplot as plt\n",
        "import numpy as np; np.random.seed(1)\n",
        "plt.rcParams[\"figure.figsize\"] = 18,4\n",
        "\n",
        "def heatmap_weight_vector(weight_vector, redraw=False):\n",
        "    x = np.array(range(0,len(weight_vector) -1))\n",
        "    y = weight_vector[1:]\n",
        "\n",
        "    fig, (ax,ax2) = plt.subplots(nrows=2, sharex=True)\n",
        "\n",
        "    ax.imshow(y[np.newaxis,:], cmap=\"RdBu\", aspect=\"auto\")\n",
        "    ax2.plot(x,y)\n",
        "\n",
        "    plt.tight_layout()\n",
        "    plt.show()\n",
        "    sleep(0.1)\n",
        "    if redraw:\n",
        "        clear_output(wait=True)\n",
        "\n"
      ]
    },
    {
      "cell_type": "markdown",
      "metadata": {
        "id": "ZnwUrmym9Fa5"
      },
      "source": [
        "### Exercise 1\n",
        "\n",
        "Test the output of the heatmap visualisaton method with a low-dimensional sample vector you create\n",
        "Use the method `np.array` to wrap a list or an array into a numpy array. Your output should look similar as shown below."
      ]
    },
    {
      "cell_type": "code",
      "execution_count": 7,
      "metadata": {
        "id": "V_WcISpS9Fa5"
      },
      "outputs": [],
      "source": []
    },
    {
      "cell_type": "markdown",
      "metadata": {
        "id": "Le43Gr6M9Fa5"
      },
      "source": [
        "### Exercise 2\n",
        "\n",
        "Think about how we could integrate the visualization into the Perceptron training process in a way that would allow us to observe the training progress on the weight vector.\n",
        "\n",
        "Once you have identified a suitable place, adapt the implementation of the Perceptron to include the heatmap visualisation.\n",
        "\n",
        "Train a perceptron with the heatmap visualisation.\n",
        "\n",
        "Your output should look similar to what can be seen below."
      ]
    },
    {
      "cell_type": "code",
      "execution_count": 9,
      "metadata": {
        "colab": {
          "base_uri": "https://localhost:8080/",
          "height": 308
        },
        "id": "woum1uL69Fa5",
        "outputId": "72f5dbcd-dab1-4bca-b290-f4e30d7c0e15"
      },
      "outputs": [
        {
          "output_type": "stream",
          "name": "stdout",
          "text": [
            "Training Finished\n"
          ]
        },
        {
          "output_type": "display_data",
          "data": {
            "text/plain": [
              "<Figure size 1800x400 with 1 Axes>"
            ],
            "image/png": "[encoded data removed]"
          },
          "metadata": {}
        }
      ],
      "source": [
        "ppn = Perceptron(eta=0.1, epochs=5)\n",
        "ppn.fit(X,y, False, True)\n",
        "print('Training Finished')\n",
        "\n",
        "# Plot number of epochs versus number of updates (i.e. errors, false classifications).\n",
        "plt.plot(range(1, len(ppn.errors_) + 1), ppn.errors_, marker='o')\n",
        "plt.xlabel('Epochs')\n",
        "plt.ylabel('Number of updates')\n",
        "plt.show()\n"
      ]
    },
    {
      "cell_type": "code",
      "source": [],
      "metadata": {
        "id": "tbywyZH3Dymj"
      },
      "execution_count": null,
      "outputs": []
    }
  ],
  "metadata": {
    "kernelspec": {
      "display_name": "PyCharm (Perceptron)",
      "language": "python",
      "name": "pycharm-d231b7f0"
    },
    "language_info": {
      "codemirror_mode": {
        "name": "ipython",
        "version": 3
      },
      "file_extension": ".py",
      "mimetype": "text/x-python",
      "name": "python",
      "nbconvert_exporter": "python",
      "pygments_lexer": "ipython3",
      "version": "3.7.3"
    },
    "pycharm": {
      "stem_cell": {
        "cell_type": "raw",
        "metadata": {
          "collapsed": false
        },
        "source": []
      }
    },
    "colab": {
      "provenance": [],
      "include_colab_link": true
    }
  },
  "nbformat": 4,
  "nbformat_minor": 0
}