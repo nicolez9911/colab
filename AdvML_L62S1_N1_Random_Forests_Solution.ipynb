{
  "cells": [
    {
      "cell_type": "markdown",
      "metadata": {
        "id": "view-in-github",
        "colab_type": "text"
      },
      "source": [
        "<a href=\"https://colab.research.google.com/github/nicolez9911/colab/blob/main/AdvML_L62S1_N1_Random_Forests_Solution.ipynb\" target=\"_parent\"><img src=\"https://colab.research.google.com/assets/colab-badge.svg\" alt=\"Open In Colab\"/></a>"
      ]
    },
    {
      "cell_type": "markdown",
      "metadata": {
        "id": "JFZpHRABT2VL"
      },
      "source": [
        "# Decision Trees\n",
        "\n",
        "This notebook introduces decision trees.\n",
        "\n",
        "<p>To study decision trees we will use the Titanic dataset.</p>\n",
        "<p>It consists of the passenger manifest of the Titanic and an associated survival variable.</p>"
      ]
    },
    {
      "cell_type": "markdown",
      "metadata": {
        "id": "x_qNfmcCT2VP"
      },
      "source": [
        "# Imports & Installation"
      ]
    },
    {
      "cell_type": "code",
      "execution_count": null,
      "metadata": {
        "id": "uTV65CsCgh9G"
      },
      "outputs": [],
      "source": [
        "!conda info --envs"
      ]
    },
    {
      "cell_type": "code",
      "execution_count": null,
      "metadata": {
        "id": "p1GTZlw5T2VS"
      },
      "outputs": [],
      "source": [
        "import sys\n",
        "import os\n",
        "# add library module to PYTHONPATH\n",
        "sys.path.append(f\"{os.getcwd()}/..\")"
      ]
    },
    {
      "cell_type": "markdown",
      "metadata": {
        "id": "UPn30njMgh9H"
      },
      "source": [
        "### Installing pip Packages into the Correct Ananacoda Environment\n",
        "\n",
        "To make sure that pip packages are installed into the correct environment we can use the following approach:\n",
        "\n",
        "* check what is our active environment: `conda info --envs` [optional step]\n",
        "* check what is the path of our enviroment: `which pip` [if pip is not registered we can use `which python`]\n",
        "* execute pip installation from the pip executive in the environment\n",
        "\n"
      ]
    },
    {
      "cell_type": "code",
      "execution_count": null,
      "metadata": {
        "id": "g3AdnlMjgh9H"
      },
      "outputs": [],
      "source": [
        "!which pip"
      ]
    },
    {
      "cell_type": "code",
      "execution_count": null,
      "metadata": {
        "id": "kv0bEEO7gh9H"
      },
      "outputs": [],
      "source": [
        "!/home/dev/BIN/anaconda3/envs/deng_ml/bin/pip install dtreeviz"
      ]
    },
    {
      "cell_type": "markdown",
      "metadata": {
        "id": "tbAXfdakgh9H"
      },
      "source": [
        "### Installing graphviz\n",
        "\n",
        "`graphviz` is a library for drawing graph diagrams. It is a `C` executable that has to be installed locally.\n",
        "To install on Linux you can use the cell below.\n",
        "On Windows or Mac please have a look at: https://github.com/parrt/dtreeviz#windows-10 .\n"
      ]
    },
    {
      "cell_type": "code",
      "execution_count": null,
      "metadata": {
        "scrolled": true,
        "id": "VKyUAetsgh9H"
      },
      "outputs": [],
      "source": [
        "!conda install -y graphviz"
      ]
    },
    {
      "cell_type": "code",
      "execution_count": null,
      "metadata": {
        "id": "xtSUC0ZBT2VX"
      },
      "outputs": [],
      "source": [
        "import sklearn\n",
        "from sklearn.tree import DecisionTreeClassifier, DecisionTreeRegressor\n",
        "from dtreeviz.trees import *\n",
        "\n",
        "import graphviz\n",
        "import pandas as pd"
      ]
    },
    {
      "cell_type": "code",
      "execution_count": null,
      "metadata": {
        "id": "5zoSRja2T2Vd"
      },
      "outputs": [],
      "source": [
        "%load_ext autoreload\n",
        "%autoreload 2 # Reload all modules (except those excluded by %aimport) every time before executing code.\n",
        "\n",
        "\n",
        "%matplotlib inline"
      ]
    },
    {
      "cell_type": "code",
      "execution_count": null,
      "metadata": {
        "id": "6a4y4JMbT2Vi"
      },
      "outputs": [],
      "source": [
        "random_state = 1234"
      ]
    },
    {
      "cell_type": "markdown",
      "metadata": {
        "id": "ZLbsWO82T2Vm"
      },
      "source": [
        "# Load data\n",
        "\n",
        "We will use the Titanic dataset as a basis for testing Decision Trees.\n",
        "\n",
        "The `Titanic` dataset consists of two elements:\n",
        "* Original passenger data\n",
        "* Survival as target variabel\n",
        "\n",
        "The passenger data contains the following columns:\n",
        "\n",
        "* pclass: A proxy for socio-economic status (SES)\n",
        "   * 1st = Upper\n",
        "   * 2nd = Middle\n",
        "   * 3rd = Lower\n",
        "\n",
        "* age: Age is fractional if less than 1. If the age is estimated, is it in the form of xx.5\n",
        "\n",
        "* sibsp: The dataset defines family relations in this way...\n",
        "    * Sibling = brother, sister, stepbrother, stepsister\n",
        "    * Spouse = husband, wife (mistresses and fiancés were ignored)\n",
        "\n",
        "* parch: The dataset defines family relations in this way...\n",
        "    * Parent = mother, father\n",
        "    * Child = daughter, son, stepdaughter, stepson\n",
        "    * Some children travelled only with a nanny, therefore parch=0 for them."
      ]
    },
    {
      "cell_type": "code",
      "execution_count": null,
      "metadata": {
        "id": "lryUTnWeT2Vo"
      },
      "outputs": [],
      "source": [
        "dataframe = pd.read_csv(\"./titanic_dataset/titanic.csv\")"
      ]
    },
    {
      "cell_type": "code",
      "execution_count": null,
      "metadata": {
        "id": "lfNPku3MT2Vs"
      },
      "outputs": [],
      "source": [
        "dataframe.shape"
      ]
    },
    {
      "cell_type": "markdown",
      "metadata": {
        "id": "XxKHotpCT2Vw"
      },
      "source": [
        "## Exploratory Data Analysis\n",
        "\n",
        "When starting work on new datasets, we can use some utility functions from pandas to analyse the dataframe.\n",
        "\n",
        "* describe() provides us with count and descriptive statistics\n",
        "* isna() allows to identify missing values\n"
      ]
    },
    {
      "cell_type": "code",
      "execution_count": null,
      "metadata": {
        "id": "CxXx5pIMT2Vy"
      },
      "outputs": [],
      "source": [
        "dataframe.describe()"
      ]
    },
    {
      "cell_type": "code",
      "execution_count": null,
      "metadata": {
        "id": "wg6XAd9XT2V3"
      },
      "outputs": [],
      "source": [
        "dataframe.isna().any()"
      ]
    },
    {
      "cell_type": "code",
      "execution_count": null,
      "metadata": {
        "id": "ekpvQlTcT2V6"
      },
      "outputs": [],
      "source": [
        "dataframe.isna().sum()"
      ]
    },
    {
      "cell_type": "markdown",
      "metadata": {
        "id": "WegJ4OsHT2WC"
      },
      "source": [
        "## Feature Engineering\n",
        "\n",
        "Before we can start working with the dataframe we have to fix the missing values.\n",
        "* fillna() allows us to do inplace replacement of those values"
      ]
    },
    {
      "cell_type": "code",
      "execution_count": null,
      "metadata": {
        "id": "1w93xeYpT2WE"
      },
      "outputs": [],
      "source": [
        "# Fill missing values for Age\n",
        "dataframe.fillna({\"Age\":dataframe.Age.mean()}, inplace=True)"
      ]
    },
    {
      "cell_type": "code",
      "execution_count": null,
      "metadata": {
        "id": "iHHdMRBJT2WH"
      },
      "outputs": [],
      "source": [
        "# Encode categorical variables\n",
        "# The `astype(\"category\").cat.codes` call encodes a categorical label in numerical form\n",
        "dataframe[\"Sex_label\"] = dataframe.Sex.astype(\"category\").cat.codes\n",
        "dataframe[\"Cabin_label\"] = dataframe.Cabin.astype(\"category\").cat.codes\n",
        "dataframe[\"Embarked_label\"] = dataframe.Embarked.astype(\"category\").cat.codes"
      ]
    },
    {
      "cell_type": "code",
      "execution_count": null,
      "metadata": {
        "id": "PWrjUCUrgh9K"
      },
      "outputs": [],
      "source": [
        "dataframe[\"Embarked_label\"]"
      ]
    },
    {
      "cell_type": "markdown",
      "metadata": {
        "id": "uRILZdwjT2WJ"
      },
      "source": [
        "# Classification"
      ]
    },
    {
      "cell_type": "markdown",
      "metadata": {
        "id": "beWPOSGXT2WK"
      },
      "source": [
        "## Feature and target variables"
      ]
    },
    {
      "cell_type": "code",
      "execution_count": null,
      "metadata": {
        "id": "sSl1kIzkT2WM"
      },
      "outputs": [],
      "source": [
        "features = [\"Pclass\", \"Age\", \"Fare\", \"Sex_label\", \"Cabin_label\", \"Embarked_label\"]\n",
        "target = \"Survived\""
      ]
    },
    {
      "cell_type": "markdown",
      "metadata": {
        "id": "YPKNS3H7T2WP"
      },
      "source": [
        "## Model training\n",
        "We will train with full data, the goal is to just interpretate the tree structure"
      ]
    },
    {
      "cell_type": "code",
      "execution_count": null,
      "metadata": {
        "id": "OVi1DwWtT2WQ"
      },
      "outputs": [],
      "source": [
        "dtc = DecisionTreeClassifier(max_depth=5, random_state=random_state)\n",
        "dtc.fit(dataframe[features], dataframe[target])"
      ]
    },
    {
      "cell_type": "code",
      "execution_count": null,
      "metadata": {
        "id": "4Xkl4xJiT2WT"
      },
      "outputs": [],
      "source": [
        "dtc.score(dataframe[features],dataframe[target])"
      ]
    },
    {
      "cell_type": "code",
      "execution_count": null,
      "metadata": {
        "id": "9oFswRWAT2WW"
      },
      "outputs": [],
      "source": [
        "min_samples = 0\n",
        "max_samples = 99999\n",
        "node_type = ShadowDecTree.get_node_type(dtc)\n",
        "n_node_samples = dtc.tree_.n_node_samples\n",
        "\n",
        "leaf_samples = [(i, n_node_samples[i]) for i in range(0, dtc.tree_.node_count) if node_type[i]\n",
        "                and min_samples <= n_node_samples[i] <= max_samples]\n",
        "x, y = zip(*leaf_samples)"
      ]
    },
    {
      "cell_type": "code",
      "execution_count": null,
      "metadata": {
        "id": "fm5r06J7T2Wa"
      },
      "outputs": [],
      "source": [
        "np.array(x)"
      ]
    },
    {
      "cell_type": "code",
      "execution_count": null,
      "metadata": {
        "id": "woU7Un7BT2Wc"
      },
      "outputs": [],
      "source": [
        "np.array(y)"
      ]
    },
    {
      "cell_type": "code",
      "execution_count": null,
      "metadata": {
        "id": "koHPscsjT2Wf"
      },
      "outputs": [],
      "source": [
        "ShadowDecTree.get_leaf_sample_counts(dtc, max_samples=20)"
      ]
    },
    {
      "cell_type": "markdown",
      "metadata": {
        "id": "kIRhksxXT2Wj"
      },
      "source": [
        "## Model interpretation\n",
        "Here we have a tree with depth=5. Take your time to look through it structure and try to find its leaves."
      ]
    },
    {
      "cell_type": "code",
      "execution_count": null,
      "metadata": {
        "id": "ZXfEzO3kT2Wj"
      },
      "outputs": [],
      "source": [
        "class_names = list(dtc.classes_)"
      ]
    },
    {
      "cell_type": "code",
      "execution_count": null,
      "metadata": {
        "id": "28MBf0UpT2Wl"
      },
      "outputs": [],
      "source": [
        "dtreeviz(dtc, dataframe[features], dataframe[target], features, target, class_names)"
      ]
    },
    {
      "cell_type": "code",
      "execution_count": null,
      "metadata": {
        "id": "SIIZ927tT2Ws"
      },
      "outputs": [],
      "source": [
        "# fancy=False\n",
        "dtreeviz(dtc, dataframe[features], dataframe[target], features, target, class_names, fancy=False )"
      ]
    },
    {
      "cell_type": "markdown",
      "metadata": {
        "id": "VQAlgQJLT2Wu"
      },
      "source": [
        "### Leaf samples\n",
        "Each node contains some important details. One of these is 'samples', which shows the number of samples from training set which pass through that node.<br>\n",
        "Would be very helpful to see the number of samples from each leaf. Why? Because it shows the confidence of leaf prediction. <br>\n",
        "For example, if we have a leaf with good prediction(ex. gini=0.0) but very few samples in in (ex. samples=1), this could be the sign of overfiting. If our leaf would contains more samples, then we could be more confident about its prediction. <br>\n",
        "\n",
        "This is how we can easily get leaf samples from a big tree structure (using plots or plain text)\n"
      ]
    },
    {
      "cell_type": "code",
      "execution_count": null,
      "metadata": {
        "id": "7gdFyuK1T2Wu"
      },
      "outputs": [],
      "source": [
        "viz_leaf_samples(dtc, figsize=(20,10))"
      ]
    },
    {
      "cell_type": "code",
      "execution_count": null,
      "metadata": {
        "id": "a0I-xDaAT2Wx"
      },
      "outputs": [],
      "source": [
        "ctreeviz_leaf_samples(dtc, display_type=\"text\")"
      ]
    },
    {
      "cell_type": "code",
      "execution_count": null,
      "metadata": {
        "id": "WkYNfb4iT2W1"
      },
      "outputs": [],
      "source": [
        "#Useful when you want to easily see the general distribution of leaf samples.\n",
        "viz_leaf_samples(dtc, display_type=\"hist\", bins=30, figsize=(20,7))"
      ]
    },
    {
      "cell_type": "code",
      "execution_count": null,
      "metadata": {
        "id": "mlGBxP3DT2W2"
      },
      "outputs": [],
      "source": [
        "viz_leaf_samples(dtc, display_type=\"hist\", bins=30, figsize=(20,7), min_samples=3, max_samples=100)"
      ]
    },
    {
      "cell_type": "markdown",
      "metadata": {
        "id": "jr9BWIUDT2W6"
      },
      "source": [
        "### Leaf samples by class\n",
        "Here we can see the number of samples from each leaf by its classes. <br>\n",
        "The leaf with id 78 contains a lot of samples from training set and mojority of them from class 0. In leaf 17 all samples are from class 1. Would be very helpful to see how the samples from these leaves look, what do they have in common. This is a way to get domain knowledge about our dataset using a ML driven approach. <br>\n",
        "More about how we can get the training samples from a leaf in the near future."
      ]
    },
    {
      "cell_type": "code",
      "execution_count": null,
      "metadata": {
        "id": "qVysEhyIT2W7"
      },
      "outputs": [],
      "source": [
        "ctreeviz_leaf_samples(dtc, figsize=(20,7))"
      ]
    },
    {
      "cell_type": "code",
      "execution_count": null,
      "metadata": {
        "id": "A-bkqmoIT2W9"
      },
      "outputs": [],
      "source": [
        "ctreeviz_leaf_samples(dtc, display_type=\"text\")"
      ]
    },
    {
      "cell_type": "markdown",
      "metadata": {
        "id": "IN-hnHqnT2W_"
      },
      "source": [
        "# Regression"
      ]
    },
    {
      "cell_type": "markdown",
      "metadata": {
        "id": "r17AGperT2W_"
      },
      "source": [
        "## feature and target variables\n",
        "To keep the same dataset for regression, now our task is to predict the age."
      ]
    },
    {
      "cell_type": "code",
      "execution_count": null,
      "metadata": {
        "id": "PslOnMYyT2XA"
      },
      "outputs": [],
      "source": [
        "features_reg = [\"Pclass\", \"Fare\", \"Sex_label\", \"Cabin_label\", \"Embarked_label\", \"Survived\"]\n",
        "target_reg = \"Age\""
      ]
    },
    {
      "cell_type": "markdown",
      "metadata": {
        "id": "w8iyxgaDT2XC"
      },
      "source": [
        "## Model training"
      ]
    },
    {
      "cell_type": "code",
      "execution_count": null,
      "metadata": {
        "id": "IwYaVjP0T2XD"
      },
      "outputs": [],
      "source": [
        "dtr = DecisionTreeRegressor(max_depth=4, random_state=random_state)\n",
        "dtr.fit(dataframe[features_reg], dataframe[target_reg])"
      ]
    },
    {
      "cell_type": "markdown",
      "metadata": {
        "id": "GXOquVlYT2XE"
      },
      "source": [
        "## Model interpretation"
      ]
    },
    {
      "cell_type": "code",
      "execution_count": null,
      "metadata": {
        "id": "pKxCdiUPT2XG",
        "scrolled": true
      },
      "outputs": [],
      "source": [
        "dtreeviz(dtr, dataframe[features_reg], dataframe[target_reg], features_reg, target_reg)"
      ]
    },
    {
      "cell_type": "markdown",
      "metadata": {
        "id": "xhkfWnBKT2XL"
      },
      "source": [
        "### Leaf samples"
      ]
    },
    {
      "cell_type": "code",
      "execution_count": null,
      "metadata": {
        "id": "-9iGRVouT2XL",
        "scrolled": true
      },
      "outputs": [],
      "source": [
        "viz_leaf_samples(dtr, figsize=(40,10))"
      ]
    },
    {
      "cell_type": "code",
      "execution_count": null,
      "metadata": {
        "id": "okjrGE6yT2XP",
        "scrolled": true
      },
      "outputs": [],
      "source": [
        "viz_leaf_samples(dtr, display_type=\"text\")"
      ]
    },
    {
      "cell_type": "code",
      "execution_count": null,
      "metadata": {
        "id": "K5j5AWItT2XR"
      },
      "outputs": [],
      "source": [
        "viz_leaf_samples(dtr, display_type=\"hist\", bins=30)"
      ]
    },
    {
      "cell_type": "markdown",
      "metadata": {
        "id": "HCed2nqYT2XT"
      },
      "source": [
        "## Leaf target values distribution"
      ]
    },
    {
      "cell_type": "code",
      "execution_count": null,
      "metadata": {
        "id": "e3Cj9MytT2XT"
      },
      "outputs": [],
      "source": [
        "#%config InlineBackend.figure_format = 'svg'\n",
        "dtr = DecisionTreeRegressor(max_depth=3, random_state=random_state)\n",
        "dtr.fit(dataset[features_reg], dataset[target_reg])\n",
        "viz_leaf_target(dtr, dataset[features_reg], dataset[target_reg], features_reg, target_reg, show_leaf_labels=True, grid=False)\n"
      ]
    },
    {
      "cell_type": "code",
      "execution_count": null,
      "metadata": {
        "id": "yHbHb0xCT2XV"
      },
      "outputs": [],
      "source": []
    },
    {
      "cell_type": "code",
      "execution_count": null,
      "metadata": {
        "id": "cjVGTdjeT2XY"
      },
      "outputs": [],
      "source": [
        "dtr = DecisionTreeRegressor(max_depth=7, random_state=random_state)\n",
        "dtr.fit(dataset[features_reg], dataset[target_reg])\n",
        "viz_leaf_target(dtr, dataset[features_reg], dataset[target_reg], features_reg, target_reg, show_leaf_labels=True, grid=False, figsize=(4,20))\n"
      ]
    }
  ],
  "metadata": {
    "colab": {
      "provenance": [],
      "include_colab_link": true
    },
    "kernelspec": {
      "display_name": "Python 3",
      "language": "python",
      "name": "python3"
    },
    "language_info": {
      "codemirror_mode": {
        "name": "ipython",
        "version": 3
      },
      "file_extension": ".py",
      "mimetype": "text/x-python",
      "name": "python",
      "nbconvert_exporter": "python",
      "pygments_lexer": "ipython3",
      "version": "3.6.8"
    },
    "toc": {
      "base_numbering": 1,
      "nav_menu": {},
      "number_sections": true,
      "sideBar": true,
      "skip_h1_title": false,
      "title_cell": "Table of Contents",
      "title_sidebar": "Contents",
      "toc_cell": false,
      "toc_position": {
        "height": "calc(100% - 180px)",
        "left": "10px",
        "top": "150px",
        "width": "165px"
      },
      "toc_section_display": true,
      "toc_window_display": true
    }
  },
  "nbformat": 4,
  "nbformat_minor": 0
}