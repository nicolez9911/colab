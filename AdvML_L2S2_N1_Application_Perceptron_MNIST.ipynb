{
  "cells": [
    {
      "cell_type": "markdown",
      "metadata": {
        "id": "view-in-github",
        "colab_type": "text"
      },
      "source": [
        "<a href=\"https://colab.research.google.com/github/nicolez9911/colab/blob/main/AdvML_L2S2_N1_Application_Perceptron_MNIST.ipynb\" target=\"_parent\"><img src=\"https://colab.research.google.com/assets/colab-badge.svg\" alt=\"Open In Colab\"/></a>"
      ]
    },
    {
      "cell_type": "markdown",
      "source": [
        "# 06_EX_01 Application of a Perceptron - MNIST Classification\n",
        "\n",
        "This exercise notebook focuses on taking the Perceptron implementation on a spin.\n",
        "\n",
        "We will use our implementation of the Perceptron class and apply it to a binary problem selection of the\n"
      ],
      "metadata": {
        "id": "CJi3BbkK-aZi"
      }
    },
    {
      "cell_type": "markdown",
      "source": [
        "### Module Imports"
      ],
      "metadata": {
        "id": "r4XfHErX-aZk"
      }
    },
    {
      "cell_type": "code",
      "execution_count": 1,
      "source": [
        "import matplotlib.pyplot as plt\n",
        "import numpy as np\n",
        "import os\n",
        "\n",
        "print(\"Modules imported.\")"
      ],
      "outputs": [
        {
          "output_type": "stream",
          "name": "stdout",
          "text": [
            "Modules imported.\n"
          ]
        }
      ],
      "metadata": {
        "pycharm": {
          "is_executing": false,
          "name": "#%%\n"
        },
        "colab": {
          "base_uri": "https://localhost:8080/"
        },
        "id": "jO-OUBuQ-aZk",
        "outputId": "7e4f2cbb-df94-4ea8-edb5-e1191df3c47f"
      }
    },
    {
      "cell_type": "markdown",
      "source": [
        "## 1. Perceptron class\n",
        "\n",
        "We will re-use the Perceptron calass from `04_EX_01`.\n",
        "\n",
        "The class is capable of doing binary classification and provides of the following methods:\n",
        "\n",
        "* fit: train the Perceptron\n",
        "* net_input: calculate the net_input\n",
        "* predict: make a prediction based on a sample input\n",
        "\n",
        "Note: A single perceptron class is only capable of binary classification. In our case we have hardwired the classes as\n",
        "      `-1` and `1`. If you want to make use of the Perceptron class for a new dataset you have to map the target value\n",
        "      to these two classes."
      ],
      "metadata": {
        "id": "XzLm9H61-aZl"
      }
    },
    {
      "cell_type": "code",
      "execution_count": 2,
      "source": [
        "import numpy.random\n",
        "\n",
        "class Perceptron(object):\n",
        "\n",
        "    \"\"\"Perceptron binary classifier.\n",
        "\n",
        "    Parameters\n",
        "    -----------\n",
        "    eta : float\n",
        "       Learning rate (value between 0.0 and 1.0)\n",
        "    epochs  : int\n",
        "       Number of passes over the training set\n",
        "\n",
        "    Attributes\n",
        "    -----------\n",
        "    w_  : 1d-array\n",
        "       Weights after fitting.\n",
        "    errors_   : list\n",
        "       Number of updates (triggered by prediction != target)\n",
        "\n",
        "    \"\"\"\n",
        "\n",
        "    def __init__(self, eta=0.01, epochs=10, random_state=1):\n",
        "        self.eta = eta\n",
        "        self.epochs = epochs\n",
        "        self.random_state = random_state\n",
        "\n",
        "    def fit(self, X, y):\n",
        "        \"\"\" Fit training data; i.e. train the Perceptron\n",
        "\n",
        "        Parameters\n",
        "        -----------\n",
        "        X : dataframe with shape - [n_samples, n_features]\n",
        "          feature vectors, where n_samples is the number of samples\n",
        "          in the data set, n_features is the number of features\n",
        "        y : dataframe with shape = [n_samples].\n",
        "            1 target value per sample (the label).\n",
        "\n",
        "        Returns\n",
        "        -----------\n",
        "        self : object\n",
        "\n",
        "        \"\"\"\n",
        "\n",
        "        # this initialize the weights\n",
        "        rgen = numpy.random.RandomState(self.random_state)\n",
        "        self.w_ = rgen.normal(loc=0.0, scale=0.01, size=1 + X.shape[1])\n",
        "\n",
        "        # this will be used to store the number of updates per epoch\n",
        "        self.errors_ = []\n",
        "\n",
        "        for _ in range(self.epochs):\n",
        "            errors = 0\n",
        "            for xi, target in zip(X, y):\n",
        "                update = self.eta * (target - self.predict(xi))\n",
        "                self.w_[1:] += update * xi\n",
        "                self.w_[0] += update\n",
        "                errors += int(update != 0.0)\n",
        "            self.errors_.append(errors)\n",
        "        return self\n",
        "\n",
        "    def net_input(self, x):\n",
        "        \"\"\"Calculate net input\"\"\"\n",
        "        net_input = sum(t[0] * t[1] for t in zip(x, self.w_[1:])) + self.w_[0]\n",
        "        return net_input\n",
        "\n",
        "    def predict(self, x):\n",
        "        \"\"\"Predict based on computing the net input and the threshold function\"\"\"\n",
        "        net_input = self.net_input(x)\n",
        "        if net_input >= 0.0:\n",
        "            prediction = 1\n",
        "        elif net_input < 0.0:\n",
        "            prediction = -1\n",
        "        return prediction\n",
        "\n",
        "\n",
        "\n"
      ],
      "outputs": [],
      "metadata": {
        "pycharm": {
          "is_executing": false,
          "name": "#%%\n"
        },
        "id": "uwcUZRCU-aZl"
      }
    },
    {
      "cell_type": "markdown",
      "source": [
        "### MNIST Dataset\n",
        "\n",
        "In order to start testing our Perceptron implementation we will move to a different and more realistially sized MNIST dataset.\n",
        "\n",
        "We have already used the MNNIST dataset in the last semester when we started to familiarize us with the Machine Learning workflow.\n",
        "\n",
        "\"MNIST database of handwritten digits, available from this page, has a training set of 60,000 examples, and a test set of 10,000 examples. It is a subset of a larger set available from NIST. The digits have been size-normalized and centered in a fixed-size image.\" (source: http://yann.lecun.com/exdb/mnist/)\n",
        "\n",
        "To save you some time the following cell contains code to download and sort the dataset."
      ],
      "metadata": {
        "id": "2YHbkMVI-aZm"
      }
    },
    {
      "cell_type": "code",
      "execution_count": 3,
      "source": [
        "# Download and sort the dataset\n",
        "\n",
        "# Sorts the dataset by target (i.e the numbers 0-9). Sorts only the first 60000 entries (the training set).\n",
        "def sort_by_target(mnist):\n",
        "    reorder_train = np.array(sorted([(target, i) for i, target in enumerate(mnist.target[:60000])]))[:, 1]\n",
        "    reorder_test = np.array(sorted([(target, i) for i, target in enumerate(mnist.target[60000:])]))[:, 1]\n",
        "    mnist.data[:60000] = mnist.data[reorder_train]\n",
        "    mnist.target[:60000] = mnist.target[reorder_train]\n",
        "    mnist.data[60000:] = mnist.data[reorder_test + 60000]\n",
        "    mnist.target[60000:] = mnist.target[reorder_test + 60000]\n",
        "\n",
        "\n",
        "# Download and sort the dataset\n",
        "try:\n",
        "    from sklearn.datasets import fetch_openml\n",
        "    mnist = fetch_openml('mnist_784', version=1, cache=True, as_frame=False)\n",
        "    mnist.target = mnist.target.astype(np.int8) # fetch_openml() returns targets as strings\n",
        "    sort_by_target(mnist) # fetch_openml() returns an unsorted dataset\n",
        "except ImportError:\n",
        "    from sklearn.datasets import fetch_mldata\n",
        "    mnist = fetch_mldata('MNIST original')\n",
        "mnist[\"data\"], mnist[\"target\"]\n",
        "\n",
        "\n",
        "print(f\"The shape of the target dataset is {mnist.target.shape}\")\n",
        "print(f\"The shape of the sample dataset is {mnist.data.shape}\")\n"
      ],
      "outputs": [
        {
          "output_type": "stream",
          "name": "stderr",
          "text": [
            "/usr/local/lib/python3.10/dist-packages/sklearn/datasets/_openml.py:968: FutureWarning: The default value of `parser` will change from `'liac-arff'` to `'auto'` in 1.4. You can set `parser='auto'` to silence this warning. Therefore, an `ImportError` will be raised from 1.4 if the dataset is dense and pandas is not installed. Note that the pandas parser may return different data types. See the Notes Section in fetch_openml's API doc for details.\n",
            "  warn(\n"
          ]
        },
        {
          "output_type": "stream",
          "name": "stdout",
          "text": [
            "The shape of the target dataset is (70000,)\n",
            "The shape of the sample dataset is (70000, 784)\n"
          ]
        }
      ],
      "metadata": {
        "pycharm": {
          "is_executing": false,
          "name": "#%%\n"
        },
        "colab": {
          "base_uri": "https://localhost:8080/"
        },
        "id": "Vyns7lBA-aZm",
        "outputId": "a0eaaa9e-8fc6-48f9-b08c-2b7acb9e2ada"
      }
    },
    {
      "cell_type": "markdown",
      "source": [
        "## Exercise 1: Create a Binary Training Set\n",
        "\n",
        "In order to start training with our binary classification implementation of the Perceptron we need to select a part of the MNIST dataset consisting of only two digits.\n",
        "\n",
        "As a first exercise create an input `X` holding `10000` samples and a target vector `y` holding `10000` labels based on selection from the loaded and sorted MNIST data from the previous cell.\n",
        "\n",
        "**Note**: Since the implementation of our Perceptron is binary it only will correctly work if we use the target values `-1` and `1`. That means you have to map `0` and `9` to `-1` and `1` in the training data."
      ],
      "metadata": {
        "id": "4eVQDwRl-aZm"
      }
    },
    {
      "cell_type": "code",
      "execution_count": 13,
      "source": [
        "# Use this cell to create the two inputs X and y holding 10000 binary samples for the digits 0 and 9.\n",
        "\n",
        "from sklearn.utils import shuffle\n",
        "\n",
        "\n",
        "# Select 5000 values for 0 and 9 each by manually checking the boundaries or by checking for target value.\n",
        "mnist_0_target = mnist.target[0:5000]\n",
        "mnist_0_data = mnist.data[0:5000]\n",
        "mnist_9_target = mnist.target[6000:11000]\n",
        "mnist_9_data = mnist.data[6000:11000]\n",
        "mnist_bin_0_9_data = np.concatenate((mnist_0_data, mnist_9_data))\n",
        "mnist_bin_0_9_target = np.concatenate((mnist_0_target, mnist_9_target))\n",
        "mnist_bin_0_9_target = np.where(mnist_bin_0_9_target == 0, -1, 1)\n",
        "\n",
        "# Shuffle should be something that the students have to identify as an element that impacts the learning\n",
        "X, y = shuffle(mnist_bin_0_9_data, mnist_bin_0_9_target)\n",
        "#X = mnist_bin_0_9_data\n",
        "#y = mnist_bin_0_9_target\n",
        "\n",
        "\n",
        "print(f\"The input X contains {len(X)} samples.\")\n",
        "print(f\"The target vector y contains {len(y)} samples.\")"
      ],
      "outputs": [
        {
          "output_type": "stream",
          "name": "stdout",
          "text": [
            "The input X contains 10000 samples.\n",
            "The target vector y contains 10000 samples.\n"
          ]
        }
      ],
      "metadata": {
        "pycharm": {
          "is_executing": false,
          "name": "#%%\n"
        },
        "colab": {
          "base_uri": "https://localhost:8080/"
        },
        "id": "IFcFdW9--aZm",
        "outputId": "6742ad11-2ffa-4fd7-fc2c-7c18e6264e51"
      }
    },
    {
      "cell_type": "markdown",
      "source": [
        "## Train Perceptron\n",
        "\n",
        "After you have created a binary dataset with the input `X` and target `y` you should be able to use the cell below in order to fit the Perceptron and plot the progress."
      ],
      "metadata": {
        "id": "UrKNWhpF-aZn"
      }
    },
    {
      "cell_type": "code",
      "execution_count": 14,
      "source": [
        "ppn = Perceptron(eta=0.0001, epochs=3)\n",
        "ppn.fit(X,y)\n",
        "\n",
        "\n",
        "# Plot number of epochs versus number of updates (i.e. errors, false classifications).\n",
        "plt.plot(range(1, len(ppn.errors_) + 1), ppn.errors_, marker='o')\n",
        "plt.xlabel('Epochs')\n",
        "plt.ylabel('Number of updates')\n",
        "plt.show()\n",
        "\n"
      ],
      "outputs": [
        {
          "output_type": "display_data",
          "data": {
            "text/plain": [
              "<Figure size 640x480 with 1 Axes>"
            ],
            "image/png": "[encoded data removed]"
          },
          "metadata": {}
        }
      ],
      "metadata": {
        "pycharm": {
          "is_executing": false,
          "name": "#%%\n"
        },
        "colab": {
          "base_uri": "https://localhost:8080/",
          "height": 449
        },
        "id": "ipdxbA5a-aZn",
        "outputId": "efcbd5a6-8e04-42c5-e936-0e9c5a598d43"
      }
    },
    {
      "cell_type": "markdown",
      "source": [
        "## Exercise 2: Test Trained Model With Samples\n",
        "\n",
        "After completing the training we can start to test how well our implemented perceptron is able to distinguish the handwritten digits `0` and `9`.\n",
        "\n",
        "\n",
        "Use the predict method implemented below to test your trained model with samples.\n",
        "If you call the predict method multple times with different input samples it will render the results every 2 seconds in the output.\n",
        "\n",
        "1. Try to test the Perceptron with a variety of samples for `0` and `9`\n",
        "2. What happens if we test with other digits?\n",
        "3. Try to identify samples for the digits `0` and `9` where the classification fails"
      ],
      "metadata": {
        "id": "UXguRFxG-aZn"
      }
    },
    {
      "cell_type": "code",
      "execution_count": 15,
      "source": [
        "%matplotlib inline\n",
        "\n",
        "from IPython.display import clear_output\n",
        "from time import sleep\n",
        "import matplotlib as mpl\n",
        "import matplotlib.pyplot as plt\n",
        "\n",
        "mpl.rc('axes', labelsize=14)\n",
        "mpl.rc('xtick', labelsize=12)\n",
        "mpl.rc('ytick', labelsize=12)\n",
        "\n",
        "def predict(index):\n",
        "    some_digit = mnist.data[index]\n",
        "    some_digit_image = some_digit.reshape(28, 28)\n",
        "    plt.imshow(some_digit_image, cmap = mpl.cm.binary, interpolation=\"nearest\")\n",
        "    plt.axis(\"off\")\n",
        "    plt.show()\n",
        "    prediction = ppn.predict(mnist.data[index])\n",
        "    target = mnist.target[index]\n",
        "    print(f\"Target {target}\")\n",
        "    print(f\"Prediction {prediction}\")\n",
        "    sleep(2.0)\n",
        "    clear_output(wait=True)\n",
        "\n",
        "\n"
      ],
      "outputs": [],
      "metadata": {
        "pycharm": {
          "is_executing": false
        },
        "id": "gdS--8cs-aZn"
      }
    },
    {
      "cell_type": "code",
      "execution_count": null,
      "source": [
        "# Use this cell to render the output:\n",
        "# 1:) Try to sample with a variety of different inputs\n",
        "# 2:) Try to identify samples with wrong outputs.\n"
      ],
      "outputs": [],
      "metadata": {
        "pycharm": {
          "is_executing": false
        },
        "id": "Vq5LtzI1-aZn"
      }
    },
    {
      "cell_type": "markdown",
      "source": [
        "## Evaluate Trained Model\n",
        "\n",
        "Calculate precision based on using the `accuracy_score` method imported in the cell below.\n",
        "\n",
        "\n",
        "* Evaluate the precision on the `training set` (entries 0-60k).\n",
        "* Evaluate the precision on `the test` (entries 60001 - 70k) set by creating a subset just consisting of `0`, `9` entries.\n"
      ],
      "metadata": {
        "id": "A0im6QrM-aZn"
      }
    },
    {
      "cell_type": "code",
      "execution_count": null,
      "source": [
        "# Implement the calculation based on the training data set.\n",
        "\n",
        "from sklearn.metrics import accuracy_score\n",
        "\n",
        "y_pred = []\n",
        "y_true = []\n",
        "\n",
        "\n",
        "\n",
        "\n",
        "\n",
        "print(f\"Accuracy score on training data: {training_data_score}\")"
      ],
      "outputs": [],
      "metadata": {
        "pycharm": {
          "is_executing": false
        },
        "id": "yT1kr5Ip-aZo"
      }
    },
    {
      "cell_type": "code",
      "execution_count": null,
      "source": [
        "# Implement the calculation based on taking the 0, 9 values from the test data set.\n",
        "\n",
        "\n",
        "\n",
        "\n",
        "\n",
        "\n",
        "test_data_score = accuracy_score(y_true, y_pred)\n",
        "print(f\"Accuracy score on test data: {test_data_score}\")"
      ],
      "outputs": [],
      "metadata": {
        "pycharm": {
          "is_executing": false,
          "name": "#%%\n"
        },
        "id": "m8vztH1i-aZo"
      }
    },
    {
      "cell_type": "code",
      "execution_count": null,
      "source": [
        "\n"
      ],
      "outputs": [],
      "metadata": {
        "pycharm": {
          "name": "#%%\n"
        },
        "id": "leI20bvA-aZo"
      }
    }
  ],
  "metadata": {
    "kernelspec": {
      "display_name": "PyCharm (Perceptron)",
      "language": "python",
      "name": "pycharm-d231b7f0"
    },
    "language_info": {
      "codemirror_mode": {
        "name": "ipython",
        "version": 3
      },
      "file_extension": ".py",
      "mimetype": "text/x-python",
      "name": "python",
      "nbconvert_exporter": "python",
      "pygments_lexer": "ipython3",
      "version": "3.7.3"
    },
    "pycharm": {
      "stem_cell": {
        "cell_type": "raw",
        "source": [],
        "metadata": {
          "collapsed": false
        }
      }
    },
    "colab": {
      "provenance": [],
      "include_colab_link": true
    }
  },
  "nbformat": 4,
  "nbformat_minor": 0
}