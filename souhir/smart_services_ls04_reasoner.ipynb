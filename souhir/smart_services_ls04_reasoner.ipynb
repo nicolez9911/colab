{
  "nbformat": 4,
  "nbformat_minor": 0,
  "metadata": {
    "colab": {
      "provenance": [],
      "authorship_tag": "ABX9TyMX9cZKjkndDQHUG3OPunQC",
      "include_colab_link": true
    },
    "kernelspec": {
      "name": "python3",
      "display_name": "Python 3"
    },
    "language_info": {
      "name": "python"
    }
  },
  "cells": [
    {
      "cell_type": "markdown",
      "metadata": {
        "id": "view-in-github",
        "colab_type": "text"
      },
      "source": [
        "<a href=\"https://colab.research.google.com/github/nicolez9911/colab/blob/main/souhir/smart_services_ls04_reasoner.ipynb\" target=\"_parent\"><img src=\"https://colab.research.google.com/assets/colab-badge.svg\" alt=\"Open In Colab\"/></a>"
      ]
    },
    {
      "cell_type": "code",
      "source": [
        "!pip install owlready2"
      ],
      "metadata": {
        "colab": {
          "base_uri": "https://localhost:8080/"
        },
        "id": "PnEk7Iea-J6V",
        "outputId": "a283efae-34c6-4cc5-a0a1-1865a90fb97c"
      },
      "execution_count": 1,
      "outputs": [
        {
          "output_type": "stream",
          "name": "stdout",
          "text": [
            "Requirement already satisfied: owlready2 in /usr/local/lib/python3.10/dist-packages (0.46)\n"
          ]
        }
      ]
    },
    {
      "cell_type": "code",
      "source": [
        "# Import the owlready and csv Python modules.\n",
        "from owlready2 import *"
      ],
      "metadata": {
        "id": "juiRo8v--Ebl"
      },
      "execution_count": 2,
      "outputs": []
    },
    {
      "cell_type": "code",
      "source": [
        "onto.destroy()"
      ],
      "metadata": {
        "id": "dD-6JwX5COT7"
      },
      "execution_count": 17,
      "outputs": []
    },
    {
      "cell_type": "code",
      "execution_count": 18,
      "metadata": {
        "id": "ESNaZfAY-BGK"
      },
      "outputs": [],
      "source": [
        "# Load the bacteria ontology.\n",
        "onto = get_ontology(\n",
        "    \"http://lesfleursdunormal.fr/static/_downloads/bacteria.owl\"\n",
        ").load()"
      ]
    },
    {
      "cell_type": "code",
      "source": [
        "owlready2.JAVA_EXE = \"/usr/bin/java\""
      ],
      "metadata": {
        "id": "4ETu7-Z7-HX1"
      },
      "execution_count": 4,
      "outputs": []
    },
    {
      "cell_type": "code",
      "source": [
        "onto.unknown_bacterium.__class__"
      ],
      "metadata": {
        "colab": {
          "base_uri": "https://localhost:8080/",
          "height": 121
        },
        "id": "SJITDyflArwC",
        "outputId": "676c37af-17c1-482c-8d96-fe15face0ca8"
      },
      "execution_count": 5,
      "outputs": [
        {
          "output_type": "execute_result",
          "data": {
            "text/plain": [
              "bacteria.Bacterium"
            ],
            "text/html": [
              "<div style=\"max-width:800px; border: 1px solid var(--colab-border-color);\"><style>\n",
              "      pre.function-repr-contents {\n",
              "        overflow-x: auto;\n",
              "        padding: 8px 12px;\n",
              "        max-height: 500px;\n",
              "      }\n",
              "\n",
              "      pre.function-repr-contents.function-repr-contents-collapsed {\n",
              "        cursor: pointer;\n",
              "        max-height: 100px;\n",
              "      }\n",
              "    </style>\n",
              "    <pre style=\"white-space: initial; background:\n",
              "         var(--colab-secondary-surface-color); padding: 8px 12px;\n",
              "         border-bottom: 1px solid var(--colab-border-color);\"><b>owlready2.entity.Bacterium</b><br/>def __init__(name=None, namespace=None, is_a=None, **kargs)</pre><pre class=\"function-repr-contents function-repr-contents-collapsed\" style=\"\"><a class=\"filepath\" style=\"display:none\" href=\"#\">/usr/local/lib/python3.10/dist-packages/owlready2/entity.py</a>&lt;no docstring&gt;</pre>\n",
              "      <script>\n",
              "      if (google.colab.kernel.accessAllowed && google.colab.files && google.colab.files.view) {\n",
              "        for (const element of document.querySelectorAll('.filepath')) {\n",
              "          element.style.display = 'block'\n",
              "          element.onclick = (event) => {\n",
              "            event.preventDefault();\n",
              "            event.stopPropagation();\n",
              "            google.colab.files.view(element.textContent, None);\n",
              "          };\n",
              "        }\n",
              "      }\n",
              "      for (const element of document.querySelectorAll('.function-repr-contents')) {\n",
              "        element.onclick = (event) => {\n",
              "          event.preventDefault();\n",
              "          event.stopPropagation();\n",
              "          element.classList.toggle('function-repr-contents-collapsed');\n",
              "        };\n",
              "      }\n",
              "      </script>\n",
              "      </div>"
            ]
          },
          "metadata": {},
          "execution_count": 5
        }
      ]
    },
    {
      "cell_type": "code",
      "source": [
        "sync_reasoner()"
      ],
      "metadata": {
        "colab": {
          "base_uri": "https://localhost:8080/"
        },
        "id": "UX7umzgG-PKz",
        "outputId": "92c01574-bdf3-4f2b-f61d-cf9c10fb8a1f"
      },
      "execution_count": 6,
      "outputs": [
        {
          "output_type": "stream",
          "name": "stderr",
          "text": [
            "* Owlready2 * Running HermiT...\n",
            "    /usr/bin/java -Xmx2000M -cp /usr/local/lib/python3.10/dist-packages/owlready2/hermit:/usr/local/lib/python3.10/dist-packages/owlready2/hermit/HermiT.jar org.semanticweb.HermiT.cli.CommandLine -c -O -D -I file:////tmp/tmppxgcpcjv\n",
            "* Owlready2 * HermiT took 1.5752897262573242 seconds\n",
            "* Owlready * Reparenting bacteria.unknown_bacterium: {bacteria.Bacterium} => {bacteria.Staphylococcus}\n",
            "* Owlready * (NB: only changes on entities loaded in Python are shown, other changes are done but not listed)\n"
          ]
        }
      ]
    },
    {
      "cell_type": "code",
      "source": [
        "onto.unknown_bacterium.__class__"
      ],
      "metadata": {
        "colab": {
          "base_uri": "https://localhost:8080/",
          "height": 121
        },
        "id": "8LvVswPL-gkE",
        "outputId": "bbfbd24c-aee0-4e13-b0fb-ebb40b1287c8"
      },
      "execution_count": 7,
      "outputs": [
        {
          "output_type": "execute_result",
          "data": {
            "text/plain": [
              "bacteria.Staphylococcus"
            ],
            "text/html": [
              "<div style=\"max-width:800px; border: 1px solid var(--colab-border-color);\"><style>\n",
              "      pre.function-repr-contents {\n",
              "        overflow-x: auto;\n",
              "        padding: 8px 12px;\n",
              "        max-height: 500px;\n",
              "      }\n",
              "\n",
              "      pre.function-repr-contents.function-repr-contents-collapsed {\n",
              "        cursor: pointer;\n",
              "        max-height: 100px;\n",
              "      }\n",
              "    </style>\n",
              "    <pre style=\"white-space: initial; background:\n",
              "         var(--colab-secondary-surface-color); padding: 8px 12px;\n",
              "         border-bottom: 1px solid var(--colab-border-color);\"><b>owlready2.entity.Staphylococcus</b><br/>def __init__(name=None, namespace=None, is_a=None, **kargs)</pre><pre class=\"function-repr-contents function-repr-contents-collapsed\" style=\"\"><a class=\"filepath\" style=\"display:none\" href=\"#\">/usr/local/lib/python3.10/dist-packages/owlready2/entity.py</a>&lt;no docstring&gt;</pre>\n",
              "      <script>\n",
              "      if (google.colab.kernel.accessAllowed && google.colab.files && google.colab.files.view) {\n",
              "        for (const element of document.querySelectorAll('.filepath')) {\n",
              "          element.style.display = 'block'\n",
              "          element.onclick = (event) => {\n",
              "            event.preventDefault();\n",
              "            event.stopPropagation();\n",
              "            google.colab.files.view(element.textContent, None);\n",
              "          };\n",
              "        }\n",
              "      }\n",
              "      for (const element of document.querySelectorAll('.function-repr-contents')) {\n",
              "        element.onclick = (event) => {\n",
              "          event.preventDefault();\n",
              "          event.stopPropagation();\n",
              "          element.classList.toggle('function-repr-contents-collapsed');\n",
              "        };\n",
              "      }\n",
              "      </script>\n",
              "      </div>"
            ]
          },
          "metadata": {},
          "execution_count": 7
        }
      ]
    },
    {
      "cell_type": "code",
      "source": [
        "with onto:\n",
        "  class RodStreptococcus(onto.Streptococcus):\n",
        "    is_a = [onto.has_shape.some(onto.Rod)]"
      ],
      "metadata": {
        "id": "l8djssB7Apm3"
      },
      "execution_count": 8,
      "outputs": []
    },
    {
      "cell_type": "code",
      "source": [
        "sync_reasoner()"
      ],
      "metadata": {
        "colab": {
          "base_uri": "https://localhost:8080/"
        },
        "id": "nrOpaojRA35C",
        "outputId": "7b11df2b-3b49-4034-b51b-0a4744d7865c"
      },
      "execution_count": 9,
      "outputs": [
        {
          "output_type": "stream",
          "name": "stderr",
          "text": [
            "* Owlready2 * Running HermiT...\n",
            "    /usr/bin/java -Xmx2000M -cp /usr/local/lib/python3.10/dist-packages/owlready2/hermit:/usr/local/lib/python3.10/dist-packages/owlready2/hermit/HermiT.jar org.semanticweb.HermiT.cli.CommandLine -c -O -D -I file:////tmp/tmpisfrknv6\n",
            "* Owlready2 * HermiT took 2.666565179824829 seconds\n",
            "* Owlready * Equivalenting: bacteria.RodStreptococcus owl.Nothing\n",
            "* Owlready * (NB: only changes on entities loaded in Python are shown, other changes are done but not listed)\n"
          ]
        }
      ]
    },
    {
      "cell_type": "code",
      "source": [
        "if Nothing in RodStreptococcus.equivalent_to:\n",
        "  print(\"The class is inconsistent!\")\n",
        "else:\n",
        "  print(\"The class is consistent.\")"
      ],
      "metadata": {
        "colab": {
          "base_uri": "https://localhost:8080/"
        },
        "id": "OzIBPoM6A62H",
        "outputId": "ca7a50ab-8f8a-4553-9ea9-e21e06d41b76"
      },
      "execution_count": 20,
      "outputs": [
        {
          "output_type": "stream",
          "name": "stdout",
          "text": [
            "The class is inconsistent!\n"
          ]
        }
      ]
    },
    {
      "cell_type": "code",
      "source": [
        "rod_strepto = onto.RodStreptococcus()"
      ],
      "metadata": {
        "id": "KdW0Ax_8A_ds"
      },
      "execution_count": 11,
      "outputs": []
    },
    {
      "cell_type": "code",
      "source": [
        "try:\n",
        "  sync_reasoner()\n",
        "  print(\"Ok, the ontology is consistent.\")\n",
        "except OwlReadyInconsistentOntologyError:\n",
        "  print(\"The ontology is inconsistent!\")"
      ],
      "metadata": {
        "colab": {
          "base_uri": "https://localhost:8080/"
        },
        "id": "LF_XVbiMBTzn",
        "outputId": "82446a24-28b9-4dfc-b306-b0a28cab8eb8"
      },
      "execution_count": 19,
      "outputs": [
        {
          "output_type": "stream",
          "name": "stderr",
          "text": [
            "* Owlready2 * Running HermiT...\n",
            "    /usr/bin/java -Xmx2000M -cp /usr/local/lib/python3.10/dist-packages/owlready2/hermit:/usr/local/lib/python3.10/dist-packages/owlready2/hermit/HermiT.jar org.semanticweb.HermiT.cli.CommandLine -c -O -D -I file:////tmp/tmpd8l8arkr\n"
          ]
        },
        {
          "output_type": "stream",
          "name": "stdout",
          "text": [
            "Ok, the ontology is consistent.\n"
          ]
        },
        {
          "output_type": "stream",
          "name": "stderr",
          "text": [
            "* Owlready2 * HermiT took 1.2634479999542236 seconds\n",
            "* Owlready * Reparenting bacteria.Staphylococcus: {owl.Thing} => {bacteria.Coccus}\n",
            "* Owlready * (NB: only changes on entities loaded in Python are shown, other changes are done but not listed)\n"
          ]
        }
      ]
    },
    {
      "cell_type": "code",
      "source": [
        "onto.destroy()"
      ],
      "metadata": {
        "id": "0wFSHxAqBatB"
      },
      "execution_count": 13,
      "outputs": []
    },
    {
      "cell_type": "code",
      "source": [
        "onto_person = get_ontology(\"http://test.org/person.owl#\")"
      ],
      "metadata": {
        "id": "frXSYkKaDbdX"
      },
      "execution_count": 21,
      "outputs": []
    },
    {
      "cell_type": "code",
      "source": [
        "with onto_person:\n",
        "  class Person(Thing):\n",
        "    pass\n",
        "  class age (Person >> int , FunctionalProperty):\n",
        "    pass\n",
        "  class size(Person >> float, FunctionalProperty):\n",
        "    pass\n",
        "  class Elderly(Person):\n",
        "    equivalent_to = [\n",
        "      Person & age.some(ConstrainedDatatype(int,\n",
        "      min_inclusive = 65))\n",
        "    ]\n",
        "  class TallPerson(Person):\n",
        "    equivalent_to = [\n",
        "      Person & (size >= 1.8) # Shortened notation\n",
        "    ]\n",
        "  p1 = Person(age = 25, size = 2.0)\n",
        "  p2 = Person(age = 39, size = 1.7)\n",
        "  p3 = Person(age = 65, size = 1.6)\n",
        "  p4 = Person(age = 71, size = 1.9)\n",
        "\n",
        "p1, p2, p3, p4"
      ],
      "metadata": {
        "colab": {
          "base_uri": "https://localhost:8080/"
        },
        "id": "GSLg6MWrCKld",
        "outputId": "4a18f1c2-e3f2-46b8-918f-67cc6d5e8851"
      },
      "execution_count": 24,
      "outputs": [
        {
          "output_type": "execute_result",
          "data": {
            "text/plain": [
              "(person.person5, person.person6, person.person7, person.person8)"
            ]
          },
          "metadata": {},
          "execution_count": 24
        }
      ]
    },
    {
      "cell_type": "code",
      "source": [
        "print(\"p1\", p1.is_a)\n",
        "print(\"p2\", p2.is_a)\n",
        "print(\"p3\", p3.is_a)\n",
        "print(\"p4\", p4.is_a)"
      ],
      "metadata": {
        "colab": {
          "base_uri": "https://localhost:8080/"
        },
        "id": "6Gn6PhW5Dn13",
        "outputId": "5a311783-23c2-4cf3-ae38-0e93838c3bde"
      },
      "execution_count": 27,
      "outputs": [
        {
          "output_type": "stream",
          "name": "stdout",
          "text": [
            "p1 [person.Person]\n",
            "p2 [person.Person]\n",
            "p3 [person.Person]\n",
            "p4 [person.Person]\n"
          ]
        }
      ]
    },
    {
      "cell_type": "code",
      "source": [
        "sync_reasoner(onto_person)"
      ],
      "metadata": {
        "colab": {
          "base_uri": "https://localhost:8080/"
        },
        "id": "DHpbx0k3D7uq",
        "outputId": "5bb41753-19dc-40e2-a53b-bd1c54a0499b"
      },
      "execution_count": 29,
      "outputs": [
        {
          "output_type": "stream",
          "name": "stderr",
          "text": [
            "* Owlready2 * Running HermiT...\n",
            "    /usr/bin/java -Xmx2000M -cp /usr/local/lib/python3.10/dist-packages/owlready2/hermit:/usr/local/lib/python3.10/dist-packages/owlready2/hermit/HermiT.jar org.semanticweb.HermiT.cli.CommandLine -c -O -D -I file:////tmp/tmpaokvyk5p\n",
            "* Owlready2 * HermiT took 1.2787463665008545 seconds\n",
            "* Owlready * (NB: only changes on entities loaded in Python are shown, other changes are done but not listed)\n"
          ]
        }
      ]
    },
    {
      "cell_type": "code",
      "source": [
        "print(\"p1\", p1.is_a)\n",
        "print(\"p2\", p2.is_a)\n",
        "print(\"p3\", p3.is_a)\n",
        "print(\"p4\", p4.is_a)"
      ],
      "metadata": {
        "colab": {
          "base_uri": "https://localhost:8080/"
        },
        "id": "wUSvU0FOELzw",
        "outputId": "762619b8-cf5b-44ce-c33d-b4301ffa9082"
      },
      "execution_count": 30,
      "outputs": [
        {
          "output_type": "stream",
          "name": "stdout",
          "text": [
            "p1 [person.TallPerson]\n",
            "p2 [person.Person]\n",
            "p3 [person.Elderly]\n",
            "p4 [person.TallPerson, person.Elderly]\n"
          ]
        }
      ]
    },
    {
      "cell_type": "code",
      "source": [],
      "metadata": {
        "id": "2EQWoSrLENsG"
      },
      "execution_count": null,
      "outputs": []
    }
  ]
}