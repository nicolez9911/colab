{
  "cells": [
    {
      "cell_type": "markdown",
      "metadata": {
        "id": "view-in-github",
        "colab_type": "text"
      },
      "source": [
        "<a href=\"https://colab.research.google.com/github/nicolez9911/colab/blob/main/AdvML_L1S4_N1_Solution_ImplementingPerceptron.ipynb\" target=\"_parent\"><img src=\"https://colab.research.google.com/assets/colab-badge.svg\" alt=\"Open In Colab\"/></a>"
      ]
    },
    {
      "cell_type": "markdown",
      "source": [
        "# 04_EX_01 Implementing a Single Neuron Perceptron\n",
        "\n",
        "This exercise notebook focuses on the implementation of a single neuron perceptron from scratch."
      ],
      "metadata": {
        "collapsed": false,
        "id": "KfOv3TZV3e0m"
      }
    },
    {
      "cell_type": "markdown",
      "source": [
        "## 1. Implementing the Perceptron class\n",
        "\n",
        "The next cell contains a skeleton outline of a class Perceptron (method names and signatures\n",
        "and field names are pre-defined).\n",
        "\n",
        "Complete the implementation of the Perceptron based on:\n",
        " * decision function\n",
        " * learning rule\n",
        "\n",
        "introduced in the 04_WeightBasedLearning_Perceptron slides.\n",
        "\n",
        "The template for the class consists of the following methods:\n",
        "\n",
        "* fit: train the Perceptron\n",
        "* net_input: calculate the net_input\n",
        "* predict: make a prediction based on a sample input\n",
        "\n",
        "Complete the implementation of these three methods.\n",
        "Your implementation has to be compatible with the\n",
        "\n",
        "Hint: It is probably easiest to start with the `predict` method followed by `net_input`.\n",
        "\n",
        "\n"
      ],
      "metadata": {
        "collapsed": false,
        "id": "HPUQSIeZ3e0r"
      }
    },
    {
      "cell_type": "code",
      "execution_count": null,
      "outputs": [],
      "source": [
        "import numpy.random\n",
        "\n",
        "class Perceptron(object):\n",
        "\n",
        "    \"\"\"Perceptron binary classifier.\n",
        "\n",
        "    Parameters\n",
        "    -----------\n",
        "    eta : float\n",
        "       Learning rate (value between 0.0 and 1.0)\n",
        "    epochs  : int\n",
        "       Number of passes over the training set\n",
        "\n",
        "    Attributes\n",
        "    -----------\n",
        "    w_  : 1d-array\n",
        "       Weights after fitting.\n",
        "    errors_   : list\n",
        "       Number of updates (triggered by prediction != target)\n",
        "\n",
        "    \"\"\"\n",
        "\n",
        "    def __init__(self, eta=0.01, epochs=10, random_state=1):\n",
        "        self.eta = eta\n",
        "        self.epochs = epochs\n",
        "        self.random_state = random_state\n",
        "\n",
        "    def fit(self, X, y):\n",
        "        \"\"\" Fit training data; i.e. train the Perceptron\n",
        "\n",
        "        Parameters\n",
        "        -----------\n",
        "        X : dataframe with shape - [n_samples, n_features]\n",
        "          feature vectors, where n_samples is the number of samples\n",
        "          in the data set, n_features is the number of features\n",
        "        y : dataframe with shape = [n_samples].\n",
        "            1 target value per sample (the label).\n",
        "\n",
        "        Returns\n",
        "        -----------\n",
        "        self : object\n",
        "\n",
        "        \"\"\"\n",
        "\n",
        "        # this initialize the weights\n",
        "        rgen = numpy.random.RandomState(self.random_state)\n",
        "        self.w_ = rgen.normal(loc=0.0, scale=0.01, size=1 + X.shape[1])\n",
        "\n",
        "        # this will be used to store the number of updates per epoch\n",
        "        self.errors_ = []\n",
        "\n",
        "        for _ in range(self.epochs):\n",
        "            errors = 0\n",
        "            for xi, target in zip(X, y):\n",
        "                update = self.eta * (target - self.predict(xi))\n",
        "                self.w_[1:] += update * xi\n",
        "                self.w_[0] += update\n",
        "                errors += int(update != 0.0)\n",
        "            self.errors_.append(errors)\n",
        "        return self\n",
        "\n",
        "    def net_input(self, x):\n",
        "        \"\"\"Calculate net input\"\"\"\n",
        "        net_input = sum(t[0] * t[1] for t in zip(x, self.w_[1:])) + self.w_[0]\n",
        "        return net_input\n",
        "\n",
        "    def predict(self, x):\n",
        "        \"\"\"Predict based on computing the net input and the threshold function\"\"\"\n",
        "        net_input = self.net_input(x)\n",
        "        if net_input >= 0.0:\n",
        "            prediction = 1\n",
        "        elif net_input < 0.0:\n",
        "            prediction = -1\n",
        "        return prediction"
      ],
      "metadata": {
        "pycharm": {
          "name": "#%%\n"
        },
        "id": "OekS-Khm3e0s"
      }
    },
    {
      "cell_type": "markdown",
      "source": [
        "## 2. Data Provision\n",
        "\n",
        "The following cells are focused on:\n",
        "\n",
        "* loading the IRIS dataset into a dataframe.\n",
        "* transforming the dataset to a binary classification problem with 2 features\n",
        "* plotting the transformed dataset"
      ],
      "metadata": {
        "collapsed": false,
        "id": "nlKqkrPe3e0u"
      }
    },
    {
      "cell_type": "markdown",
      "source": [
        "### 2.1 Load the Iris dataset into a dataframe"
      ],
      "metadata": {
        "collapsed": false,
        "id": "x0JxZC3P3e0v"
      }
    },
    {
      "cell_type": "code",
      "execution_count": null,
      "outputs": [],
      "source": [
        "import pandas as pd\n",
        "\n",
        "df = pd.read_csv('https://archive.ics.uci.edu/ml/machine-learning-databases/iris/iris.data', header=None)\n",
        "df.tail()"
      ],
      "metadata": {
        "pycharm": {
          "name": "#%% \n"
        },
        "id": "xeyDkm2Z3e0v"
      }
    },
    {
      "cell_type": "markdown",
      "source": [
        "### 2.2. Apply Slicing to Create a Binary Classification Dataset\n",
        "\n",
        "We apply two major transformations:\n",
        "\n",
        "a) Slice the data to restrict the dataset to two plant species:\n",
        "We do this, so we are able to classify with a 'vanilla' Perceptron implementation\n",
        "using the simple binary threshold function.\n",
        "\n",
        "b) Only use two of the four features: This makes it easier to comprehend what is going\n",
        "on under the hood, and makes for easy 2D plotting.\n",
        "\n",
        "<a id='plot_dataset'></a>"
      ],
      "metadata": {
        "collapsed": false,
        "id": "B2o9zRgP3e0w"
      }
    },
    {
      "cell_type": "code",
      "execution_count": null,
      "outputs": [],
      "source": [
        "import matplotlib.pyplot as plt\n",
        "import numpy as np\n",
        "\n",
        "# create a binary classification problem by selecting setosa and versicolor samples only\n",
        "y = df.iloc[0:100, 4].values\n",
        "# encode the labels as values -1 and 1\n",
        "y = np.where(y == \"Iris-setosa\", -1, 1)\n",
        "\n",
        "# select sepal length and petal length as features and store as X\n",
        "X = df.iloc[0:100, [0, 2]].values\n",
        "\n",
        "# plot data\n",
        "plt.scatter(X[:50, 0], X[:50, 1], color='red', marker='o', label='setosa')\n",
        "plt.scatter(X[50:100, 0], X[50:100, 1], color='blue', marker='x', label='versicolor')\n",
        "plt.xlabel('sepal length [cm]')\n",
        "plt.ylabel('petal length [cm]')\n",
        "plt.legend(loc='upper left')\n",
        "plt.show()"
      ],
      "metadata": {
        "pycharm": {
          "name": "#%%\n"
        },
        "id": "e5e8myjM3e0w"
      }
    },
    {
      "cell_type": "markdown",
      "source": [
        "### 2.3 Train Perceptron\n",
        "\n",
        "Train the Perceptron with the $$X$$, $$y$$ dataset we have defined."
      ],
      "metadata": {
        "collapsed": false,
        "id": "uXcCMe263e0x"
      }
    },
    {
      "cell_type": "code",
      "execution_count": null,
      "outputs": [],
      "source": [
        "ppn = Perceptron(eta=0.01, epochs=10)\n",
        "ppn.fit(X,y)"
      ],
      "metadata": {
        "pycharm": {
          "name": "#%%\n"
        },
        "id": "goHpFtKa3e0y"
      }
    },
    {
      "cell_type": "markdown",
      "source": [
        "### 2.4 Plot Training Progress\n",
        "\n",
        "Plot the training progress by looking at the number of updates triggered by $$ \\hat{y} \\neq y$$ (misclassification).\n",
        "<a id='plot_training_progress'></a>"
      ],
      "metadata": {
        "collapsed": false,
        "id": "LvEw9X0b3e0y"
      }
    },
    {
      "cell_type": "code",
      "execution_count": null,
      "outputs": [],
      "source": [
        "# Plot number of epochs versus number of updates (i.e. errors, false classifications).\n",
        "plt.plot(range(1, len(ppn.errors_) + 1), ppn.errors_, marker='o')\n",
        "plt.xlabel('Epochs')\n",
        "plt.ylabel('Number of updates')\n",
        "plt.show()"
      ],
      "metadata": {
        "pycharm": {
          "name": "#%%\n"
        },
        "id": "K_TZATBI3e0y"
      }
    },
    {
      "cell_type": "markdown",
      "source": [
        "### 2.5 Questions\n",
        "\n",
        "Write down your answers and thoughts on the following questions in this markdown cell.\n",
        "\n",
        "**Question 1: What is the shape of the weight vector (i.e. its dimensionality)?**\n",
        "\n",
        "...\n",
        "\n",
        "**Question 2: To which feature do the weights in the following dimensions in the weight vector belong?**\n",
        "\n",
        "* Dimension 1: sepal length in cm\n",
        "* Dimension 2: petal length in cm\n",
        "\n",
        "**Question 3: Just by looking at the plot under [2.2](#plot_dataset) what is your expectation for\n",
        " the trained weights in terms of being positive and negative.**\n",
        "\n",
        "* Dimension 1:\n",
        "* Dimension 2:\n",
        "\n",
        "Hint: Remember we have defined `Iris-Setosa` as the discrete value `-1` and `Iris-Virginica` as `1`.\n",
        "\n",
        "**Question 4: Describe in your own words what can be observed in plot [2.4](#plot_training_progress)?**\n",
        "\n",
        "...\n",
        "\n",
        "**Question 5: How many samples are misclassified in an epoch when the number of updates is 0?**\n",
        "\n",
        "* Number of misclassified samples:\n",
        "\n",
        "**Question 6: Confirm your observations made in relation to question 4 by looking at the\n",
        "              change of the weights after each update (i.e. the state of the weight vector after each update).**\n",
        "              \n",
        " ..."
      ],
      "metadata": {
        "collapsed": false,
        "id": "9rcUpJus3e0z"
      }
    },
    {
      "cell_type": "markdown",
      "source": [
        "## 3. Plot Perceptron Decision Boundary\n",
        "\n",
        "### 3.1 Create Random Dataset\n",
        "The next cell defines a method to create a random dataset consisting of the two\n",
        "selected species, and defines a plot that shows the decision boundary of the\n",
        "Perceptron."
      ],
      "metadata": {
        "collapsed": false,
        "id": "fjyrWln23e0z"
      }
    },
    {
      "cell_type": "code",
      "execution_count": null,
      "outputs": [],
      "source": [
        "from matplotlib.colors import ListedColormap\n",
        "\n",
        "def plot_decision_regions(X, y, classifier, resolution=0.02):\n",
        "    # setup marker generator and color map\n",
        "    markers = ('s', 'x', 'o', '^', 'v')\n",
        "    colors = ('red', 'blue', 'lightgreen', 'gray', 'cyan')\n",
        "    cmap = ListedColormap(colors[:len(np.unique(y))])\n",
        "\n",
        "    # plot the decision surface\n",
        "\n",
        "    x1_min, x1_max = X[:, 0].min() - 1, X[:, 0].max() + 1\n",
        "    x2_min, x2_max = X[:, 1].min() - 1, X[:, 1].max() + 1\n",
        "    xx1, xx2 = np.meshgrid(np.arange(x1_min, x1_max, resolution),\n",
        "                            np.arange(x2_min, x2_max, resolution))\n",
        "    transposedObject = np.array([xx1.ravel(), xx2.ravel()]).T\n",
        "\n",
        "    results = []\n",
        "    for row in range(transposedObject.shape[0]):\n",
        "        results.append(classifier.predict(transposedObject[row,:]))\n",
        "\n",
        "    Z = np.reshape(results, xx1.shape)\n",
        "\n",
        "    plt.contourf(xx1, xx2, Z, alpha=0.3, cmap=cmap)\n",
        "    plt.xlim(xx1.min(), xx1.max())\n",
        "    plt.ylim(xx2.min(), xx2.max())\n",
        "\n",
        "    # plot class samples\n",
        "    for idx, cl in enumerate(np.unique(y)):\n",
        "        plt.scatter(x=X[y == cl, 0],\n",
        "            y=X[y == cl, 1],\n",
        "            alpha=0.8,\n",
        "            c=colors[idx],\n",
        "            marker=markers[idx],\n",
        "            label=cl,\n",
        "            edgecolor='black')"
      ],
      "metadata": {
        "pycharm": {
          "name": "#%%\n"
        },
        "id": "TdzVU2Ci3e0z"
      }
    },
    {
      "cell_type": "markdown",
      "source": [
        "### 3.2 Plot Decision Boundary"
      ],
      "metadata": {
        "collapsed": false,
        "id": "6tZsYJbL3e0z"
      }
    },
    {
      "cell_type": "code",
      "execution_count": null,
      "outputs": [],
      "source": [
        "plot_decision_regions(X, y, classifier=ppn)\n",
        "\n",
        "plt.xlabel('sepal length [cm]')\n",
        "plt.ylabel('petal length [cm]')\n",
        "plt.legend(loc='upper left')\n",
        "plt.show()"
      ],
      "metadata": {
        "pycharm": {
          "name": "#%% \n"
        },
        "id": "H7mqSOVS3e0z"
      }
    },
    {
      "cell_type": "code",
      "execution_count": null,
      "outputs": [],
      "source": [],
      "metadata": {
        "pycharm": {
          "name": "#%%\n"
        },
        "id": "7ijbkJSc3e00"
      }
    }
  ],
  "metadata": {
    "kernelspec": {
      "name": "pycharm-d231b7f0",
      "language": "python",
      "display_name": "PyCharm (Perceptron)"
    },
    "language_info": {
      "codemirror_mode": {
        "name": "ipython",
        "version": 2
      },
      "file_extension": ".py",
      "mimetype": "text/x-python",
      "name": "python",
      "nbconvert_exporter": "python",
      "pygments_lexer": "ipython2",
      "version": "2.7.6"
    },
    "pycharm": {
      "stem_cell": {
        "cell_type": "raw",
        "source": [],
        "metadata": {
          "collapsed": false
        }
      }
    },
    "colab": {
      "provenance": [],
      "include_colab_link": true
    }
  },
  "nbformat": 4,
  "nbformat_minor": 0
}