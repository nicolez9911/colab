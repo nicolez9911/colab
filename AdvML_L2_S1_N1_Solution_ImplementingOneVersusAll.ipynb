{
  "cells": [
    {
      "cell_type": "markdown",
      "metadata": {
        "id": "view-in-github",
        "colab_type": "text"
      },
      "source": [
        "<a href=\"https://colab.research.google.com/github/nicolez9911/colab/blob/main/AdvML_L2_S1_N1_Solution_ImplementingOneVersusAll.ipynb\" target=\"_parent\"><img src=\"https://colab.research.google.com/assets/colab-badge.svg\" alt=\"Open In Colab\"/></a>"
      ]
    },
    {
      "cell_type": "markdown",
      "source": [
        "# One versus All (OvA)\n",
        "\n",
        "This notebook provides a stub for implementing the One versus All approach.\n"
      ],
      "metadata": {
        "collapsed": false,
        "pycharm": {
          "name": "#%% md\n"
        },
        "id": "6sblgagD3K-A"
      }
    },
    {
      "cell_type": "markdown",
      "source": [
        "### Imports\n"
      ],
      "metadata": {
        "collapsed": false,
        "pycharm": {
          "name": "#%% md\n",
          "is_executing": false
        },
        "id": "heWKaNGB3K-E"
      }
    },
    {
      "cell_type": "code",
      "execution_count": null,
      "outputs": [],
      "source": [
        "import numpy as np\n"
      ],
      "metadata": {
        "pycharm": {
          "name": "#%%\n"
        },
        "id": "_AvGPN-h3K-E"
      }
    },
    {
      "cell_type": "markdown",
      "source": [
        "### Adapted Perceptron Class\n",
        "\n",
        "In order to use the class for the OvA approach we make three changes:\n",
        "\n",
        "* fit method now returns a weight vector\n",
        "* net_input expects a weight vector as parameter\n",
        "* predict method expects a weight vector as parameter"
      ],
      "metadata": {
        "collapsed": false,
        "pycharm": {
          "name": "#%% md\n",
          "is_executing": false
        },
        "id": "tkJW3clV3K-G"
      }
    },
    {
      "cell_type": "code",
      "execution_count": null,
      "outputs": [],
      "source": [
        "class Perceptron(object):\n",
        "\n",
        "    \"\"\"Perceptron binary classifier.\n",
        "\n",
        "    Parameters\n",
        "    -----------\n",
        "    eta : float\n",
        "       Learning rate (value between 0.0 and 1.0)\n",
        "    epochs  : int\n",
        "       Number of passes over the training set\n",
        "\n",
        "    Attributes\n",
        "    -----------\n",
        "\n",
        "\n",
        "    \"\"\"\n",
        "\n",
        "    def __init__(self, eta=0.01, epochs=10, random_state=1):\n",
        "        self.eta = eta\n",
        "        self.epochs = epochs\n",
        "        self.random_state = random_state\n",
        "\n",
        "    def fit(self, X, y):\n",
        "        \"\"\" Fit training data; i.e. train the Perceptron\n",
        "\n",
        "        Parameters\n",
        "        -----------\n",
        "        X : dataframe with shape - [n_samples, n_features]\n",
        "          feature vectors, where n_samples is the number of samples\n",
        "          in the data set, n_features is the number of features\n",
        "        y : dataframe with shape = [n_samples].\n",
        "            1 target value per sample (the label).\n",
        "\n",
        "        Returns\n",
        "        -----------\n",
        "        self : weight vector w\n",
        "\n",
        "        \"\"\"\n",
        "\n",
        "        # this initialize the weights\n",
        "        rgen = np.random.RandomState(self.random_state)\n",
        "        w = rgen.normal(loc=0.0, scale=0.01, size=1 + X.shape[1])\n",
        "\n",
        "        # this will be used to store the number of updates per epoch\n",
        "\n",
        "\n",
        "        for _ in range(self.epochs):\n",
        "            for xi, target in zip(X, y.T):\n",
        "                update = self.eta * (target - self.predict(xi, w))\n",
        "                w[1:] += update * xi\n",
        "                w[0] += update\n",
        "        return w\n",
        "\n",
        "    def net_input(self, x, w):\n",
        "        \"\"\"Calculate net input for given sample vector and weight vector\"\"\"\n",
        "        net_input = w[0] + sum(t[0] * t[1] for t in zip(x, w[1:]))\n",
        "        return net_input\n",
        "\n",
        "    def predict(self, x, w):\n",
        "        \"\"\"Predict based on computing the net input and the threshold function\"\"\"\n",
        "        net_input = self.net_input(x, w)\n",
        "        if net_input >= 0.0:\n",
        "            prediction = 1\n",
        "        elif net_input < 0.0:\n",
        "            prediction = -1\n",
        "        return prediction\n",
        "\n",
        ""
      ],
      "metadata": {
        "pycharm": {
          "name": "#%%\n"
        },
        "id": "unsT9BzW3K-G"
      }
    },
    {
      "cell_type": "markdown",
      "source": [
        "### Import the IRIS dataset\n",
        "\n",
        "The cell below imports the full IRIS dataset as contained in sklearn.   "
      ],
      "metadata": {
        "collapsed": false,
        "pycharm": {
          "name": "#%% md\n"
        },
        "id": "DNs75Lib3K-H"
      }
    },
    {
      "cell_type": "code",
      "execution_count": null,
      "outputs": [],
      "source": [
        "from sklearn import datasets\n",
        "\n",
        "iris = datasets.load_iris()\n",
        "y = iris.target\n",
        "X = iris.data[:,:]"
      ],
      "metadata": {
        "pycharm": {
          "name": "#%%\n",
          "is_executing": false
        },
        "id": "GVpMfw2k3K-H"
      }
    },
    {
      "cell_type": "markdown",
      "source": [
        "### Exercise 1: Analyse Transformation of Targets\n",
        "\n",
        "Take a look at below method and compare it to the discussion we had of the OvA approach.\n",
        "The method provides a key implementation piece necessary for implementing a very simple\n",
        "OvA classifier based on our Perceptron implementation.\n",
        "\n"
      ],
      "metadata": {
        "collapsed": false,
        "pycharm": {
          "name": "#%% md\n"
        },
        "id": "MQkcYZMp3K-I"
      }
    },
    {
      "cell_type": "code",
      "execution_count": null,
      "outputs": [],
      "source": [
        "import copy\n",
        "\n",
        "def split_targets(y):\n",
        "    # identify the number of classes in the dataset\n",
        "    cn = np.size(np.unique(y))\n",
        "    sub_t =  []\n",
        "    for c in range(0,cn):\n",
        "        # prepare temporary C vs notC sub-probem labels\n",
        "        y_temp = copy.deepcopy(y)\n",
        "        ind = np.argwhere(y_temp.astype(int) == c)\n",
        "        ind = ind[:,0]\n",
        "        ind2 = np.argwhere(y_temp.astype(int) != c)\n",
        "        ind2 = ind2[:,0]\n",
        "        #Check indices\n",
        "        y_temp[[ind]] = 1\n",
        "        y_temp[[ind2]] = -1\n",
        "        sub_t.append(y_temp)\n",
        "    return sub_t\n",
        ""
      ],
      "metadata": {
        "pycharm": {
          "name": "#%%\n",
          "is_executing": false
        },
        "id": "EIxQZhC43K-J"
      }
    },
    {
      "cell_type": "markdown",
      "source": [
        "### Exercise 2: Implement OvA classification\n",
        "\n",
        " 1. Implement the most simplistic OvA implementation.\n",
        "Using the split_targets method should make it much easier to do so.\n",
        "\n",
        " 2. Test your trained weight vectors for each class with samples from the IRIS dataset.\n",
        "    It suffices if you print the scores for the different weight vectors. We just want\n",
        "    to get to the point where we can see the principle of OvA in action.\n",
        "  \n"
      ],
      "metadata": {
        "collapsed": false,
        "pycharm": {
          "name": "#%% md\n",
          "is_executing": false
        },
        "id": "obsAF_Qi3K-J"
      }
    },
    {
      "cell_type": "code",
      "execution_count": null,
      "outputs": [
        {
          "name": "stderr",
          "text": [
            "/home/dev/BIN/anaconda3/envs/deng_ml/lib/python3.7/site-packages/ipykernel_launcher.py:19: FutureWarning: Using a non-tuple sequence for multidimensional indexing is deprecated; use `arr[tuple(seq)]` instead of `arr[seq]`. In the future this will be interpreted as an array index, `arr[np.array(seq)]`, which will result either in an error or a different result.\n/home/dev/BIN/anaconda3/envs/deng_ml/lib/python3.7/site-packages/ipykernel_launcher.py:20: FutureWarning: Using a non-tuple sequence for multidimensional indexing is deprecated; use `arr[tuple(seq)]` instead of `arr[seq]`. In the future this will be interpreted as an array index, `arr[np.array(seq)]`, which will result either in an error or a different result.\n"
          ],
          "output_type": "stream"
        },
        {
          "name": "stdout",
          "text": [
            "-2.852823671031209\n-7.4208236710301865\n30.757176328968256\n"
          ],
          "output_type": "stream"
        }
      ],
      "source": [
        "# the number of classes. This should be useful for the implementation\n",
        "cnum = np.size(np.unique(y))\n",
        "\n",
        "# transform the target to be compatible with OvA\n",
        "sub_targets = split_targets(y)\n",
        "\n",
        "# train the C weight vectors (1 for each class)\n",
        "ppn = Perceptron(eta=0.1, epochs=300)\n",
        "weights = []\n",
        "for c in range(0,cnum):\n",
        "    temp_w = ppn.fit(X, sub_targets[c])\n",
        "    weights.append(temp_w)\n",
        "\n",
        "\n",
        "# test your implementation with multiple\n",
        "x = X[2,:]\n",
        "for c in range(0,cnum):\n",
        "    print(ppn.net_input(x, weights[c]))\n"
      ],
      "metadata": {
        "pycharm": {
          "name": "#%%\n",
          "is_executing": false
        },
        "id": "wKTTsL3k3K-J",
        "outputId": "79391d4b-6fb4-4aad-b9bd-b105ab5f0b74"
      }
    },
    {
      "cell_type": "markdown",
      "source": [
        "### Exercise 3: Train and Test with MNIST\n",
        "\n",
        "Test your OvA implementation with the MINIST dataset.\n",
        "\n",
        "1. Import the MNIST dataset\n",
        "2. Train an OvA classifier for the full set of digits or a subset\n",
        "3. Conduct some sanity checks by testing with number samples"
      ],
      "metadata": {
        "collapsed": false,
        "pycharm": {
          "name": "#%% md\n",
          "is_executing": false
        },
        "id": "4LdnPzZ83K-K"
      }
    },
    {
      "cell_type": "code",
      "execution_count": null,
      "outputs": [],
      "source": [],
      "metadata": {
        "pycharm": {
          "name": "#%%\n"
        },
        "id": "Jtx8EBQf3K-K"
      }
    }
  ],
  "metadata": {
    "language_info": {
      "codemirror_mode": {
        "name": "ipython",
        "version": 2
      },
      "file_extension": ".py",
      "mimetype": "text/x-python",
      "name": "python",
      "nbconvert_exporter": "python",
      "pygments_lexer": "ipython2",
      "version": "2.7.6"
    },
    "kernelspec": {
      "name": "pycharm-d231b7f0",
      "language": "python",
      "display_name": "PyCharm (Perceptron)"
    },
    "pycharm": {
      "stem_cell": {
        "cell_type": "raw",
        "source": [],
        "metadata": {
          "collapsed": false
        }
      }
    },
    "colab": {
      "provenance": [],
      "include_colab_link": true
    }
  },
  "nbformat": 4,
  "nbformat_minor": 0
}