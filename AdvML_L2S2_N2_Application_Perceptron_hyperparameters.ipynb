{
  "cells": [
    {
      "cell_type": "markdown",
      "metadata": {
        "id": "view-in-github",
        "colab_type": "text"
      },
      "source": [
        "<a href=\"https://colab.research.google.com/github/nicolez9911/colab/blob/main/AdvML_L2S2_N2_Application_Perceptron_hyperparameters.ipynb\" target=\"_parent\"><img src=\"https://colab.research.google.com/assets/colab-badge.svg\" alt=\"Open In Colab\"/></a>"
      ]
    },
    {
      "cell_type": "markdown",
      "source": [
        "# 06_EX_01 Application of a Perceptron - Hyperparameters\n",
        "\n",
        "This exercise notebook focuses on making use of our Perceptron implementation to explore the effects and\n",
        "optimization strategies for hyperparameters.\n",
        "\n",
        "Estimated time for Exercise 1-3 45 - 60 min."
      ],
      "metadata": {
        "id": "rTMqQSRQVJHZ"
      }
    },
    {
      "cell_type": "markdown",
      "source": [
        "## 1. Perceptron class\n",
        "\n",
        "We will re-use the Perceptron calass from `04_EX_01`.\n",
        "\n",
        "The class is capable of doing binary classification and provides of the following methods:\n",
        "\n",
        "* fit: train the Perceptron\n",
        "* net_input: calculate the net_input\n",
        "* predict: make a prediction based on a sample input\n",
        "\n",
        "Note: A single perceptron class is only capable of binary classification. In our case we have hardwired the classes as\n",
        "      `-1` and `1`. If you want to make use of the Perceptron class for a new dataset you have to map the target value\n",
        "      to these two classes."
      ],
      "metadata": {
        "id": "eoMCzMUcVJHc"
      }
    },
    {
      "cell_type": "code",
      "execution_count": null,
      "source": [
        "import matplotlib.pyplot as plt\n",
        "import numpy as np\n",
        "import numpy.random\n",
        "import os\n",
        "\n",
        "class Perceptron(object):\n",
        "\n",
        "    \"\"\"Perceptron binary classifier.\n",
        "\n",
        "    Parameters\n",
        "    -----------\n",
        "    eta : float\n",
        "       Learning rate (value between 0.0 and 1.0)\n",
        "    epochs  : int\n",
        "       Number of passes over the training set\n",
        "\n",
        "    Attributes\n",
        "    -----------\n",
        "    w_  : 1d-array\n",
        "       Weights after fitting.\n",
        "    errors_   : list\n",
        "       Number of updates (triggered by prediction != target)\n",
        "\n",
        "    \"\"\"\n",
        "\n",
        "    def __init__(self, eta=0.01, epochs=10, random_state=1):\n",
        "        self.eta = eta\n",
        "        self.epochs = epochs\n",
        "        self.random_state = random_state\n",
        "\n",
        "    def fit(self, X, y):\n",
        "        \"\"\" Fit training data; i.e. train the Perceptron\n",
        "\n",
        "        Parameters\n",
        "        -----------\n",
        "        X : dataframe with shape - [n_samples, n_features]\n",
        "          feature vectors, where n_samples is the number of samples\n",
        "          in the data set, n_features is the number of features\n",
        "        y : dataframe with shape = [n_samples].\n",
        "            1 target value per sample (the label).\n",
        "\n",
        "        Returns\n",
        "        -----------\n",
        "        self : object\n",
        "\n",
        "        \"\"\"\n",
        "\n",
        "        # this initialize the weights\n",
        "        rgen = numpy.random.RandomState(self.random_state)\n",
        "        self.w_ = rgen.normal(loc=0.0, scale=0.01, size=1 + X.shape[1])\n",
        "\n",
        "        # this will be used to store the number of updates per epoch\n",
        "        self.errors_ = []\n",
        "        self.training_accuracy_ = []\n",
        "        self.test_accuracy_ = []\n",
        "\n",
        "        for _ in range(self.epochs):\n",
        "            errors = 0\n",
        "            for xi, target in zip(X, y):\n",
        "                update = self.eta * (target - self.predict(xi))\n",
        "                self.w_[1:] += update * xi\n",
        "                self.w_[0] += update\n",
        "                errors += int(update != 0.0)\n",
        "            self.errors_.append(errors)\n",
        "            self.training_accuracy_.append(get_training_accuracy())\n",
        "            self.test_accuracy_.append(get_test_accuracy())\n",
        "        return self\n",
        "\n",
        "    def net_input(self, x):\n",
        "        \"\"\"Calculate net input\"\"\"\n",
        "        net_input = sum(t[0] * t[1] for t in zip(x, self.w_[1:])) + self.w_[0]\n",
        "        return net_input\n",
        "\n",
        "    def predict(self, x):\n",
        "        \"\"\"Predict based on computing the net input and the threshold function\"\"\"\n",
        "        net_input = self.net_input(x)\n",
        "        if net_input >= 0.0:\n",
        "            prediction = 1\n",
        "        elif net_input < 0.0:\n",
        "            prediction = -1\n",
        "        return prediction\n"
      ],
      "outputs": [
        {
          "output_type": "stream",
          "name": "stdout",
          "text": [
            "Modules imported.\n"
          ]
        }
      ],
      "metadata": {
        "pycharm": {
          "is_executing": false,
          "name": "#%%\n"
        },
        "id": "QAEn7LXbVJHd",
        "outputId": "ebcf2f36-9e10-42ad-a814-14dc87200cae"
      }
    },
    {
      "cell_type": "markdown",
      "source": [
        "### MNIST Dataset\n",
        "\n",
        "In order to start testing our Perceptron implementation we will move to a different and more realistially sized MNIST dataset.\n",
        "\n",
        "We have already used the MNNIST dataset in the last semester when we started to familiarize us with the Machine Learning workflow.\n",
        "\n",
        "\"MNIST database of handwritten digits, available from this page, has a training set of 60,000 examples, and a test set of 10,000 examples. It is a subset of a larger set available from NIST. The digits have been size-normalized and centered in a fixed-size image.\" (source: http://yann.lecun.com/exdb/mnist/)\n",
        "\n",
        "To save you some time the following cell does the following:\n",
        "1. download the dataset\n",
        "2. sort the dataset by target\n",
        "3. create a binary test set\n",
        "4. split off the test data."
      ],
      "metadata": {
        "id": "S5_A4HYSVJHf"
      }
    },
    {
      "cell_type": "code",
      "execution_count": null,
      "source": [
        "from sklearn.utils import shuffle\n",
        "\n",
        "# Download and sort the dataset\n",
        "\n",
        "# Sorts the dataset by target (i.e the numbers 0-9). Sorts only the first 60000 entries (the training set).\n",
        "def sort_by_target(mnist):\n",
        "    reorder_train = np.array(sorted([(target, i) for i, target in enumerate(mnist.target[:60000])]))[:, 1]\n",
        "    reorder_test = np.array(sorted([(target, i) for i, target in enumerate(mnist.target[60000:])]))[:, 1]\n",
        "    mnist.data[:60000] = mnist.data[reorder_train]\n",
        "    mnist.target[:60000] = mnist.target[reorder_train]\n",
        "    mnist.data[60000:] = mnist.data[reorder_test + 60000]\n",
        "    mnist.target[60000:] = mnist.target[reorder_test + 60000]\n",
        "\n",
        "\n",
        "# Download and sort the dataset\n",
        "try:\n",
        "    from sklearn.datasets import fetch_openml\n",
        "    mnist = fetch_openml('mnist_784', version=1, cache=True, as_frame=False)\n",
        "    mnist.target = mnist.target.astype(np.int8) # fetch_openml() returns targets as strings\n",
        "    sort_by_target(mnist) # fetch_openml() returns an unsorted dataset\n",
        "except ImportError:\n",
        "    from sklearn.datasets import fetch_mldata\n",
        "    mnist = fetch_mldata('MNIST original')\n",
        "mnist[\"data\"], mnist[\"target\"]\n",
        "\n",
        "\n",
        "print(f\"The shape of the target dataset is {mnist.target.shape}\")\n",
        "print(f\"The shape of the sample dataset is {mnist.data.shape}\")\n",
        "\n",
        "\n",
        "\n",
        "\n",
        "# Select 5000 values for 0 and 9 each by manually checking the boundaries or by checking for target value.\n",
        "mnist_0_target = mnist.target[0:5000]\n",
        "mnist_0_data = mnist.data[0:5000]\n",
        "mnist_9_target = mnist.target[55000:60000]\n",
        "mnist_9_data = mnist.data[55000:60000]\n",
        "mnist_bin_0_9_data = np.concatenate((mnist_0_data, mnist_9_data))\n",
        "mnist_bin_0_9_target = np.concatenate((mnist_0_target, mnist_9_target))\n",
        "mnist_bin_0_9_target = np.where(mnist_bin_0_9_target == 0, -1, 1)\n",
        "\n",
        "X, y = shuffle(mnist_bin_0_9_data, mnist_bin_0_9_target)\n",
        "X = mnist_bin_0_9_data\n",
        "y = mnist_bin_0_9_target\n",
        "print(f\"The input X contains {len(X)} samples.\")\n",
        "print(f\"The target vector y contains {len(y)} samples.\")\n",
        "\n",
        "# Create test set\n",
        "y_temp_0 = mnist.target[60001:60979]\n",
        "y_temp_9 = mnist.target[68991:69999]\n",
        "\n",
        "X_temp_0 = mnist.data[60001:60979]\n",
        "X_temp_9 = mnist.data[68991:69999]\n",
        "#ind_0 = np.argwhere(y_temp.astype(int) == 0)\n",
        "#ind_9 = np.argwhere(y_temp.astype(int) == 9)\n",
        "\n",
        "#y_test = np.concatenate((y_temp[ind_0], y_temp[ind_9]))\n",
        "#X_test = np.concatenate((X_temp[ind_0], X_temp[ind_9]))\n",
        "y_test = np.concatenate((y_temp_0, y_temp_9))\n",
        "y_test = np.where(y_test == 0, -1, 1)\n",
        "X_test = np.concatenate((X_temp_0, X_temp_9))\n",
        "\n"
      ],
      "outputs": [],
      "metadata": {
        "pycharm": {
          "is_executing": false,
          "name": "#%%\n"
        },
        "id": "KJBt6cCdVJHf"
      }
    },
    {
      "cell_type": "markdown",
      "source": [
        "## Scoring Functions\n",
        "\n",
        "The following cell defines two convenient functions to:\n",
        "\n",
        "\n",
        "* Evaluate the precision on the `training set` (entries 0-60k).\n",
        "* Evaluate the precision on `the test` (entries 60001 - 70k) set (only those entries for `0` and `9` targets.\n"
      ],
      "metadata": {
        "id": "o0H3v15YVJHg"
      }
    },
    {
      "cell_type": "code",
      "execution_count": null,
      "source": [
        "from sklearn.metrics import accuracy_score\n",
        "\n",
        "def get_training_accuracy():\n",
        "    y_pred = []\n",
        "    y_true = []\n",
        "\n",
        "    for i in range(0,10000):\n",
        "        y_pred.append(ppn.predict(X[i]))\n",
        "        y_true.append(y[i])\n",
        "\n",
        "    training_data_score = accuracy_score(y_true, y_pred)\n",
        "    return training_data_score"
      ],
      "outputs": [
        {
          "output_type": "stream",
          "name": "stdout",
          "text": [
            "The shape of the target dataset is (70000,)\n",
            "The shape of the sample dataset is (70000, 784)\n"
          ]
        }
      ],
      "metadata": {
        "pycharm": {
          "is_executing": false,
          "name": "#%%\n"
        },
        "id": "yrq3BWLeVJHg",
        "outputId": "400ff227-d3ed-451a-cdce-01d9f30617a5"
      }
    },
    {
      "cell_type": "code",
      "execution_count": null,
      "source": [
        "def get_test_accuracy():\n",
        "\n",
        "    y_pred = []\n",
        "    y_true = []\n",
        "\n",
        "    for i in range(0, len(y_test)):\n",
        "        y_pred.append(ppn.predict(X_test[i]))\n",
        "        y_true.append(y_test[i])\n",
        "\n",
        "    test_data_score = accuracy_score(y_true, y_pred)\n",
        "    return test_data_score\n"
      ],
      "outputs": [],
      "metadata": {
        "pycharm": {
          "name": "#%%\n"
        },
        "id": "eyzEq2IDVJHh"
      }
    },
    {
      "cell_type": "markdown",
      "source": [
        "## Exercise 1: $\\eta$ or no $\\eta$. The effect of learning rate\n",
        "\n",
        "\n",
        "As a first exercise let's be a little bit radical and test what happens if we remove the $\\eta$ learning rate parameter.\n",
        "(by commenting it out in the Perceptron implementation in this notebook).\n",
        "\n",
        "1. Set a breakpoint during training, or alternatively print or record the outputs when training with $\\eta$.\n",
        "2. Remove the hyperparameter from the implementation and repeat the training process looking at the updates.\n",
        "3. Do full trainings and compare the evolution of the number of updates per training for different training set sizes\n",
        "   for a Perceptron with $\\eta$ and without $\\eta$ `smoothing`. You should be able to see and observe what is the role\n",
        "   of $\\eta$\n",
        "4. In the implementation without \\$eta$ try to add a sample at the end of the training set that is adversarial to the\n",
        "   training process (think of noise, or an erroneous sample, a 0 that looks a lot like a 9, a 0 that misses some data).\n",
        "   This might be easiest if you introduce a mis-labelling at the end (i.e. change the last label\n",
        "   from -1 to 1 or vice versa).\n",
        "   What observations can you make in the version without $\\eta$?\n"
      ],
      "metadata": {
        "pycharm": {
          "is_executing": false,
          "name": "#%% md\n"
        },
        "id": "YwNGTjz5VJHh"
      }
    },
    {
      "cell_type": "markdown",
      "source": [
        "## Train Perceptron\n",
        "\n",
        "The cell below can be used for exercise 1.\n",
        "\n"
      ],
      "metadata": {
        "id": "oOWOvqN8VJHi"
      }
    },
    {
      "cell_type": "code",
      "execution_count": null,
      "source": [
        "hyper_param_eta = 0.1\n",
        "ppn = Perceptron(eta=hyper_param_eta, epochs=1)\n",
        "ppn.fit(X,y)\n",
        "\n"
      ],
      "outputs": [
        {
          "output_type": "display_data",
          "data": {
            "image/png": "[encoded data removed]",
            "text/plain": [
              "<Figure size 432x288 with 1 Axes>"
            ]
          },
          "metadata": {
            "needs_background": "light"
          }
        }
      ],
      "metadata": {
        "pycharm": {
          "is_executing": false,
          "name": "#%%\n"
        },
        "id": "jTjiZ180VJHi",
        "outputId": "c26add82-0f1a-4035-badb-66d59333dde0"
      }
    },
    {
      "cell_type": "markdown",
      "source": [
        "## Hyperparameter Optimization\n",
        "\n",
        "Now that we have the implementation of the Perceptron and the evaluation based on MNIST in place, we can start to\n",
        "explore the relation between:\n",
        "\n",
        "* Hyperparameter $\\eta$\n",
        "* number of epochs\n",
        "* accuracy score"
      ],
      "metadata": {
        "id": "PdahZk_IVJHi"
      }
    },
    {
      "cell_type": "markdown",
      "source": [
        "### Exploring the Effect of the Learning Rate $\\eta$\n",
        "\n",
        "In earlier lectures we already hinted at the possible effects of setting a too large or too small value for $\\eta$.\n",
        "* If $\\eta$ is too large we will not be able to converge on the optimum or to converge at all in some cases. The changes\n",
        "  we make to the weight vector will be too extreme and won't allow us to find the optimal weights.\n",
        "* If we set a very small value for $\\eta$ then this will lead to a very small adjustment of the weights, and potentially\n",
        "  prolong the duration of the training.\n",
        "  \n",
        "It is important to develop an understanding of the effect of the learning rate, and by time develop an intuition that\n",
        "will allow us to make an educated guess if it is advised to lower or increase \"\\eta\"."
      ],
      "metadata": {
        "collapsed": false,
        "pycharm": {
          "name": "#%% md\n"
        },
        "id": "vTWB1r4nVJHi"
      }
    },
    {
      "cell_type": "markdown",
      "source": [
        "### Exercise 2: Range Bounds for $\\eta$\n",
        "\n",
        "This exercise aims at observing the adverse effects induced by too large or too small values for $\\eta$.\n",
        "Using the tooling provided by the score evaluation and the plotting of updates, try to identify lower and upper bounds\n",
        "for $\\eta$ where things start to go south.\n",
        "\n",
        "1. Identify a upper bound for $\\eta$ that lets you observe a degradation in accuracy\n",
        "2. Identify a lower bound for $\\eta$ where the accuracy stays approximately constant, but training time required to\n",
        "   reach that accuracy increases.\n",
        "   \n",
        "In order to idenfity these bounds it might be necessary to adjust the notebook a bit. It might be helpful to\n",
        "plot accuracy alongside the errors and updates observed during epochs.\n",
        "\n",
        "\n",
        "Hint: For this experimental analysis it is often a good approach to work with `order of magnitude` changes (always\n",
        "change by a factor of ten), followed by `divide and conquer` strategies.\n",
        "\n"
      ],
      "metadata": {
        "pycharm": {
          "is_executing": false,
          "name": "#%% md\n"
        },
        "id": "se4Wu34TVJHj"
      }
    },
    {
      "cell_type": "markdown",
      "source": [
        "## Train Perceptron\n",
        "\n",
        "The cell below can be used for exercise 2.\n",
        "\n",
        "It supplies you with a triple plot output that plots\n",
        "* number of updates over epochs\n",
        "* training set accuracy over epochs\n",
        "* test set accuracy over epochs\n",
        "\n",
        "All you need to do is to set a different eta at the top of the cell.\n",
        "Use this to approach exercise 2.\n",
        "\n"
      ],
      "metadata": {
        "pycharm": {
          "is_executing": false,
          "name": "#%% md\n"
        },
        "id": "o9-KCUnRVJHj"
      }
    },
    {
      "cell_type": "code",
      "execution_count": null,
      "source": [
        "# change eta in the line below for exercise 2\n",
        "hyper_param_eta = 0.1\n",
        "\n",
        "fig, (ax1, ax2, ax3) = plt.subplots(3)\n",
        "fig.set_size_inches(14.5, 8.5, forward=True)\n",
        "def plot_metrics(num_epochs):\n",
        "\n",
        "    x_values = np.array(np.array(range(1, num_epochs +1)))\n",
        "    # Plot number of epochs versus number of updates (i.e. errors, false classifications).\n",
        "    ax1.plot(x_values, np.array(ppn.errors_), marker='o')\n",
        "    ax1.set(xlabel='Epochs', ylabel='Number of updates')\n",
        "\n",
        "    # Plot accuracy on training set\n",
        "    ax2.plot(x_values, np.array(ppn.training_accuracy_), marker='o')\n",
        "    ax2.set(xlabel='Epochs', ylabel='Training Accuracy')\n",
        "\n",
        "    # Plot accuracy on test set\n",
        "    ax3.plot(x_values, np.array(ppn.test_accuracy_), marker='o')\n",
        "    ax3.set(xlabel='Epochs', ylabel='Test Accuracy')\n",
        "\n",
        "ppn = Perceptron(eta=hyper_param_eta, epochs=10)\n",
        "ppn.fit(X,y)\n",
        "plot_metrics(ppn.epochs)\n",
        "fig.tight_layout()\n",
        "fig.show()\n"
      ],
      "outputs": [],
      "metadata": {
        "pycharm": {
          "name": "#%%\n"
        },
        "id": "M6fXXGj5VJHj"
      }
    },
    {
      "cell_type": "markdown",
      "source": [
        "## Exercise 3: Finding an Optimal Value for $\\eta$\n",
        "\n",
        "Hyperparameter optimization aims at finding an optimal value for $\\eta$.\n",
        "Our current implementation of the Perceptron has two hyperparameters:\n",
        "\n",
        "* $\\eta$\n",
        "* Number of epochs\n",
        "\n",
        "Use the cell below to implement a strategy to identify an optimal hyperparameter combination.\n",
        "\n",
        "Re-use the already implemented methods for measuring training and test-set accuracy.\n",
        "\n",
        "Hint: In order to find the best value you have to explore the hyperparameter space\n",
        "create by the two hyperparameters."
      ],
      "metadata": {
        "pycharm": {
          "is_executing": false,
          "name": "#%% md\n"
        },
        "id": "s3cBmNcoVJHj"
      }
    },
    {
      "cell_type": "code",
      "execution_count": null,
      "source": [
        "\n",
        "\n",
        "\n",
        "\n"
      ],
      "outputs": [],
      "metadata": {
        "pycharm": {
          "name": "#%% \n"
        },
        "id": "E6DL7JIKVJHj"
      }
    }
  ],
  "metadata": {
    "kernelspec": {
      "display_name": "PyCharm (Perceptron)",
      "language": "python",
      "name": "pycharm-d231b7f0"
    },
    "language_info": {
      "codemirror_mode": {
        "name": "ipython",
        "version": 3
      },
      "file_extension": ".py",
      "mimetype": "text/x-python",
      "name": "python",
      "nbconvert_exporter": "python",
      "pygments_lexer": "ipython3",
      "version": "3.7.3"
    },
    "pycharm": {
      "stem_cell": {
        "cell_type": "raw",
        "source": [],
        "metadata": {
          "collapsed": false
        }
      }
    },
    "colab": {
      "provenance": [],
      "include_colab_link": true
    }
  },
  "nbformat": 4,
  "nbformat_minor": 0
}