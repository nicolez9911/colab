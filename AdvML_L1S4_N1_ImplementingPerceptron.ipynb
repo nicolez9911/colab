{
  "cells": [
    {
      "cell_type": "markdown",
      "metadata": {
        "id": "view-in-github",
        "colab_type": "text"
      },
      "source": [
        "<a href=\"https://colab.research.google.com/github/nicolez9911/colab/blob/main/AdvML_L1S4_N1_ImplementingPerceptron.ipynb\" target=\"_parent\"><img src=\"https://colab.research.google.com/assets/colab-badge.svg\" alt=\"Open In Colab\"/></a>"
      ]
    },
    {
      "cell_type": "markdown",
      "source": [
        "# 04_EX_01 Implementing a Single Neuron Perceptron\n",
        "\n",
        "This exercise notebook focuses on the implementation of a single neuron perceptron from scratch."
      ],
      "metadata": {
        "collapsed": false,
        "pycharm": {
          "name": "#%% md\n",
          "is_executing": false
        },
        "id": "wGiX36mZ4wEO"
      }
    },
    {
      "cell_type": "markdown",
      "source": [
        "## 1. Implementing the Perceptron class\n",
        "\n",
        "The next cell contains a skeleton outline of a class Perceptron (method names and signatures\n",
        "and field names are pre-defined).\n",
        "\n",
        "Complete the implementation of the Perceptron based on:\n",
        " * decision function\n",
        " * learning rule\n",
        "\n",
        "introduced in the 04_WeightBasedLearning_Perceptron slides.\n",
        "\n",
        "The template for the class consists of the following methods:\n",
        "\n",
        "* fit: train the Perceptron\n",
        "* net_input: calculate the net_input\n",
        "* predict: make a prediction based on a sample input\n",
        "\n",
        "Complete the implementation of these three methods.\n",
        "Your implementation has to be compatible with the\n",
        "\n",
        "Hint: It is probably easiest to start with the `predict` method followed by `net_input`.\n",
        "\n",
        "\n"
      ],
      "metadata": {
        "collapsed": false,
        "pycharm": {
          "name": "#%% md\n"
        },
        "id": "gMXv60CE4wEQ"
      }
    },
    {
      "cell_type": "code",
      "execution_count": 49,
      "metadata": {
        "collapsed": true,
        "pycharm": {
          "is_executing": false
        },
        "id": "jVGCOHbZ4wER"
      },
      "outputs": [],
      "source": [
        "import numpy.random\n",
        "import numpy as np\n",
        "\n",
        "class Perceptron(object):\n",
        "\n",
        "    \"\"\"Perceptron binary classifier.\n",
        "\n",
        "    Parameters\n",
        "    -----------\n",
        "    eta : float\n",
        "       Learning rate (value between 0.0 and 1.0)\n",
        "    epochs  : int\n",
        "       Number of passes over the training set\n",
        "\n",
        "    Attributes\n",
        "    -----------\n",
        "    w_  : 1d-array\n",
        "       Weights after fitting.\n",
        "    errors_   : list\n",
        "       Number of updates (triggered by prediction != target)\n",
        "\n",
        "    \"\"\"\n",
        "\n",
        "    def __init__(self, eta=0.01, epochs=10, random_state=1):\n",
        "        self.eta = eta\n",
        "        self.epochs = epochs\n",
        "        self.random_state = random_state\n",
        "\n",
        "    def fit(self, X, y):\n",
        "        \"\"\" Fit training data; i.e. train the Perceptron\n",
        "\n",
        "        Parameters\n",
        "        -----------\n",
        "        X : dataframe with shape - [n_samples, n_features]\n",
        "          feature vectors, where n_samples is the number of samples\n",
        "          in the data set, n_features is the number of features\n",
        "        y : dataframe with shape = [n_samples].\n",
        "            1 target value per sample (the label).\n",
        "\n",
        "        Returns\n",
        "        -----------\n",
        "        self : object\n",
        "\n",
        "        \"\"\"\n",
        "\n",
        "        # this initialize the weights\n",
        "        rgen = numpy.random.RandomState(self.random_state)\n",
        "        self.w_ = rgen.normal(loc=0.0, scale=0.01, size=1 + X.shape[1])\n",
        "\n",
        "        # this will be used to store the number of updates per epoch\n",
        "        self.errors_ = []\n",
        "\n",
        "\n",
        "        for _ in range(self.epochs):\n",
        "\n",
        "            # EXERCISE: implement the iteration over the training set samples in the\n",
        "            # loop below. Increment the updates variable each time an udate is made.\n",
        "\n",
        "            errors = 0 # => will be the number of updates; bc on every error, we update\n",
        "            for xi, target in zip(X, y):\n",
        "                update = self.eta * (target - self.predict(xi))\n",
        "                self.w_[1:] += update * xi\n",
        "                self.w_[0] += update # bias\n",
        "                errors += int(update != 0.0)\n",
        "\n",
        "            # after looping over the dateset, store the errors in this epoch in the list\n",
        "            self.errors_.append(errors)\n",
        "        return self\n",
        "\n",
        "    def net_input(self, x):\n",
        "        \"\"\"Calculate net input\"\"\"\n",
        "        # EXERCISE: Implement the net input calculation based on using python standard methods\n",
        "        net_input = np.dot(x, self.w_[1:]) + self.w_[0]  # dot product of inputs and weights, plus bias\n",
        "        #solution: net_input = sum(t[0] * t[1] for t in zip(x, self.w_[1:])) + self.w_[0]\n",
        "        return net_input\n",
        "\n",
        "    def predict(self, x):\n",
        "        \"\"\"Predict based on computing the net input and the threshold function\"\"\"\n",
        "        net_input = self.net_input(x)\n",
        "\n",
        "        # EXERCISE: Implement the thresold function and return the prediction based on\n",
        "        # net input.\n",
        "\n",
        "        if net_input >= 0.0:\n",
        "            prediction = 1\n",
        "        elif net_input < 0.0:\n",
        "            prediction = -1\n",
        "\n",
        "        return prediction"
      ]
    },
    {
      "cell_type": "markdown",
      "metadata": {
        "pycharm": {
          "is_executing": false,
          "name": "#%% md\n"
        },
        "id": "hWGvlusB4wES"
      },
      "source": [
        "## 2. Data Provision\n",
        "\n",
        "The following cells are focused on:\n",
        "\n",
        "* loading the IRIS dataset into a dataframe.\n",
        "* transforming the dataset to a binary classification problem with 2 features\n",
        "* plotting the transformed dataset"
      ]
    },
    {
      "cell_type": "markdown",
      "source": [
        "### 2.1 Load the Iris dataset into a dataframe"
      ],
      "metadata": {
        "collapsed": false,
        "pycharm": {
          "name": "#%% md\n"
        },
        "id": "5Ja_Gdbe4wES"
      }
    },
    {
      "cell_type": "code",
      "execution_count": 43,
      "outputs": [
        {
          "output_type": "execute_result",
          "data": {
            "text/plain": [
              "       0    1    2    3               4\n",
              "145  6.7  3.0  5.2  2.3  Iris-virginica\n",
              "146  6.3  2.5  5.0  1.9  Iris-virginica\n",
              "147  6.5  3.0  5.2  2.0  Iris-virginica\n",
              "148  6.2  3.4  5.4  2.3  Iris-virginica\n",
              "149  5.9  3.0  5.1  1.8  Iris-virginica"
            ],
            "text/html": [
              "\n",
              "  <div id=\"df-4fa259e0-9f78-449c-8d90-94c7b82ac041\" class=\"colab-df-container\">\n",
              "    <div>\n",
              "<style scoped>\n",
              "    .dataframe tbody tr th:only-of-type {\n",
              "        vertical-align: middle;\n",
              "    }\n",
              "\n",
              "    .dataframe tbody tr th {\n",
              "        vertical-align: top;\n",
              "    }\n",
              "\n",
              "    .dataframe thead th {\n",
              "        text-align: right;\n",
              "    }\n",
              "</style>\n",
              "<table border=\"1\" class=\"dataframe\">\n",
              "  <thead>\n",
              "    <tr style=\"text-align: right;\">\n",
              "      <th></th>\n",
              "      <th>0</th>\n",
              "      <th>1</th>\n",
              "      <th>2</th>\n",
              "      <th>3</th>\n",
              "      <th>4</th>\n",
              "    </tr>\n",
              "  </thead>\n",
              "  <tbody>\n",
              "    <tr>\n",
              "      <th>145</th>\n",
              "      <td>6.7</td>\n",
              "      <td>3.0</td>\n",
              "      <td>5.2</td>\n",
              "      <td>2.3</td>\n",
              "      <td>Iris-virginica</td>\n",
              "    </tr>\n",
              "    <tr>\n",
              "      <th>146</th>\n",
              "      <td>6.3</td>\n",
              "      <td>2.5</td>\n",
              "      <td>5.0</td>\n",
              "      <td>1.9</td>\n",
              "      <td>Iris-virginica</td>\n",
              "    </tr>\n",
              "    <tr>\n",
              "      <th>147</th>\n",
              "      <td>6.5</td>\n",
              "      <td>3.0</td>\n",
              "      <td>5.2</td>\n",
              "      <td>2.0</td>\n",
              "      <td>Iris-virginica</td>\n",
              "    </tr>\n",
              "    <tr>\n",
              "      <th>148</th>\n",
              "      <td>6.2</td>\n",
              "      <td>3.4</td>\n",
              "      <td>5.4</td>\n",
              "      <td>2.3</td>\n",
              "      <td>Iris-virginica</td>\n",
              "    </tr>\n",
              "    <tr>\n",
              "      <th>149</th>\n",
              "      <td>5.9</td>\n",
              "      <td>3.0</td>\n",
              "      <td>5.1</td>\n",
              "      <td>1.8</td>\n",
              "      <td>Iris-virginica</td>\n",
              "    </tr>\n",
              "  </tbody>\n",
              "</table>\n",
              "</div>\n",
              "    <div class=\"colab-df-buttons\">\n",
              "\n",
              "  <div class=\"colab-df-container\">\n",
              "    <button class=\"colab-df-convert\" onclick=\"convertToInteractive('df-4fa259e0-9f78-449c-8d90-94c7b82ac041')\"\n",
              "            title=\"Convert this dataframe to an interactive table.\"\n",
              "            style=\"display:none;\">\n",
              "\n",
              "  <svg xmlns=\"http://www.w3.org/2000/svg\" height=\"24px\" viewBox=\"0 -960 960 960\">\n",
              "    <path d=\"M120-120v-720h720v720H120Zm60-500h600v-160H180v160Zm220 220h160v-160H400v160Zm0 220h160v-160H400v160ZM180-400h160v-160H180v160Zm440 0h160v-160H620v160ZM180-180h160v-160H180v160Zm440 0h160v-160H620v160Z\"/>\n",
              "  </svg>\n",
              "    </button>\n",
              "\n",
              "  <style>\n",
              "    .colab-df-container {\n",
              "      display:flex;\n",
              "      gap: 12px;\n",
              "    }\n",
              "\n",
              "    .colab-df-convert {\n",
              "      background-color: #E8F0FE;\n",
              "      border: none;\n",
              "      border-radius: 50%;\n",
              "      cursor: pointer;\n",
              "      display: none;\n",
              "      fill: #1967D2;\n",
              "      height: 32px;\n",
              "      padding: 0 0 0 0;\n",
              "      width: 32px;\n",
              "    }\n",
              "\n",
              "    .colab-df-convert:hover {\n",
              "      background-color: #E2EBFA;\n",
              "      box-shadow: 0px 1px 2px rgba(60, 64, 67, 0.3), 0px 1px 3px 1px rgba(60, 64, 67, 0.15);\n",
              "      fill: #174EA6;\n",
              "    }\n",
              "\n",
              "    .colab-df-buttons div {\n",
              "      margin-bottom: 4px;\n",
              "    }\n",
              "\n",
              "    [theme=dark] .colab-df-convert {\n",
              "      background-color: #3B4455;\n",
              "      fill: #D2E3FC;\n",
              "    }\n",
              "\n",
              "    [theme=dark] .colab-df-convert:hover {\n",
              "      background-color: #434B5C;\n",
              "      box-shadow: 0px 1px 3px 1px rgba(0, 0, 0, 0.15);\n",
              "      filter: drop-shadow(0px 1px 2px rgba(0, 0, 0, 0.3));\n",
              "      fill: #FFFFFF;\n",
              "    }\n",
              "  </style>\n",
              "\n",
              "    <script>\n",
              "      const buttonEl =\n",
              "        document.querySelector('#df-4fa259e0-9f78-449c-8d90-94c7b82ac041 button.colab-df-convert');\n",
              "      buttonEl.style.display =\n",
              "        google.colab.kernel.accessAllowed ? 'block' : 'none';\n",
              "\n",
              "      async function convertToInteractive(key) {\n",
              "        const element = document.querySelector('#df-4fa259e0-9f78-449c-8d90-94c7b82ac041');\n",
              "        const dataTable =\n",
              "          await google.colab.kernel.invokeFunction('convertToInteractive',\n",
              "                                                    [key], {});\n",
              "        if (!dataTable) return;\n",
              "\n",
              "        const docLinkHtml = 'Like what you see? Visit the ' +\n",
              "          '<a target=\"_blank\" href=https://colab.research.google.com/notebooks/data_table.ipynb>data table notebook</a>'\n",
              "          + ' to learn more about interactive tables.';\n",
              "        element.innerHTML = '';\n",
              "        dataTable['output_type'] = 'display_data';\n",
              "        await google.colab.output.renderOutput(dataTable, element);\n",
              "        const docLink = document.createElement('div');\n",
              "        docLink.innerHTML = docLinkHtml;\n",
              "        element.appendChild(docLink);\n",
              "      }\n",
              "    </script>\n",
              "  </div>\n",
              "\n",
              "\n",
              "<div id=\"df-d2f4d7fc-4537-43a0-945b-630ca9a565c1\">\n",
              "  <button class=\"colab-df-quickchart\" onclick=\"quickchart('df-d2f4d7fc-4537-43a0-945b-630ca9a565c1')\"\n",
              "            title=\"Suggest charts.\"\n",
              "            style=\"display:none;\">\n",
              "\n",
              "<svg xmlns=\"http://www.w3.org/2000/svg\" height=\"24px\"viewBox=\"0 0 24 24\"\n",
              "     width=\"24px\">\n",
              "    <g>\n",
              "        <path d=\"M19 3H5c-1.1 0-2 .9-2 2v14c0 1.1.9 2 2 2h14c1.1 0 2-.9 2-2V5c0-1.1-.9-2-2-2zM9 17H7v-7h2v7zm4 0h-2V7h2v10zm4 0h-2v-4h2v4z\"/>\n",
              "    </g>\n",
              "</svg>\n",
              "  </button>\n",
              "\n",
              "<style>\n",
              "  .colab-df-quickchart {\n",
              "      --bg-color: #E8F0FE;\n",
              "      --fill-color: #1967D2;\n",
              "      --hover-bg-color: #E2EBFA;\n",
              "      --hover-fill-color: #174EA6;\n",
              "      --disabled-fill-color: #AAA;\n",
              "      --disabled-bg-color: #DDD;\n",
              "  }\n",
              "\n",
              "  [theme=dark] .colab-df-quickchart {\n",
              "      --bg-color: #3B4455;\n",
              "      --fill-color: #D2E3FC;\n",
              "      --hover-bg-color: #434B5C;\n",
              "      --hover-fill-color: #FFFFFF;\n",
              "      --disabled-bg-color: #3B4455;\n",
              "      --disabled-fill-color: #666;\n",
              "  }\n",
              "\n",
              "  .colab-df-quickchart {\n",
              "    background-color: var(--bg-color);\n",
              "    border: none;\n",
              "    border-radius: 50%;\n",
              "    cursor: pointer;\n",
              "    display: none;\n",
              "    fill: var(--fill-color);\n",
              "    height: 32px;\n",
              "    padding: 0;\n",
              "    width: 32px;\n",
              "  }\n",
              "\n",
              "  .colab-df-quickchart:hover {\n",
              "    background-color: var(--hover-bg-color);\n",
              "    box-shadow: 0 1px 2px rgba(60, 64, 67, 0.3), 0 1px 3px 1px rgba(60, 64, 67, 0.15);\n",
              "    fill: var(--button-hover-fill-color);\n",
              "  }\n",
              "\n",
              "  .colab-df-quickchart-complete:disabled,\n",
              "  .colab-df-quickchart-complete:disabled:hover {\n",
              "    background-color: var(--disabled-bg-color);\n",
              "    fill: var(--disabled-fill-color);\n",
              "    box-shadow: none;\n",
              "  }\n",
              "\n",
              "  .colab-df-spinner {\n",
              "    border: 2px solid var(--fill-color);\n",
              "    border-color: transparent;\n",
              "    border-bottom-color: var(--fill-color);\n",
              "    animation:\n",
              "      spin 1s steps(1) infinite;\n",
              "  }\n",
              "\n",
              "  @keyframes spin {\n",
              "    0% {\n",
              "      border-color: transparent;\n",
              "      border-bottom-color: var(--fill-color);\n",
              "      border-left-color: var(--fill-color);\n",
              "    }\n",
              "    20% {\n",
              "      border-color: transparent;\n",
              "      border-left-color: var(--fill-color);\n",
              "      border-top-color: var(--fill-color);\n",
              "    }\n",
              "    30% {\n",
              "      border-color: transparent;\n",
              "      border-left-color: var(--fill-color);\n",
              "      border-top-color: var(--fill-color);\n",
              "      border-right-color: var(--fill-color);\n",
              "    }\n",
              "    40% {\n",
              "      border-color: transparent;\n",
              "      border-right-color: var(--fill-color);\n",
              "      border-top-color: var(--fill-color);\n",
              "    }\n",
              "    60% {\n",
              "      border-color: transparent;\n",
              "      border-right-color: var(--fill-color);\n",
              "    }\n",
              "    80% {\n",
              "      border-color: transparent;\n",
              "      border-right-color: var(--fill-color);\n",
              "      border-bottom-color: var(--fill-color);\n",
              "    }\n",
              "    90% {\n",
              "      border-color: transparent;\n",
              "      border-bottom-color: var(--fill-color);\n",
              "    }\n",
              "  }\n",
              "</style>\n",
              "\n",
              "  <script>\n",
              "    async function quickchart(key) {\n",
              "      const quickchartButtonEl =\n",
              "        document.querySelector('#' + key + ' button');\n",
              "      quickchartButtonEl.disabled = true;  // To prevent multiple clicks.\n",
              "      quickchartButtonEl.classList.add('colab-df-spinner');\n",
              "      try {\n",
              "        const charts = await google.colab.kernel.invokeFunction(\n",
              "            'suggestCharts', [key], {});\n",
              "      } catch (error) {\n",
              "        console.error('Error during call to suggestCharts:', error);\n",
              "      }\n",
              "      quickchartButtonEl.classList.remove('colab-df-spinner');\n",
              "      quickchartButtonEl.classList.add('colab-df-quickchart-complete');\n",
              "    }\n",
              "    (() => {\n",
              "      let quickchartButtonEl =\n",
              "        document.querySelector('#df-d2f4d7fc-4537-43a0-945b-630ca9a565c1 button');\n",
              "      quickchartButtonEl.style.display =\n",
              "        google.colab.kernel.accessAllowed ? 'block' : 'none';\n",
              "    })();\n",
              "  </script>\n",
              "</div>\n",
              "    </div>\n",
              "  </div>\n"
            ]
          },
          "metadata": {},
          "execution_count": 43
        }
      ],
      "source": [
        "import pandas as pd\n",
        "\n",
        "df = pd.read_csv('https://archive.ics.uci.edu/ml/machine-learning-databases/iris/iris.data', header=None)\n",
        "df.tail()"
      ],
      "metadata": {
        "pycharm": {
          "name": "#%% \n",
          "is_executing": false
        },
        "colab": {
          "base_uri": "https://localhost:8080/",
          "height": 206
        },
        "id": "Gd_rUJ_A4wES",
        "outputId": "176dcc48-cd5e-4b65-937b-4a37e090f9af"
      }
    },
    {
      "cell_type": "markdown",
      "source": [
        "### 2.2. Apply Slicing to Create a Binary Classification Dataset\n",
        "\n",
        "We apply two major transformations:\n",
        "\n",
        "a) Slice the data to restrict the dataset to two plant species:\n",
        "We do this, so we are able to classify with a 'vanilla' Perceptron implementation\n",
        "using the simple binary threshold function.\n",
        "\n",
        "b) Only use two of the four features: This makes it easier to comprehend what is going\n",
        "on under the hood, and makes for easy 2D plotting.\n",
        "\n",
        "<a id='plot_dataset'></a>"
      ],
      "metadata": {
        "collapsed": false,
        "id": "aMMV8WWC4wET"
      }
    },
    {
      "cell_type": "code",
      "execution_count": 44,
      "metadata": {
        "pycharm": {
          "is_executing": false
        },
        "colab": {
          "base_uri": "https://localhost:8080/",
          "height": 449
        },
        "id": "kzJybnaQ4wET",
        "outputId": "cc1de24c-18d6-4007-9ba6-1d75d08df000"
      },
      "outputs": [
        {
          "output_type": "display_data",
          "data": {
            "text/plain": [
              "<Figure size 640x480 with 1 Axes>"
            ],
            "image/png": "[encoded data removed]"
          },
          "metadata": {}
        }
      ],
      "source": [
        "import matplotlib.pyplot as plt\n",
        "import numpy as np\n",
        "\n",
        "# create a binary classification problem by selecting setosa and versicolor samples only\n",
        "y = df.iloc[0:100, 4].values\n",
        "# encode the labels as values -1 and 1\n",
        "y = np.where(y == \"Iris-setosa\", -1, 1)\n",
        "\n",
        "# select sepal length and petal length as features and store as X\n",
        "X = df.iloc[0:100, [0, 2]].values\n",
        "\n",
        "# plot data\n",
        "plt.scatter(X[:50, 0], X[:50, 1], color='red', marker='o', label='setosa')\n",
        "plt.scatter(X[50:100, 0], X[50:100, 1], color='blue', marker='x', label='versicolor')\n",
        "plt.xlabel('sepal length [cm]')\n",
        "plt.ylabel('petal length [cm]')\n",
        "plt.legend(loc='upper left')\n",
        "plt.show()\n",
        "\n",
        "from sklearn.utils import shuffle\n",
        "X, y = shuffle(X, y, random_state=0)"
      ]
    },
    {
      "cell_type": "markdown",
      "metadata": {
        "pycharm": {
          "is_executing": false,
          "name": "#%% md\n"
        },
        "id": "-clFDbHY4wET"
      },
      "source": [
        "### 2.3 Train Perceptron\n",
        "\n",
        "Train the Perceptron with the $$X$$, $$y$$ dataset we have defined."
      ]
    },
    {
      "cell_type": "code",
      "execution_count": 45,
      "outputs": [
        {
          "output_type": "execute_result",
          "data": {
            "text/plain": [
              "<__main__.Perceptron at 0x7967f4557490>"
            ]
          },
          "metadata": {},
          "execution_count": 45
        }
      ],
      "source": [
        "ppn = Perceptron(eta=0.01, epochs=10)\n",
        "ppn.fit(X,y)"
      ],
      "metadata": {
        "pycharm": {
          "name": "#%%\n",
          "is_executing": false
        },
        "colab": {
          "base_uri": "https://localhost:8080/"
        },
        "id": "1B1P_nN44wET",
        "outputId": "7207af67-f19f-4501-80f2-ce71c5d1c01c"
      }
    },
    {
      "cell_type": "markdown",
      "source": [
        "### 2.4 Plot Training Progress\n",
        "\n",
        "Plot the training progress by looking at the number of updates triggered by $$ \\hat{y} \\neq y$$ (misclassification).\n",
        "<a id='plot_training_progress'></a>"
      ],
      "metadata": {
        "collapsed": false,
        "pycharm": {
          "name": "#%% md\n"
        },
        "id": "RLrkUi6-4wEU"
      }
    },
    {
      "cell_type": "code",
      "execution_count": 46,
      "outputs": [
        {
          "output_type": "display_data",
          "data": {
            "text/plain": [
              "<Figure size 640x480 with 1 Axes>"
            ],
            "image/png": "[encoded data removed]"
          },
          "metadata": {}
        }
      ],
      "source": [
        "# Plot number of epochs versus number of updates (i.e. errors, false classifications).\n",
        "plt.plot(range(1, len(ppn.errors_) + 1), ppn.errors_, marker='o')\n",
        "plt.xlabel('Epochs')\n",
        "plt.ylabel('Number of updates')\n",
        "plt.show()"
      ],
      "metadata": {
        "pycharm": {
          "name": "#%%\n",
          "is_executing": false
        },
        "colab": {
          "base_uri": "https://localhost:8080/",
          "height": 449
        },
        "id": "u7F-O-u74wEU",
        "outputId": "9d541193-aad5-499e-cef2-77b346de34dc"
      }
    },
    {
      "cell_type": "markdown",
      "source": [
        "### 2.5 Questions\n",
        "\n",
        "Write down your answers and thoughts on the following questions in this markdown cell.\n",
        "\n",
        "**Question 1: What is the shape of the weight vector (i.e. its dimensionality)?**\n",
        "\n",
        "...\n",
        "\n",
        "**Question 2: To which feature do the weights in the following dimensions in the weight vector belong?**\n",
        "\n",
        "* Dimension 1: sepal length in cm\n",
        "* Dimension 2: petal length in cm\n",
        "\n",
        "**Question 3: Just by looking at the plot under [2.2](#plot_dataset) what is your expectation for\n",
        " the trained weights in terms of being positive and negative.**\n",
        "\n",
        "* Dimension 1:\n",
        "* Dimension 2:\n",
        "\n",
        "Hint: Remember we have defined `Iris-Setosa` as the discrete value `-1` and `Iris-Virginica` as `1`.\n",
        "\n",
        "**Question 4: Describe in your own words what can be observed in plot [2.4](#plot_training_progress)?**\n",
        "\n",
        "...\n",
        "\n",
        "**Question 5: How many samples are misclassified in an epoch when the number of updates is 0?**\n",
        "\n",
        "* Number of misclassified samples:\n",
        "\n",
        "**Question 6: Confirm your observations made in relation to question 4 by looking at the\n",
        "              change of the weights after each update (i.e. the state of the weight vector after each update).**\n",
        "              \n",
        " ..."
      ],
      "metadata": {
        "collapsed": false,
        "id": "q12MWwHP4wEU"
      }
    },
    {
      "cell_type": "markdown",
      "metadata": {
        "pycharm": {
          "is_executing": false,
          "name": "#%% md\n"
        },
        "id": "hnIVkB5d4wEU"
      },
      "source": [
        "## 3. Plot Perceptron Decision Boundary\n",
        "\n",
        "### 3.1 Create Random Dataset\n",
        "The next cell defines a method to create a random dataset consisting of the two\n",
        "selected species, and defines a plot that shows the decision boundary of the\n",
        "Perceptron."
      ]
    },
    {
      "cell_type": "code",
      "execution_count": 47,
      "outputs": [],
      "source": [
        "from matplotlib.colors import ListedColormap\n",
        "\n",
        "def plot_decision_regions(X, y, classifier, resolution=0.02):\n",
        "    # setup marker generator and color map\n",
        "    markers = ('s', 'x', 'o', '^', 'v')\n",
        "    colors = ('red', 'blue', 'lightgreen', 'gray', 'cyan')\n",
        "    cmap = ListedColormap(colors[:len(np.unique(y))])\n",
        "\n",
        "    # plot the decision surface\n",
        "\n",
        "    x1_min, x1_max = X[:, 0].min() - 1, X[:, 0].max() + 1\n",
        "    x2_min, x2_max = X[:, 1].min() - 1, X[:, 1].max() + 1\n",
        "    xx1, xx2 = np.meshgrid(np.arange(x1_min, x1_max, resolution),\n",
        "                            np.arange(x2_min, x2_max, resolution))\n",
        "    transposedObject = np.array([xx1.ravel(), xx2.ravel()]).T\n",
        "\n",
        "    results = []\n",
        "    for row in range(transposedObject.shape[0]):\n",
        "        results.append(classifier.predict(transposedObject[row,:]))\n",
        "\n",
        "    Z = np.reshape(results, xx1.shape)\n",
        "\n",
        "    plt.contourf(xx1, xx2, Z, alpha=0.3, cmap=cmap)\n",
        "    plt.xlim(xx1.min(), xx1.max())\n",
        "    plt.ylim(xx2.min(), xx2.max())\n",
        "\n",
        "    # plot class samples\n",
        "    for idx, cl in enumerate(np.unique(y)):\n",
        "        plt.scatter(x=X[y == cl, 0],\n",
        "            y=X[y == cl, 1],\n",
        "            alpha=0.8,\n",
        "            c=colors[idx],\n",
        "            marker=markers[idx],\n",
        "            label=cl,\n",
        "            edgecolor='black')"
      ],
      "metadata": {
        "pycharm": {
          "name": "#%%\n",
          "is_executing": false
        },
        "id": "fbTWMFFp4wEU"
      }
    },
    {
      "cell_type": "markdown",
      "metadata": {
        "pycharm": {
          "is_executing": false,
          "name": "#%% md\n"
        },
        "id": "shCYJ0OK4wEV"
      },
      "source": [
        "### 3.2 Plot Decision Boundary"
      ]
    },
    {
      "cell_type": "code",
      "execution_count": 48,
      "outputs": [
        {
          "output_type": "stream",
          "name": "stderr",
          "text": [
            "<ipython-input-47-7605415046b2>:29: UserWarning: You passed a edgecolor/edgecolors ('black') for an unfilled marker ('x').  Matplotlib is ignoring the edgecolor in favor of the facecolor.  This behavior may change in the future.\n",
            "  plt.scatter(x=X[y == cl, 0],\n"
          ]
        },
        {
          "output_type": "display_data",
          "data": {
            "text/plain": [
              "<Figure size 640x480 with 1 Axes>"
            ],
            "image/png": "[encoded data removed]"
          },
          "metadata": {}
        }
      ],
      "source": [
        "plot_decision_regions(X, y, classifier=ppn)\n",
        "\n",
        "plt.xlabel('sepal length [cm]')\n",
        "plt.ylabel('petal length [cm]')\n",
        "plt.legend(loc='upper left')\n",
        "plt.show()"
      ],
      "metadata": {
        "pycharm": {
          "name": "#%% \n",
          "is_executing": false
        },
        "colab": {
          "base_uri": "https://localhost:8080/",
          "height": 506
        },
        "id": "UBZ2cLvp4wEV",
        "outputId": "1aad6280-2c3f-4fff-c6a1-16015f22cddb"
      }
    }
  ],
  "metadata": {
    "kernelspec": {
      "name": "pycharm-d231b7f0",
      "language": "python",
      "display_name": "PyCharm (Perceptron)"
    },
    "language_info": {
      "codemirror_mode": {
        "name": "ipython",
        "version": 2
      },
      "file_extension": ".py",
      "mimetype": "text/x-python",
      "name": "python",
      "nbconvert_exporter": "python",
      "pygments_lexer": "ipython2",
      "version": "2.7.6"
    },
    "pycharm": {
      "stem_cell": {
        "cell_type": "raw",
        "source": [],
        "metadata": {
          "collapsed": false
        }
      }
    },
    "colab": {
      "provenance": [],
      "include_colab_link": true
    }
  },
  "nbformat": 4,
  "nbformat_minor": 0
}