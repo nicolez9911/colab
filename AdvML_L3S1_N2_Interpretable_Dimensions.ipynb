{
  "cells": [
    {
      "cell_type": "markdown",
      "metadata": {
        "id": "view-in-github",
        "colab_type": "text"
      },
      "source": [
        "<a href=\"https://colab.research.google.com/github/nicolez9911/colab/blob/main/AdvML_L3S1_N2_Interpretable_Dimensions.ipynb\" target=\"_parent\"><img src=\"https://colab.research.google.com/assets/colab-badge.svg\" alt=\"Open In Colab\"/></a>"
      ]
    },
    {
      "cell_type": "markdown",
      "metadata": {
        "id": "4G0wtGqb-wQh"
      },
      "source": [
        "# 07_EX_02 Interpretability II\n",
        "\n",
        "\n",
        "The focus of this notebook is the concept of interpretability.\n",
        "\n",
        "Specifically we want to demonstrate the importance of interpretability on the feature dimension level.\n",
        "In the lecture we have explored the example of the non-meaningful dimensions of a word2vec vector.\n",
        "In the prior notebook we looked at using Heatmaps and plots of the values as instruments for our understanding.\n",
        "\n",
        "In this notebook we try to further increase the interpretability of the dimensions of our weight vector.\n"
      ]
    },
    {
      "cell_type": "markdown",
      "metadata": {
        "id": "A9wyX5wC-wQl"
      },
      "source": [
        "# Training Material"
      ]
    },
    {
      "cell_type": "markdown",
      "metadata": {
        "id": "_0QePFDM-wQl"
      },
      "source": [
        "### MNIST Dataset\n",
        "\n",
        "In order to start testing our Perceptron implementation we will move to a different and more realistially sized MNIST dataset.\n",
        "\n",
        "We have already used the MNNIST dataset in the last semester when we started to familiarize us with the Machine Learning workflow.\n",
        "\n",
        "\"MNIST database of handwritten digits, available from this page, has a training set of 60,000 examples, and a test set of 10,000 examples. It is a subset of a larger set available from NIST. The digits have been size-normalized and centered in a fixed-size image.\" (source: http://yann.lecun.com/exdb/mnist/)\n",
        "\n",
        "To save you some time the following cell contains code to download and sort the dataset."
      ]
    },
    {
      "cell_type": "code",
      "execution_count": null,
      "metadata": {
        "pycharm": {
          "name": "#%%\n"
        },
        "id": "s5YlQRxL-wQm",
        "outputId": "64c0fbc2-9074-44ad-ed77-5dd7f0ecd38e"
      },
      "outputs": [
        {
          "name": "stdout",
          "output_type": "stream",
          "text": [
            "(70000,)\n",
            "(70000, 784)\n"
          ]
        }
      ],
      "source": [
        "# Download and sort the dataset\n",
        "\n",
        "# Sorts the dataset by target (i.e the numbers 0-9). Sorts only the first 60000 entries (the training set).\n",
        "def sort_by_target(mnist):\n",
        "    reorder_train = np.array(sorted([(target, i) for i, target in enumerate(mnist.target[:60000])]))[:, 1]\n",
        "    reorder_test = np.array(sorted([(target, i) for i, target in enumerate(mnist.target[60000:])]))[:, 1]\n",
        "    mnist.data[:60000] = mnist.data[reorder_train]\n",
        "    mnist.target[:60000] = mnist.target[reorder_train]\n",
        "    mnist.data[60000:] = mnist.data[reorder_test + 60000]\n",
        "    mnist.target[60000:] = mnist.target[reorder_test + 60000]\n",
        "\n",
        "\n",
        "# Download and sort the dataset\n",
        "try:\n",
        "    from sklearn.datasets import fetch_openml\n",
        "    mnist = fetch_openml('mnist_784', version=1, cache=True)\n",
        "    mnist.target = mnist.target.astype(np.int8) # fetch_openml() returns targets as strings\n",
        "    sort_by_target(mnist) # fetch_openml() returns an unsorted dataset\n",
        "except ImportError:\n",
        "    from sklearn.datasets import fetch_mldata\n",
        "    mnist = fetch_mldata('MNIST original')\n",
        "mnist[\"data\"], mnist[\"target\"]\n",
        "\n",
        "\n",
        "print(mnist.target.shape)\n",
        "print(mnist.data.shape)\n"
      ]
    },
    {
      "cell_type": "markdown",
      "metadata": {
        "id": "FvJ0TUWI-wQo"
      },
      "source": [
        "## Creating a Binary Training Set\n",
        "\n",
        "\n",
        "**Note**: Since the implementation of our Perceptron is binary it only will correctly work if we use the target values `-1` and `1`. That means you have to map `0` and `9` to `-1` and `1` in the training data."
      ]
    },
    {
      "cell_type": "code",
      "execution_count": null,
      "metadata": {
        "pycharm": {
          "name": "#%%\n"
        },
        "id": "sAfE9iLk-wQo",
        "outputId": "caa62ad1-2235-421a-ca4c-582a10fb954a"
      },
      "outputs": [
        {
          "data": {
            "text/plain": [
              "10000"
            ]
          },
          "execution_count": 11,
          "metadata": {},
          "output_type": "execute_result"
        }
      ],
      "source": [
        "from sklearn.utils import shuffle\n",
        "\n",
        "\n",
        "# Select 5000 values for 0 and 9 each by manually checking the boundaries or by checking for target value.\n",
        "mnist_0_target = mnist.target[0:5000]\n",
        "mnist_0_data = mnist.data[0:5000]\n",
        "mnist_9_target = mnist.target[6000:11000]\n",
        "mnist_9_data = mnist.data[6000:11000]\n",
        "mnist_bin_0_9_data = np.concatenate((mnist_0_data, mnist_9_data))\n",
        "mnist_bin_0_9_target = np.concatenate((mnist_0_target, mnist_9_target))\n",
        "mnist_bin_0_9_target = np.where(mnist_bin_0_9_target == 0, -1, 1)\n",
        "\n",
        "# Shuffle should be something that the students have to identify as an element that impacts the learning\n",
        "X, y = shuffle(mnist_bin_0_9_data, mnist_bin_0_9_target)\n",
        "X = mnist_bin_0_9_data\n",
        "y = mnist_bin_0_9_target\n",
        "len(mnist_bin_0_9_data)"
      ]
    },
    {
      "cell_type": "markdown",
      "metadata": {
        "id": "F2TRMTwX-wQp"
      },
      "source": [
        "## 1. Perceptron class\n",
        "\n",
        "We will re-use the Perceptron class from `04_EX_01`.\n",
        "\n",
        "The class is capable of doing binary classification and provides of the following methods:\n",
        "\n",
        "* fit: train the Perceptron\n",
        "* net_input: calculate the net_input\n",
        "* predict: make a prediction based on a sample input\n",
        "\n",
        "We have done one major change in this class compared to the version you have utilized so far.\n",
        "Instead of calculating the dot product manually in Python we have delegated that to the `numpy.dot` method.\n"
      ]
    },
    {
      "cell_type": "code",
      "execution_count": null,
      "metadata": {
        "pycharm": {
          "name": "#%%\n"
        },
        "id": "Dujk5MUp-wQp"
      },
      "outputs": [],
      "source": [
        "import matplotlib.pyplot as plt\n",
        "import numpy as np\n",
        "import os\n",
        "\n",
        "\n",
        "import numpy.random\n",
        "from matplotlib._cm_listed import cmaps\n",
        "\n",
        "class Perceptron(object):\n",
        "\n",
        "    \"\"\"Perceptron binary classifier.\n",
        "\n",
        "    Parameters\n",
        "    -----------\n",
        "    eta : float\n",
        "       Learning rate (value between 0.0 and 1.0)\n",
        "    epochs  : int\n",
        "       Number of passes over the training set\n",
        "\n",
        "    Attributes\n",
        "    -----------\n",
        "    w_  : 1d-array\n",
        "       Weights after fitting.\n",
        "    errors_   : list\n",
        "       Number of updates (triggered by prediction != target)\n",
        "\n",
        "    \"\"\"\n",
        "\n",
        "    def __init__(self, eta=0.01, epochs=10, random_state=1):\n",
        "        self.eta = eta\n",
        "        self.epochs = epochs\n",
        "        self.random_state = random_state\n",
        "        # this initialize the weights\n",
        "        rgen = numpy.random.RandomState(self.random_state)\n",
        "        self.w_ = rgen.normal(loc=0.0, scale=0.01, size=1 + X.shape[1])\n",
        "\n",
        "\n",
        "\n",
        "    def fit(self, X, y, draw, heatmap):\n",
        "        \"\"\" Fit training data; i.e. train the Perceptron\n",
        "\n",
        "        Parameters\n",
        "        -----------\n",
        "        X : dataframe with shape - [n_samples, n_features]\n",
        "          feature vectors, where n_samples is the number of samples\n",
        "          in the data set, n_features is the number of features\n",
        "        y : dataframe with shape = [n_samples].\n",
        "            1 target value per sample (the label).\n",
        "\n",
        "        Returns\n",
        "        -----------\n",
        "        self : object\n",
        "\n",
        "        \"\"\"\n",
        "\n",
        "\n",
        "        # this will be used to store the number of updates per epoch\n",
        "        self.errors_ = []\n",
        "\n",
        "        for _ in range(self.epochs):\n",
        "            errors = 0\n",
        "            for xi, target in zip(X, y):\n",
        "                error = target - self.predict(xi)\n",
        "                if (error != 0):\n",
        "                    update = self.eta * (error)\n",
        "                    self.w_[1:] += update * xi\n",
        "                    self.w_[0] += update\n",
        "                    errors += int(update != 0.0)\n",
        "            self.errors_.append(errors)\n",
        "        return self\n",
        "\n",
        "    def net_input(self, x):\n",
        "        \"\"\"Calculate net input\"\"\"\n",
        "        net_input = np.dot(x, self.w_[1:]) + self.w_[0]\n",
        "        return net_input\n",
        "\n",
        "    def predict(self, x):\n",
        "        \"\"\"Predict based on computing the net input and the threshold function\"\"\"\n",
        "        net_input = self.net_input(x)\n",
        "        if net_input >= 0.0:\n",
        "            prediction = 1\n",
        "        elif net_input < 0.0:\n",
        "            prediction = -1\n",
        "        return prediction"
      ]
    },
    {
      "cell_type": "markdown",
      "metadata": {
        "id": "EVaISt-a-wQq"
      },
      "source": [
        "# Visualizing the semantics of the dimensions.\n",
        "\n",
        "The next cell contains an implementation that allows us\n",
        "to visualize the dimensions of the weight vector learnt by the\n",
        "Perceptron based on projecting back into the 2D space."
      ]
    },
    {
      "cell_type": "code",
      "execution_count": null,
      "metadata": {
        "pycharm": {
          "is_executing": false,
          "name": "#%%\n"
        },
        "id": "b4nfz5em-wQq"
      },
      "outputs": [],
      "source": [
        "import numpy as np\n",
        "from IPython.display import clear_output\n",
        "from time import sleep\n",
        "import matplotlib as mpl\n",
        "import matplotlib.pyplot as plt\n",
        "import matplotlib.colors as col\n",
        "from matplotlib.colors import LinearSegmentedColormap\n",
        "from matplotlib import cm\n",
        "\n",
        "\n",
        "mpl.rc('axes', labelsize=14)\n",
        "mpl.rc('xtick', labelsize=12)\n",
        "mpl.rc('ytick', labelsize=12)\n",
        "\n",
        "\n",
        "N=256\n",
        "zero_pt0 = 0.5\n",
        "zero_pt_rounded = np.ceil(zero_pt0*(N-1))/float(N-1)\n",
        "\n",
        "cmap = plt.get_cmap(\"RdBu\")\n",
        "cmap.set_bad(color='white')\n",
        "\n",
        "def draw_weight_vector(weight_vector, redraw):\n",
        "    transf_weight_vector = np.copy(weight_vector[1:])\n",
        "    transf_weight_vector = np.ma.masked_where(transf_weight_vector < 0.035, transf_weight_vector)\n",
        "    #transf_weight_vector[np.abs(transf_weight_vector) < 1] = 0.5\n",
        "    some_digit_image =  transf_weight_vector.reshape(28, 28)\n",
        "    plt.imshow(some_digit_image, cmap, interpolation=\"nearest\")\n",
        "    plt.axis(\"off\")\n",
        "    plt.show()\n",
        "    sleep(0.1)\n",
        "    if redraw:\n",
        "        clear_output(wait=True)\n",
        "\n",
        "\n",
        "\n"
      ]
    },
    {
      "cell_type": "markdown",
      "metadata": {
        "id": "mfmr4D-3-wQr"
      },
      "source": [
        "# Exercise 1: Visualize The Random Weight Vector\n",
        "\n",
        "Use the `draw_weight_vector` method to visualize the weight vector of the Perceptron directly after initialisation of the class."
      ]
    },
    {
      "cell_type": "code",
      "execution_count": null,
      "metadata": {
        "id": "zEpd52Sl-wQr",
        "outputId": "92caca3f-28a9-4214-f989-d48821ced473"
      },
      "outputs": [
        {
          "data": {
            "image/png": "[encoded data removed]",
            "text/plain": [
              "<Figure size 432x288 with 1 Axes>"
            ]
          },
          "metadata": {
            "needs_background": "light"
          },
          "output_type": "display_data"
        }
      ],
      "source": [
        "# your output might look similar to what is shown below\n",
        "\n"
      ]
    },
    {
      "cell_type": "markdown",
      "metadata": {
        "id": "F3kcxsbp-wQr"
      },
      "source": [
        "## Exercise 2: Integrate into the Training Process\n",
        "\n",
        "Integrate the visualisation into the training process.\n",
        "We now have the ability to map and draw the weights in relation to the original place of the pixels.\n",
        "\n",
        "1. Integrate the draw_weight_vector functionality into the Pereceptron#fit class\n",
        "2. Train the percpetron class\n",
        "\n",
        "Your output should look similar to what is shown below.\n",
        "The plot of the weights in 2D should be re-drawn with every update that is made."
      ]
    },
    {
      "cell_type": "code",
      "execution_count": null,
      "metadata": {
        "pycharm": {
          "is_executing": false,
          "name": "#%%\n"
        },
        "id": "gtG_S4RT-wQr",
        "outputId": "91e155fe-fc0f-47bb-8d7c-7c7fba50867c"
      },
      "outputs": [
        {
          "name": "stdout",
          "output_type": "stream",
          "text": [
            "Training Finished\n"
          ]
        },
        {
          "data": {
            "image/png": "[encoded data removed]",
            "text/plain": [
              "<Figure size 1296x288 with 1 Axes>"
            ]
          },
          "metadata": {
            "needs_background": "light"
          },
          "output_type": "display_data"
        },
        {
          "data": {
            "image/png": "[encoded data removed]",
            "text/plain": [
              "<Figure size 1296x288 with 1 Axes>"
            ]
          },
          "metadata": {
            "needs_background": "light"
          },
          "output_type": "display_data"
        }
      ],
      "source": [
        "ppn = Perceptron(eta=0.02, epochs=7)\n",
        "\n",
        "\n",
        "print('Training Finished')\n",
        "\n",
        "# Plot number of epochs versus number of updates (i.e. errors, false classifications).\n",
        "plt.plot(range(1, len(ppn.errors_) + 1), ppn.errors_, marker='o')\n",
        "plt.xlabel('Epochs')\n",
        "plt.ylabel('Number of updates')\n",
        "plt.show()\n",
        "\n"
      ]
    }
  ],
  "metadata": {
    "kernelspec": {
      "display_name": "PyCharm (Perceptron)",
      "language": "python",
      "name": "pycharm-d231b7f0"
    },
    "language_info": {
      "codemirror_mode": {
        "name": "ipython",
        "version": 3
      },
      "file_extension": ".py",
      "mimetype": "text/x-python",
      "name": "python",
      "nbconvert_exporter": "python",
      "pygments_lexer": "ipython3",
      "version": "3.7.3"
    },
    "pycharm": {
      "stem_cell": {
        "cell_type": "raw",
        "metadata": {
          "collapsed": false
        },
        "source": []
      }
    },
    "colab": {
      "provenance": [],
      "include_colab_link": true
    }
  },
  "nbformat": 4,
  "nbformat_minor": 0
}