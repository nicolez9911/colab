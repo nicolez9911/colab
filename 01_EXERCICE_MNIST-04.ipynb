{
  "nbformat": 4,
  "nbformat_minor": 0,
  "metadata": {
    "colab": {
      "provenance": [],
      "include_colab_link": true
    },
    "kernelspec": {
      "name": "python3",
      "display_name": "Python 3"
    },
    "language_info": {
      "name": "python"
    },
    "accelerator": "GPU"
  },
  "cells": [
    {
      "cell_type": "markdown",
      "metadata": {
        "id": "view-in-github",
        "colab_type": "text"
      },
      "source": [
        "<a href=\"https://colab.research.google.com/github/nicolez9911/colab/blob/main/01_EXERCICE_MNIST-04.ipynb\" target=\"_parent\"><img src=\"https://colab.research.google.com/assets/colab-badge.svg\" alt=\"Open In Colab\"/></a>"
      ]
    },
    {
      "cell_type": "markdown",
      "source": [
        "**Loading the MNIST dataset in Keras**"
      ],
      "metadata": {
        "id": "q6chNMaKAQkx"
      }
    },
    {
      "cell_type": "code",
      "execution_count": 39,
      "metadata": {
        "id": "0wQhfOHZAOsy"
      },
      "outputs": [],
      "source": [
        "from tensorflow.keras.datasets import mnist\n",
        "(train_images, train_labels), (test_images, test_labels) = mnist.load_data()"
      ]
    },
    {
      "cell_type": "markdown",
      "source": [
        "**1.** Find the shape of the tensor for train_images.\n",
        "\n",
        "**2.** What each dimension in the shape represent?\n",
        "\n",
        "**3.** Write code that returns a pixel of your choosing from the first image.\n",
        "\n",
        "**4.** What does the value signify?\n",
        "\n",
        "**5.** What is the ground truth of this image?\n",
        "\n",
        "**6.** Output the values of all the pixels of this image.\n",
        "\n",
        "**7.** Try to visualise the image using **matplotlib**.\n",
        "\n",
        "**8.** Make sure that the number of labels matches the number of images in the training set."
      ],
      "metadata": {
        "id": "9stFUsp-G5iA"
      }
    },
    {
      "cell_type": "markdown",
      "source": [
        "1. **Shape**"
      ],
      "metadata": {
        "id": "c-3tPhxLDN3G"
      }
    },
    {
      "cell_type": "code",
      "source": [
        "train_images.shape"
      ],
      "metadata": {
        "colab": {
          "base_uri": "https://localhost:8080/"
        },
        "id": "PCsr6LTTDNif",
        "outputId": "9fda3538-673a-45e4-de23-7a7cca1d336a"
      },
      "execution_count": 2,
      "outputs": [
        {
          "output_type": "execute_result",
          "data": {
            "text/plain": [
              "(60000, 28, 28)"
            ]
          },
          "metadata": {},
          "execution_count": 2
        }
      ]
    },
    {
      "cell_type": "markdown",
      "source": [
        "2. **Dimensions**\n",
        "  1.   Anzahl Bilder\n",
        "  2.   Pixel X\n",
        "  3.   Pixel Y\n",
        "\n",
        "\n",
        "\n"
      ],
      "metadata": {
        "id": "Bi3n-7jQDd7h"
      }
    },
    {
      "cell_type": "markdown",
      "source": [
        "3. **Pixel from the first image**"
      ],
      "metadata": {
        "id": "vqVBYVHlD7ib"
      }
    },
    {
      "cell_type": "code",
      "source": [
        "train_images[0, 0, 0]"
      ],
      "metadata": {
        "colab": {
          "base_uri": "https://localhost:8080/"
        },
        "id": "WTf98WYpEDVG",
        "outputId": "36a3b2bd-60b3-4470-ff50-6106885a50ef"
      },
      "execution_count": 8,
      "outputs": [
        {
          "output_type": "execute_result",
          "data": {
            "text/plain": [
              "0"
            ]
          },
          "metadata": {},
          "execution_count": 8
        }
      ]
    },
    {
      "cell_type": "markdown",
      "source": [
        "4. **What does the value signify?**\n",
        "Grauwert von 0 bis 255"
      ],
      "metadata": {
        "id": "rAcR8a1nEaRj"
      }
    },
    {
      "cell_type": "markdown",
      "source": [
        "5. & 6. **What is the groud truth?**\n",
        "Label, Wert der angegeben wurde."
      ],
      "metadata": {
        "id": "EkvNpnT9Ew2e"
      }
    },
    {
      "cell_type": "code",
      "source": [
        "train_labels[0]"
      ],
      "metadata": {
        "colab": {
          "base_uri": "https://localhost:8080/"
        },
        "id": "RMnbUlA_FAed",
        "outputId": "ffd9a4b2-de47-4084-cb88-f0e982e154d1"
      },
      "execution_count": 10,
      "outputs": [
        {
          "output_type": "execute_result",
          "data": {
            "text/plain": [
              "5"
            ]
          },
          "metadata": {},
          "execution_count": 10
        }
      ]
    },
    {
      "cell_type": "markdown",
      "source": [
        "7. **Visualize**"
      ],
      "metadata": {
        "id": "qy3PcsWzFP8q"
      }
    },
    {
      "cell_type": "code",
      "source": [
        "from matplotlib import pyplot\n",
        "pyplot.imshow(train_images[0], cmap='gray', vmin=0, vmax=255)\n"
      ],
      "metadata": {
        "colab": {
          "base_uri": "https://localhost:8080/",
          "height": 448
        },
        "id": "I9Ga0BnoFSeQ",
        "outputId": "e23d88cd-5b72-4ef3-df1c-4a16c2ec1a2c"
      },
      "execution_count": 12,
      "outputs": [
        {
          "output_type": "execute_result",
          "data": {
            "text/plain": [
              "<matplotlib.image.AxesImage at 0x7b6029d948b0>"
            ]
          },
          "metadata": {},
          "execution_count": 12
        },
        {
          "output_type": "display_data",
          "data": {
            "text/plain": [
              "<Figure size 640x480 with 1 Axes>"
            ],
            "image/png": "[encoded data removed]"
          },
          "metadata": {}
        }
      ]
    },
    {
      "cell_type": "markdown",
      "source": [
        "8. **Match?** => yes probably"
      ],
      "metadata": {
        "id": "0VnPdTRRGTNV"
      }
    },
    {
      "cell_type": "markdown",
      "source": [
        "**The network architecture**"
      ],
      "metadata": {
        "id": "GDzOxVUsBQ-8"
      }
    },
    {
      "cell_type": "markdown",
      "source": [
        "**9.** Using the example in the slides create a sequential model with two dense layers, one hidden and one for output.\n",
        "Make the output size of the hidden layer 512 and carrefully choose the activation functions and the output size of the last layer."
      ],
      "metadata": {
        "id": "9c1YKR_LNSvX"
      }
    },
    {
      "cell_type": "code",
      "source": [
        "import tensorflow as tf\n",
        "import numpy as np\n",
        "from tensorflow import keras\n",
        "\n",
        "model = tf.keras.Sequential([\n",
        "    tf.keras.layers.Flatten(input_shape=(28,28)),\n",
        "    keras.layers.Dense(units=512, activation=\"relu\"),\n",
        "    keras.layers.Dense(units=10, activation=\"softmax\")\n",
        "])\n"
      ],
      "metadata": {
        "id": "y3vPB7DLHB9T"
      },
      "execution_count": 40,
      "outputs": []
    },
    {
      "cell_type": "markdown",
      "source": [
        "**The compilation step**"
      ],
      "metadata": {
        "id": "5RgVbor9BZoU"
      }
    },
    {
      "cell_type": "markdown",
      "source": [
        "**10.** What is the role of the optimizer and the loss function?  How do we use the metrics during training?\n",
        "\n",
        "### ???"
      ],
      "metadata": {
        "id": "OQClKhmoPpuu"
      }
    },
    {
      "cell_type": "code",
      "source": [
        "model.compile(optimizer=\"rmsprop\",\n",
        "              loss=\"sparse_categorical_crossentropy\",\n",
        "              metrics=[\"accuracy\"])"
      ],
      "metadata": {
        "id": "VOZIz4IhBdwo"
      },
      "execution_count": 41,
      "outputs": []
    },
    {
      "cell_type": "markdown",
      "source": [
        "**Preparing the image data**\n",
        "\n",
        "In order to pass this dataset to our NN, we need to:\n",
        "1. Reshape each image from 2D to 1D (ie. store all the pixels values in a\n",
        "single list).\n",
        "2. Normalize all pixel values (that are currently between 0 and 255) to floats between 0 and 1 (that are easier for the network to handle).\n"
      ],
      "metadata": {
        "id": "gqphsFp-Bo0L"
      }
    },
    {
      "cell_type": "code",
      "source": [
        "# train_images = train_images.reshape((60000, 28 * 28)) => flatten reshape does that\n",
        "train_images = train_images.astype(\"float32\") / 255\n",
        "# test_images = test_images.reshape((10000, 28 * 28)) => flatten reshape does that\n",
        "test_images = test_images.astype(\"float32\") / 255"
      ],
      "metadata": {
        "id": "f7RNL5EsBsgt"
      },
      "execution_count": 42,
      "outputs": []
    },
    {
      "cell_type": "markdown",
      "source": [
        "**\"Fitting\" the model**"
      ],
      "metadata": {
        "id": "nflra06gB9gB"
      }
    },
    {
      "cell_type": "code",
      "source": [
        "model.fit(train_images, train_labels, epochs=5, batch_size=128, validation_split=0.2)\n"
      ],
      "metadata": {
        "colab": {
          "base_uri": "https://localhost:8080/"
        },
        "id": "N5tRZKyeI15H",
        "outputId": "c8d30861-e8be-46ec-fc7a-2b0320ec09f2"
      },
      "execution_count": 43,
      "outputs": [
        {
          "output_type": "stream",
          "name": "stdout",
          "text": [
            "Epoch 1/5\n",
            "375/375 [==============================] - 6s 4ms/step - loss: 0.2918 - accuracy: 0.9155 - val_loss: 0.1515 - val_accuracy: 0.9562\n",
            "Epoch 2/5\n",
            "375/375 [==============================] - 1s 3ms/step - loss: 0.1228 - accuracy: 0.9644 - val_loss: 0.1096 - val_accuracy: 0.9682\n",
            "Epoch 3/5\n",
            "375/375 [==============================] - 1s 3ms/step - loss: 0.0803 - accuracy: 0.9768 - val_loss: 0.0971 - val_accuracy: 0.9713\n",
            "Epoch 4/5\n",
            "375/375 [==============================] - 1s 3ms/step - loss: 0.0578 - accuracy: 0.9826 - val_loss: 0.0848 - val_accuracy: 0.9736\n",
            "Epoch 5/5\n",
            "375/375 [==============================] - 2s 4ms/step - loss: 0.0430 - accuracy: 0.9876 - val_loss: 0.0795 - val_accuracy: 0.9755\n"
          ]
        },
        {
          "output_type": "execute_result",
          "data": {
            "text/plain": [
              "<keras.src.callbacks.History at 0x7b6012125ed0>"
            ]
          },
          "metadata": {},
          "execution_count": 43
        }
      ]
    },
    {
      "cell_type": "markdown",
      "source": [
        "**11.** Train the model for 5 epochs and batch-size 128\n",
        "\n"
      ],
      "metadata": {
        "id": "LgV4tAwTRD84"
      }
    },
    {
      "cell_type": "markdown",
      "source": [
        "\n",
        "**Using the model to make predictions**"
      ],
      "metadata": {
        "id": "NhYu_Wy7CHjs"
      }
    },
    {
      "cell_type": "markdown",
      "source": [
        "**12.** Make predicion for the first 10 images of the test_images set.\n",
        "\n",
        "**13.** Check the prediction of the first one."
      ],
      "metadata": {
        "id": "fgOxbz6xxcf7"
      }
    },
    {
      "cell_type": "code",
      "source": [
        "predictions = model.predict(test_images[:10])\n",
        "#print(predictions)\n",
        "# argmax = max value\n",
        "print(np.argmax(predictions, axis=1))\n",
        "\n",
        "#pyplot.imshow(test_images[1], cmap='gray', vmin=0, vmax=1)\n"
      ],
      "metadata": {
        "colab": {
          "base_uri": "https://localhost:8080/"
        },
        "id": "LQsfycp7Jh3y",
        "outputId": "2406b330-f6fe-4f44-c173-82de87785132"
      },
      "execution_count": 53,
      "outputs": [
        {
          "output_type": "stream",
          "name": "stdout",
          "text": [
            "1/1 [==============================] - 0s 17ms/step\n",
            "[7 2 1 0 4 1 4 9 5 9]\n"
          ]
        }
      ]
    },
    {
      "cell_type": "markdown",
      "source": [
        "**14.** Make sure that your prediction is correct.\n",
        "\n",
        "**15.** Visualize the test image."
      ],
      "metadata": {
        "id": "kYhcKGIHVimZ"
      }
    },
    {
      "cell_type": "code",
      "source": [
        "pyplot.imshow(test_images[0], cmap='gray', vmin=0, vmax=1)"
      ],
      "metadata": {
        "colab": {
          "base_uri": "https://localhost:8080/",
          "height": 448
        },
        "id": "edZOsvfQP0Cg",
        "outputId": "f07d9fef-7f74-45eb-8926-abdd37e00c38"
      },
      "execution_count": 58,
      "outputs": [
        {
          "output_type": "execute_result",
          "data": {
            "text/plain": [
              "<matplotlib.image.AxesImage at 0x7b60120c9e40>"
            ]
          },
          "metadata": {},
          "execution_count": 58
        },
        {
          "output_type": "display_data",
          "data": {
            "text/plain": [
              "<Figure size 640x480 with 1 Axes>"
            ],
            "image/png": "[encoded data removed]"
          },
          "metadata": {}
        }
      ]
    },
    {
      "cell_type": "markdown",
      "source": [
        "**Evaluating the model on new data**"
      ],
      "metadata": {
        "id": "EbuNN1jhCs07"
      }
    },
    {
      "cell_type": "markdown",
      "source": [
        "**16.** Evaluate the model using test_images and test_labels sets."
      ],
      "metadata": {
        "id": "sRMoI7Ssyd3w"
      }
    },
    {
      "cell_type": "code",
      "source": [
        "test_score = model.evaluate(test_images, test_labels)\n",
        "print(test_score)"
      ],
      "metadata": {
        "colab": {
          "base_uri": "https://localhost:8080/"
        },
        "id": "JxMxfnmCPPn_",
        "outputId": "e0c71742-fc92-4c4b-b0f2-f578605e9cb6"
      },
      "execution_count": 56,
      "outputs": [
        {
          "output_type": "stream",
          "name": "stdout",
          "text": [
            "313/313 [==============================] - 1s 3ms/step - loss: 0.0658 - accuracy: 0.9801\n",
            "[0.06581088900566101, 0.9800999760627747]\n"
          ]
        }
      ]
    },
    {
      "cell_type": "markdown",
      "source": [
        "**17.** Retrain with : (a) different batch-sizes, (b) different number of epochs, (c) smaller training sets (100/1000/6000/10000) and combination of these 3.\n",
        "Also, create different models with (d) more layers, (e) smaller layers and train them for different scenarios from above (batch-size, epochs and size of training set).\n"
      ],
      "metadata": {
        "id": "D2-Tswx7Rn0U"
      }
    },
    {
      "cell_type": "code",
      "source": [],
      "metadata": {
        "id": "Mk1fb8FvRrYz"
      },
      "execution_count": null,
      "outputs": []
    },
    {
      "cell_type": "markdown",
      "source": [
        "**18**. What do you observe?\n",
        "\n",
        "**19.** Plot the results for each of your experiments (you will use the History object). Example:\n",
        "\n",
        "![Screenshot 2021-12-10 at 10.45.16.png](data:image/png;base64,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)\n",
        "\n"
      ],
      "metadata": {
        "id": "sBfPhK2-jjWS"
      }
    },
    {
      "cell_type": "markdown",
      "source": [
        "**20**. Repeate exercices and questions 1 to 19 for the mnist_fashion dataset :\n",
        "tensorflow.keras.datasets.fashion_mnist\n"
      ],
      "metadata": {
        "id": "DnBKhzXm4em8"
      }
    }
  ]
}