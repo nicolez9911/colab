{
  "nbformat": 4,
  "nbformat_minor": 0,
  "metadata": {
    "colab": {
      "provenance": [],
      "include_colab_link": true
    },
    "kernelspec": {
      "name": "python3",
      "display_name": "Python 3"
    },
    "language_info": {
      "name": "python"
    }
  },
  "cells": [
    {
      "cell_type": "markdown",
      "metadata": {
        "id": "view-in-github",
        "colab_type": "text"
      },
      "source": [
        "<a href=\"https://colab.research.google.com/github/nicolez9911/colab/blob/main/mathofdl/Math_of_DL_L2_SOLUTIONS.ipynb\" target=\"_parent\"><img src=\"https://colab.research.google.com/assets/colab-badge.svg\" alt=\"Open In Colab\"/></a>"
      ]
    },
    {
      "cell_type": "code",
      "execution_count": null,
      "metadata": {
        "id": "uPSc7EvrpHUq"
      },
      "outputs": [],
      "source": [
        "import numpy as np\n",
        "import pandas as pd\n",
        "import matplotlib.pyplot as plt"
      ]
    },
    {
      "cell_type": "markdown",
      "source": [
        "# Mathematics of Deep Learning\n",
        "## Lecture 2 Exercises"
      ],
      "metadata": {
        "id": "LPJP93oPpRnb"
      }
    },
    {
      "cell_type": "markdown",
      "source": [
        "---\n",
        "## 1. Linear Regression with Gradient Descent\n",
        "\n",
        "In this exercise, we perform linear regression from scratch using a real-word dataset relating poverty and murder rates, found [here](https://people.sc.fsu.edu/~jburkardt/datasets/regression/regression.html)."
      ],
      "metadata": {
        "id": "n3WUTxdjnszw"
      }
    },
    {
      "cell_type": "code",
      "source": [
        "## Use pandas to import the data\n",
        "\n",
        "data_url = 'https://github.com/arputtick/dataism/raw/master/assignments/Week%203/Income%20vs.%20Murder.xlsx'\n",
        "poverty_murder_data = pd.read_excel(data_url)\n",
        "poverty_murder_data"
      ],
      "metadata": {
        "colab": {
          "base_uri": "https://localhost:8080/",
          "height": 676
        },
        "id": "XT4F7TTSo82W",
        "outputId": "e737feb9-b25f-4997-ebc2-0cd2766b2e2f"
      },
      "execution_count": null,
      "outputs": [
        {
          "output_type": "execute_result",
          "data": {
            "text/plain": [
              "    Percent with income below $ 5000  \\\n",
              "0                               16.5   \n",
              "1                               20.5   \n",
              "2                               26.3   \n",
              "3                               16.5   \n",
              "4                               19.2   \n",
              "5                               16.5   \n",
              "6                               20.2   \n",
              "7                               21.3   \n",
              "8                               17.2   \n",
              "9                               14.3   \n",
              "10                              18.1   \n",
              "11                              23.1   \n",
              "12                              19.1   \n",
              "13                              24.7   \n",
              "14                              18.6   \n",
              "15                              24.9   \n",
              "16                              17.9   \n",
              "17                              22.4   \n",
              "18                              20.2   \n",
              "19                              16.9   \n",
              "\n",
              "    Number of murders per 1,000,000 inhabitants  \n",
              "0                                          11.2  \n",
              "1                                          13.4  \n",
              "2                                          40.7  \n",
              "3                                           5.3  \n",
              "4                                          24.8  \n",
              "5                                          12.7  \n",
              "6                                          20.9  \n",
              "7                                          35.7  \n",
              "8                                           8.7  \n",
              "9                                           9.6  \n",
              "10                                         14.5  \n",
              "11                                         26.9  \n",
              "12                                         15.7  \n",
              "13                                         36.2  \n",
              "14                                         18.1  \n",
              "15                                         28.9  \n",
              "16                                         14.9  \n",
              "17                                         25.8  \n",
              "18                                         21.7  \n",
              "19                                         25.7  "
            ],
            "text/html": [
              "\n",
              "  <div id=\"df-457f768a-6444-42f9-8949-8656dfb362c0\">\n",
              "    <div class=\"colab-df-container\">\n",
              "      <div>\n",
              "<style scoped>\n",
              "    .dataframe tbody tr th:only-of-type {\n",
              "        vertical-align: middle;\n",
              "    }\n",
              "\n",
              "    .dataframe tbody tr th {\n",
              "        vertical-align: top;\n",
              "    }\n",
              "\n",
              "    .dataframe thead th {\n",
              "        text-align: right;\n",
              "    }\n",
              "</style>\n",
              "<table border=\"1\" class=\"dataframe\">\n",
              "  <thead>\n",
              "    <tr style=\"text-align: right;\">\n",
              "      <th></th>\n",
              "      <th>Percent with income below $ 5000</th>\n",
              "      <th>Number of murders per 1,000,000 inhabitants</th>\n",
              "    </tr>\n",
              "  </thead>\n",
              "  <tbody>\n",
              "    <tr>\n",
              "      <th>0</th>\n",
              "      <td>16.5</td>\n",
              "      <td>11.2</td>\n",
              "    </tr>\n",
              "    <tr>\n",
              "      <th>1</th>\n",
              "      <td>20.5</td>\n",
              "      <td>13.4</td>\n",
              "    </tr>\n",
              "    <tr>\n",
              "      <th>2</th>\n",
              "      <td>26.3</td>\n",
              "      <td>40.7</td>\n",
              "    </tr>\n",
              "    <tr>\n",
              "      <th>3</th>\n",
              "      <td>16.5</td>\n",
              "      <td>5.3</td>\n",
              "    </tr>\n",
              "    <tr>\n",
              "      <th>4</th>\n",
              "      <td>19.2</td>\n",
              "      <td>24.8</td>\n",
              "    </tr>\n",
              "    <tr>\n",
              "      <th>5</th>\n",
              "      <td>16.5</td>\n",
              "      <td>12.7</td>\n",
              "    </tr>\n",
              "    <tr>\n",
              "      <th>6</th>\n",
              "      <td>20.2</td>\n",
              "      <td>20.9</td>\n",
              "    </tr>\n",
              "    <tr>\n",
              "      <th>7</th>\n",
              "      <td>21.3</td>\n",
              "      <td>35.7</td>\n",
              "    </tr>\n",
              "    <tr>\n",
              "      <th>8</th>\n",
              "      <td>17.2</td>\n",
              "      <td>8.7</td>\n",
              "    </tr>\n",
              "    <tr>\n",
              "      <th>9</th>\n",
              "      <td>14.3</td>\n",
              "      <td>9.6</td>\n",
              "    </tr>\n",
              "    <tr>\n",
              "      <th>10</th>\n",
              "      <td>18.1</td>\n",
              "      <td>14.5</td>\n",
              "    </tr>\n",
              "    <tr>\n",
              "      <th>11</th>\n",
              "      <td>23.1</td>\n",
              "      <td>26.9</td>\n",
              "    </tr>\n",
              "    <tr>\n",
              "      <th>12</th>\n",
              "      <td>19.1</td>\n",
              "      <td>15.7</td>\n",
              "    </tr>\n",
              "    <tr>\n",
              "      <th>13</th>\n",
              "      <td>24.7</td>\n",
              "      <td>36.2</td>\n",
              "    </tr>\n",
              "    <tr>\n",
              "      <th>14</th>\n",
              "      <td>18.6</td>\n",
              "      <td>18.1</td>\n",
              "    </tr>\n",
              "    <tr>\n",
              "      <th>15</th>\n",
              "      <td>24.9</td>\n",
              "      <td>28.9</td>\n",
              "    </tr>\n",
              "    <tr>\n",
              "      <th>16</th>\n",
              "      <td>17.9</td>\n",
              "      <td>14.9</td>\n",
              "    </tr>\n",
              "    <tr>\n",
              "      <th>17</th>\n",
              "      <td>22.4</td>\n",
              "      <td>25.8</td>\n",
              "    </tr>\n",
              "    <tr>\n",
              "      <th>18</th>\n",
              "      <td>20.2</td>\n",
              "      <td>21.7</td>\n",
              "    </tr>\n",
              "    <tr>\n",
              "      <th>19</th>\n",
              "      <td>16.9</td>\n",
              "      <td>25.7</td>\n",
              "    </tr>\n",
              "  </tbody>\n",
              "</table>\n",
              "</div>\n",
              "      <button class=\"colab-df-convert\" onclick=\"convertToInteractive('df-457f768a-6444-42f9-8949-8656dfb362c0')\"\n",
              "              title=\"Convert this dataframe to an interactive table.\"\n",
              "              style=\"display:none;\">\n",
              "        \n",
              "  <svg xmlns=\"http://www.w3.org/2000/svg\" height=\"24px\"viewBox=\"0 0 24 24\"\n",
              "       width=\"24px\">\n",
              "    <path d=\"M0 0h24v24H0V0z\" fill=\"none\"/>\n",
              "    <path d=\"M18.56 5.44l.94 2.06.94-2.06 2.06-.94-2.06-.94-.94-2.06-.94 2.06-2.06.94zm-11 1L8.5 8.5l.94-2.06 2.06-.94-2.06-.94L8.5 2.5l-.94 2.06-2.06.94zm10 10l.94 2.06.94-2.06 2.06-.94-2.06-.94-.94-2.06-.94 2.06-2.06.94z\"/><path d=\"M17.41 7.96l-1.37-1.37c-.4-.4-.92-.59-1.43-.59-.52 0-1.04.2-1.43.59L10.3 9.45l-7.72 7.72c-.78.78-.78 2.05 0 2.83L4 21.41c.39.39.9.59 1.41.59.51 0 1.02-.2 1.41-.59l7.78-7.78 2.81-2.81c.8-.78.8-2.07 0-2.86zM5.41 20L4 18.59l7.72-7.72 1.47 1.35L5.41 20z\"/>\n",
              "  </svg>\n",
              "      </button>\n",
              "      \n",
              "  <style>\n",
              "    .colab-df-container {\n",
              "      display:flex;\n",
              "      flex-wrap:wrap;\n",
              "      gap: 12px;\n",
              "    }\n",
              "\n",
              "    .colab-df-convert {\n",
              "      background-color: #E8F0FE;\n",
              "      border: none;\n",
              "      border-radius: 50%;\n",
              "      cursor: pointer;\n",
              "      display: none;\n",
              "      fill: #1967D2;\n",
              "      height: 32px;\n",
              "      padding: 0 0 0 0;\n",
              "      width: 32px;\n",
              "    }\n",
              "\n",
              "    .colab-df-convert:hover {\n",
              "      background-color: #E2EBFA;\n",
              "      box-shadow: 0px 1px 2px rgba(60, 64, 67, 0.3), 0px 1px 3px 1px rgba(60, 64, 67, 0.15);\n",
              "      fill: #174EA6;\n",
              "    }\n",
              "\n",
              "    [theme=dark] .colab-df-convert {\n",
              "      background-color: #3B4455;\n",
              "      fill: #D2E3FC;\n",
              "    }\n",
              "\n",
              "    [theme=dark] .colab-df-convert:hover {\n",
              "      background-color: #434B5C;\n",
              "      box-shadow: 0px 1px 3px 1px rgba(0, 0, 0, 0.15);\n",
              "      filter: drop-shadow(0px 1px 2px rgba(0, 0, 0, 0.3));\n",
              "      fill: #FFFFFF;\n",
              "    }\n",
              "  </style>\n",
              "\n",
              "      <script>\n",
              "        const buttonEl =\n",
              "          document.querySelector('#df-457f768a-6444-42f9-8949-8656dfb362c0 button.colab-df-convert');\n",
              "        buttonEl.style.display =\n",
              "          google.colab.kernel.accessAllowed ? 'block' : 'none';\n",
              "\n",
              "        async function convertToInteractive(key) {\n",
              "          const element = document.querySelector('#df-457f768a-6444-42f9-8949-8656dfb362c0');\n",
              "          const dataTable =\n",
              "            await google.colab.kernel.invokeFunction('convertToInteractive',\n",
              "                                                     [key], {});\n",
              "          if (!dataTable) return;\n",
              "\n",
              "          const docLinkHtml = 'Like what you see? Visit the ' +\n",
              "            '<a target=\"_blank\" href=https://colab.research.google.com/notebooks/data_table.ipynb>data table notebook</a>'\n",
              "            + ' to learn more about interactive tables.';\n",
              "          element.innerHTML = '';\n",
              "          dataTable['output_type'] = 'display_data';\n",
              "          await google.colab.output.renderOutput(dataTable, element);\n",
              "          const docLink = document.createElement('div');\n",
              "          docLink.innerHTML = docLinkHtml;\n",
              "          element.appendChild(docLink);\n",
              "        }\n",
              "      </script>\n",
              "    </div>\n",
              "  </div>\n",
              "  "
            ]
          },
          "metadata": {},
          "execution_count": 3
        }
      ]
    },
    {
      "cell_type": "code",
      "source": [
        "## Extract our samples in X array and labels in Y array\n",
        "\n",
        "X = poverty_murder_data['Percent with income below $ 5000']\n",
        "Y = poverty_murder_data['Number of murders per 1,000,000 inhabitants']"
      ],
      "metadata": {
        "id": "oFoRSVUBo-2u"
      },
      "execution_count": null,
      "outputs": []
    },
    {
      "cell_type": "code",
      "source": [
        "## Plot the data\n",
        "\n",
        "# include the original data points in our plot\n",
        "plt.plot(X, Y, 'bo')\n",
        "\n",
        "# display the plot\n",
        "plt.show()"
      ],
      "metadata": {
        "colab": {
          "base_uri": "https://localhost:8080/",
          "height": 265
        },
        "id": "ArA5c-1gFyJ0",
        "outputId": "ebe25af3-c444-49ba-8914-c8c349139dbd"
      },
      "execution_count": null,
      "outputs": [
        {
          "output_type": "display_data",
          "data": {
            "text/plain": [
              "<Figure size 432x288 with 1 Axes>"
            ],
            "image/png": "[encoded data removed]"
          },
          "metadata": {
            "needs_background": "light"
          }
        }
      ]
    },
    {
      "cell_type": "code",
      "source": [
        "## Initialize weights\n",
        "w = 10\n",
        "b =  -100"
      ],
      "metadata": {
        "id": "gqhpvvXmpURf"
      },
      "execution_count": null,
      "outputs": []
    },
    {
      "cell_type": "code",
      "source": [
        "def compute_loss(w,b):\n",
        "    n = len(X)\n",
        "    Y_pred = w*X + b\n",
        "    sq_diff = (Y_pred - Y)**2\n",
        "    loss = 1/n * np.sum(sq_diff)\n",
        "    return loss"
      ],
      "metadata": {
        "id": "Ge_N3oqiF9Kz"
      },
      "execution_count": null,
      "outputs": []
    },
    {
      "cell_type": "markdown",
      "source": [
        "<details><summary>Solution</summary>\n",
        "\n",
        "```\n",
        "def compute_loss(w,b):\n",
        "    n = len(X)\n",
        "    Y_pred = w*X + b\n",
        "    sq_diff = (Y_pred - Y)**2\n",
        "    loss = 1/n * np.sum(sq_diff)\n",
        "    return loss\n",
        "```\n",
        "\n"
      ],
      "metadata": {
        "id": "wINdqrZDs3rO"
      }
    },
    {
      "cell_type": "code",
      "source": [
        "compute_loss(w,b)"
      ],
      "metadata": {
        "id": "BHbNmiDIskF2",
        "colab": {
          "base_uri": "https://localhost:8080/"
        },
        "outputId": "d9bb91a2-2367-427b-85a7-4e4a1a59cca6"
      },
      "execution_count": null,
      "outputs": [
        {
          "output_type": "execute_result",
          "data": {
            "text/plain": [
              "6452.385"
            ]
          },
          "metadata": {},
          "execution_count": 29
        }
      ]
    },
    {
      "cell_type": "code",
      "source": [
        "## Train the model with a for-loop for gradient descent.\n",
        "\n",
        "# Compute the loss after each parameter update and keep track\n",
        "# in the following list:\n",
        "loss_hist = []\n",
        "learning_rate = .0001\n",
        "\n",
        "# Number of steps to take:\n",
        "num_steps = 200\n",
        "\n",
        "for step in range(num_steps):\n",
        "    loss = compute_loss(w,b)\n",
        "    loss_hist.append(loss)\n",
        "    Y_pred = w*X + b\n",
        "    dw = 2/len(X) * np.sum((Y_pred - Y) * X)\n",
        "    db = 2/len(X) * np.sum(Y_pred - Y)\n",
        "    w = w - learning_rate * dw\n",
        "    b = b - learning_rate * db\n",
        "\n",
        "\n",
        "print('final weight: ', w)\n",
        "print('final bias: ', b)\n"
      ],
      "metadata": {
        "colab": {
          "base_uri": "https://localhost:8080/"
        },
        "id": "yShoAv61GLn4",
        "outputId": "201a9b23-5736-4f96-eff7-68621b2756f1"
      },
      "execution_count": null,
      "outputs": [
        {
          "output_type": "stream",
          "name": "stdout",
          "text": [
            "final weight:  6.031535862994707\n",
            "final bias:  -100.1258488146001\n"
          ]
        }
      ]
    },
    {
      "cell_type": "markdown",
      "source": [
        "<details><summary>Solution</summary>\n",
        "\n",
        "```\n",
        "    Y_pred = w*X + b\n",
        "    dw = 2/len(X) * np.sum((Y_pred - Y) * X)\n",
        "    db = 2/len(X) * np.sum(Y_pred - Y)\n",
        "    w = w - learning_rate * dw\n",
        "    b = b - learning_rate * db\n",
        "```"
      ],
      "metadata": {
        "id": "F-j-WDMTug2t"
      }
    },
    {
      "cell_type": "code",
      "source": [
        "## Plot the final line\n",
        "\n",
        "# include the original data points in our plot\n",
        "plt.plot(X, Y, 'bo')\n",
        "\n",
        "# take a long list of 100 values on the x-axis between 0 and 30\n",
        "x = np.linspace(0,30,100)\n",
        "\n",
        "# compute the corresponding y-values for that long list\n",
        "y = w*x + b # predictions for values in that long list\n",
        "\n",
        "# connect all of these points with a red line\n",
        "plt.plot(x, y, '-r') # -r = red line\n",
        "\n",
        "# start the plot at the point (0,0)\n",
        "plt.ylim(ymin = 0)\n",
        "plt.xlim(xmin = 0)\n",
        "\n",
        "# display the plot\n",
        "plt.show()"
      ],
      "metadata": {
        "id": "Z2BKmszbtdOT",
        "colab": {
          "base_uri": "https://localhost:8080/",
          "height": 265
        },
        "outputId": "45a58e25-f8a4-4630-ca5d-3b7350f59ad8"
      },
      "execution_count": null,
      "outputs": [
        {
          "output_type": "display_data",
          "data": {
            "text/plain": [
              "<Figure size 432x288 with 1 Axes>"
            ],
            "image/png": "[encoded data removed]"
          },
          "metadata": {
            "needs_background": "light"
          }
        }
      ]
    },
    {
      "cell_type": "code",
      "source": [
        "# Visualize how the loss changed over time\n",
        "\n",
        "plt.plot(loss_hist)\n",
        "plt.show()"
      ],
      "metadata": {
        "id": "OdGUaNATu5A2",
        "colab": {
          "base_uri": "https://localhost:8080/",
          "height": 265
        },
        "outputId": "0082bd0a-9489-4bef-abe4-210064536eff"
      },
      "execution_count": null,
      "outputs": [
        {
          "output_type": "display_data",
          "data": {
            "text/plain": [
              "<Figure size 432x288 with 1 Axes>"
            ],
            "image/png": "[encoded data removed]"
          },
          "metadata": {
            "needs_background": "light"
          }
        }
      ]
    },
    {
      "cell_type": "code",
      "source": [
        "## BONUS ##\n",
        "\n",
        "# Play around with the learning rate and num_steps to try to train faster."
      ],
      "metadata": {
        "id": "zOTC_d87vAYj"
      },
      "execution_count": null,
      "outputs": []
    },
    {
      "cell_type": "markdown",
      "source": [
        "---\n"
      ],
      "metadata": {
        "id": "DxN0KfUjpdAp"
      }
    },
    {
      "cell_type": "markdown",
      "source": [
        "## 2. Regression with a Neural Network"
      ],
      "metadata": {
        "id": "oqEpKjaTviix"
      }
    },
    {
      "cell_type": "markdown",
      "source": [
        "---\n",
        "In this exercise, we attempt to use a simple 2-layer neural network to fit the same data as in exercise 1.\n",
        "\n",
        "This network will have the following architecture and use ReLU in the first hidden layer and no activation function in the second:\n",
        "![Screen Shot 2022-04-19 at 21.56.52.png](data:image/png;base64,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)"
      ],
      "metadata": {
        "id": "swKZLspUHGk7"
      }
    },
    {
      "cell_type": "code",
      "source": [
        "# Normalize the data\n",
        "\n",
        "X_norm = np.array((X - np.mean(X)) / np.std(X))\n",
        "Y_norm = np.array((Y - np.mean(Y)) / np.std(Y))"
      ],
      "metadata": {
        "id": "Fo1ubMPvysKd"
      },
      "execution_count": null,
      "outputs": []
    },
    {
      "cell_type": "code",
      "source": [
        "## Plot the data\n",
        "\n",
        "# include the original data points in our plot\n",
        "plt.plot(X_norm, Y_norm, 'bo')\n",
        "\n",
        "# display the plot\n",
        "plt.show()"
      ],
      "metadata": {
        "colab": {
          "base_uri": "https://localhost:8080/",
          "height": 265
        },
        "id": "H2rqlySMy_dG",
        "outputId": "00f93035-e5fc-45ce-b030-a8720976c8a8"
      },
      "execution_count": null,
      "outputs": [
        {
          "output_type": "display_data",
          "data": {
            "text/plain": [
              "<Figure size 432x288 with 1 Axes>"
            ],
            "image/png": "[encoded data removed]"
          },
          "metadata": {
            "needs_background": "light"
          }
        }
      ]
    },
    {
      "cell_type": "code",
      "source": [
        "## Initialize weights\n",
        "\n",
        "# First Layer\n",
        "W1 = np.random.normal((2,1))\n",
        "b1 = np.random.normal((2,1))\n",
        "\n",
        "# Second Layer\n",
        "W2 = np.random.normal((1,2)).reshape(1,2)\n",
        "b2 = np.random.normal((1,)) - 5\n",
        "\n",
        "\n",
        "initial_weights = [W1, b1, W2, b2]"
      ],
      "metadata": {
        "id": "WcU1KkBzpeqJ"
      },
      "execution_count": null,
      "outputs": []
    },
    {
      "cell_type": "code",
      "source": [
        "def feed_forward(X, weights):\n",
        "    W1, b1, W2, b2 = weights\n",
        "\n",
        "    ## Output of first layer\n",
        "    W1 = W1.reshape(2,1)\n",
        "    b1 = b1.reshape(2,1)\n",
        "    X = np.array(X).reshape(1,len(X))\n",
        "\n",
        "    Z1 = W1.dot(X) + b1\n",
        "    H1 = np.maximum(Z1, 0)\n",
        "\n",
        "    out = W2.dot(H1) + b2\n",
        "\n",
        "    cache = H1, Z1\n",
        "    return out, weights, cache"
      ],
      "metadata": {
        "id": "sYhwjluPzWm5"
      },
      "execution_count": null,
      "outputs": []
    },
    {
      "cell_type": "code",
      "source": [
        "# Define loss function\n",
        "\n",
        "def mean_squared_loss(out,Y):\n",
        "    n = len(X)\n",
        "    sq_diff = (out - Y.reshape(1,20))**2\n",
        "    loss = 1/n * np.sum(sq_diff)\n",
        "    return loss"
      ],
      "metadata": {
        "id": "qD_2CjyGLrmf"
      },
      "execution_count": null,
      "outputs": []
    },
    {
      "cell_type": "code",
      "source": [
        "import copy\n",
        "\n",
        "def loss_numerical_gradient(weights, index, h = .00001):\n",
        "    '''computes the numerical gradient of the loss\n",
        "    relative to the parameter weights[index]'''\n",
        "\n",
        "    num_grad = np.zeros_like(weights[index])\n",
        "\n",
        "    it = np.nditer(weights[index], flags=['multi_index'], op_flags=['readwrite'])\n",
        "    while not it.finished:\n",
        "        ix = it.multi_index\n",
        "        weights_mh = copy.deepcopy(weights)\n",
        "        weights_mh[index][ix] -= h\n",
        "        out_mh = feed_forward(X_norm, weights_mh)[0]\n",
        "\n",
        "        weights_ph = copy.deepcopy(weights)\n",
        "        weights_ph[index][ix] += h\n",
        "        out_ph = feed_forward(X_norm, weights_ph)[0]\n",
        "\n",
        "        loss_mh = mean_squared_loss(out_mh, Y_norm)\n",
        "        loss_ph = mean_squared_loss(out_ph, Y_norm)\n",
        "\n",
        "        num_grad[ix] = (loss_ph - loss_mh) / (2*h)\n",
        "        it.iternext()\n",
        "\n",
        "    return num_grad"
      ],
      "metadata": {
        "id": "MdWAL5DNS8rk"
      },
      "execution_count": null,
      "outputs": []
    },
    {
      "cell_type": "code",
      "source": [
        "## Plot the initial curve\n",
        "\n",
        "# include the original data points in our plot\n",
        "plt.plot(X_norm, Y_norm, 'bo')\n",
        "\n",
        "# take a long list of 100 values on the x-axis between 0 and 30\n",
        "x = np.linspace(-2,2.5,100)\n",
        "\n",
        "# compute the corresponding y-values for that long list\n",
        "y = feed_forward(x, initial_weights)[0].reshape(100,1) # predictions for values in that long list\n",
        "\n",
        "# connect all of these points with a red line\n",
        "plt.plot(x, y, '-r') # -r = red line\n",
        "\n",
        "# start the plot at the point (0,0)\n",
        "# plt.ylim(ymin = 0)\n",
        "plt.xlim(xmin = -2, xmax = 2.5)\n",
        "\n",
        "# display the plot\n",
        "plt.show()"
      ],
      "metadata": {
        "colab": {
          "base_uri": "https://localhost:8080/",
          "height": 265
        },
        "id": "bxqWsWQ02H6F",
        "outputId": "7d4796d0-033a-488a-fc94-6408e1f5348b"
      },
      "execution_count": null,
      "outputs": [
        {
          "output_type": "display_data",
          "data": {
            "text/plain": [
              "<Figure size 432x288 with 1 Axes>"
            ],
            "image/png": "[encoded data removed]"
          },
          "metadata": {
            "needs_background": "light"
          }
        }
      ]
    },
    {
      "cell_type": "code",
      "source": [
        "grads = {}\n",
        "out, weights, cache = feed_forward(X_norm, initial_weights)\n",
        "W2 = weights[2]\n",
        "H1, Z1 = cache\n",
        "\n",
        "n = len(X)\n",
        "dout = 2/n * (out - np.array(Y_norm).reshape(1,20))\n",
        "dout = np.array(dout).reshape(1,20)\n",
        "\n",
        "## Backprop W2, b2\n",
        "doutdW2 = H1.transpose()\n",
        "dW2 = dout.dot(doutdW2)\n",
        "\n",
        "db2 = dout.sum()\n",
        "\n",
        "## Backprop W1, b1\n",
        "doutdH1 = W2\n",
        "dH1 = (dout.T.dot(doutdH1)).T\n",
        "\n",
        "dH1dZ1 = (Z1 > 0)\n",
        "dZ1 = dH1 * dH1dZ1\n",
        "\n",
        "dZ1dW1 = X_norm.T\n",
        "dW1 = dZ1dW1.dot(dZ1.T)\n",
        "\n",
        "db1 = dZ1.sum(axis = 1)\n",
        "\n",
        "grads['W2'] = dW2\n",
        "grads['b2'] = db2\n",
        "grads['W1'] = dW1\n",
        "grads['b1'] = db1"
      ],
      "metadata": {
        "id": "SoYHEkkfQ8hv"
      },
      "execution_count": null,
      "outputs": []
    },
    {
      "cell_type": "code",
      "source": [
        "def rel_error(x, y):\n",
        "    \"\"\" returns relative error \"\"\"\n",
        "    return np.max(np.abs(x - y) / (np.maximum(1e-8, np.abs(x) + np.abs(y))))"
      ],
      "metadata": {
        "id": "PhfuSxpd_yAs"
      },
      "execution_count": null,
      "outputs": []
    },
    {
      "cell_type": "code",
      "source": [
        "# Check gradients against numerical gradients:\n",
        "\n",
        "num_dW1 = loss_numerical_gradient(initial_weights, 0)\n",
        "print('dW1 error:', rel_error(num_dW1,dW1))\n",
        "\n",
        "num_db1 = loss_numerical_gradient(initial_weights, 1)\n",
        "print('db1 error:', rel_error(num_db1,db1))\n",
        "\n",
        "num_dW2 = loss_numerical_gradient(initial_weights, 2)\n",
        "print('dW2 error:', rel_error(num_dW2,dW2))\n",
        "\n",
        "num_db2 = loss_numerical_gradient(initial_weights, 3)\n",
        "print('dW2 error:', rel_error(num_db2,db2))"
      ],
      "metadata": {
        "colab": {
          "base_uri": "https://localhost:8080/"
        },
        "id": "rtIMzeH_Vcmw",
        "outputId": "7425f585-ad99-470d-adaf-b0ee94b3793b"
      },
      "execution_count": null,
      "outputs": [
        {
          "output_type": "stream",
          "name": "stdout",
          "text": [
            "dW1 error: 4.100073188927859e-12\n",
            "db1 error: 5.000881193618358e-12\n",
            "dW2 error: 2.7266920385364253e-11\n",
            "dW2 error: 6.340565741425946e-12\n"
          ]
        }
      ]
    },
    {
      "cell_type": "code",
      "source": [
        "# Write a function for computing the gradient of the loss:\n",
        "\n",
        "# out, weights, cache = feed_forward(X, weights)\n",
        "\n",
        "def back_prop(out, weights, cache):\n",
        "    grads = {}\n",
        "    H1, Z1 = cache\n",
        "    W2 = weights[2]\n",
        "\n",
        "    n = len(X)\n",
        "    dout = 2/n * (out - np.array(Y_norm).reshape(1,20))\n",
        "    dout = np.array(dout).reshape(1,20)\n",
        "\n",
        "    ## Backprop W2, b2\n",
        "    doutdW2 = H1.transpose()\n",
        "    dW2 = dout.dot(doutdW2)\n",
        "\n",
        "    db2 = dout.sum()\n",
        "\n",
        "    ## Backprop W1, b1\n",
        "    doutdH1 = W2\n",
        "    # dH1 = (dout.T.dot(doutdH1)).T\n",
        "    dH1 = (doutdH1.T).dot(dout)\n",
        "\n",
        "    dH1dZ1 = (Z1 > 0)\n",
        "    dZ1 = dH1 * dH1dZ1\n",
        "\n",
        "    dZ1dW1 = X_norm.T\n",
        "    dW1 = dZ1dW1.dot(dZ1.T)\n",
        "\n",
        "    db1 = dZ1.sum(axis = 1)\n",
        "\n",
        "    grads['W2'] = dW2\n",
        "    grads['b2'] = db2\n",
        "    grads['W1'] = dW1\n",
        "    grads['b1'] = db1\n",
        "\n",
        "    return grads\n"
      ],
      "metadata": {
        "id": "snnhAhNRL_v0"
      },
      "execution_count": null,
      "outputs": []
    },
    {
      "cell_type": "code",
      "source": [
        "## Train the model with a for-loop for gradient descent.\n",
        "\n",
        "# Compute the loss after each parameter update and keep track\n",
        "# in the following list:\n",
        "loss_hist = []\n",
        "learning_rate = .01\n",
        "\n",
        "# Number of steps to take:\n",
        "num_steps = 100\n",
        "\n",
        "weights = initial_weights\n",
        "\n",
        "for step in range(num_steps):\n",
        "    out, weights, cache = feed_forward(X_norm, weights)\n",
        "    loss = mean_squared_loss(out, Y_norm)\n",
        "    loss_hist.append(loss)\n",
        "    grads = back_prop(out, weights, cache)\n",
        "    dW1 = grads['W1']\n",
        "    db1 = grads['b1']\n",
        "    dW2 = grads['W2']\n",
        "    db2 = grads['b2']\n",
        "\n",
        "    num_dW1 = loss_numerical_gradient(weights, 0)\n",
        "    print('dW1 error:', rel_error(num_dW1,dW1))\n",
        "\n",
        "    num_db1 = loss_numerical_gradient(weights, 1)\n",
        "    # print('db1 error:', rel_error(num_db1,db1))\n",
        "\n",
        "    num_dW2 = loss_numerical_gradient(weights, 2)\n",
        "    # print('dW2 error:', rel_error(num_dW2,dW2))\n",
        "\n",
        "    num_db2 = loss_numerical_gradient(weights, 3)\n",
        "    # print('dW2 error:', rel_error(num_db2,db2))\n",
        "\n",
        "    weights[0] -= learning_rate * dW1\n",
        "    weights[1] -= learning_rate * db1\n",
        "    weights[2] -= learning_rate * dW2\n",
        "    weights[3] -= learning_rate * db2\n",
        "\n",
        "    print(W1, dW1, weights[0])"
      ],
      "metadata": {
        "id": "w1wNIlZyZ6AM",
        "colab": {
          "base_uri": "https://localhost:8080/"
        },
        "outputId": "c5ac9e43-537b-4410-d027-6065d4403f03"
      },
      "execution_count": null,
      "outputs": [
        {
          "output_type": "stream",
          "name": "stdout",
          "text": [
            "dW1 error: 4.100073188927859e-12\n",
            "[0.55965681 0.85995976] [2.46121305 5.30904589] [0.55965681 0.85995976]\n",
            "dW1 error: 2.8535357032906726e-12\n",
            "[0.53839728 0.81278354] [2.12595225 4.7176225 ] [0.53839728 0.81278354]\n",
            "dW1 error: 2.8022774034466744e-12\n",
            "[0.5199427  0.77074345] [1.84545817 4.20400869] [0.5199427  0.77074345]\n",
            "dW1 error: 4.316618889864043e-12\n",
            "[0.50387302 0.7332199 ] [1.60696796 3.75235531] [0.50387302 0.7332199 ]\n",
            "dW1 error: 3.7229299590496396e-12\n",
            "[0.48985795 0.69970162] [1.40150774 3.35182822] [0.48985795 0.69970162]\n",
            "dW1 error: 1.1091825899067765e-12\n",
            "[0.47879057 0.66971589] [1.10673717 2.99857305] [0.47879057 0.66971589]\n",
            "dW1 error: 2.9875711258925822e-12\n",
            "[0.46883857 0.64265719] [0.99520066 2.70586915] [0.46883857 0.64265719]\n",
            "dW1 error: 8.960516926821222e-13\n",
            "[0.46408632 0.61810666] [0.47522486 2.45505321] [0.46408632 0.61810666]\n",
            "dW1 error: 4.369265109685617e-12\n",
            "[0.45979669 0.59572497] [0.42896247 2.23816888] [0.45979669 0.59572497]\n",
            "dW1 error: 6.843128810775107e-12\n",
            "[0.45594621 0.57535326] [0.3850481  2.03717142] [0.45594621 0.57535326]\n",
            "dW1 error: 3.324036985937502e-12\n",
            "[0.45250907 0.55683572] [0.34371433 1.85175391] [0.45250907 0.55683572]\n",
            "dW1 error: 4.552418709599412e-12\n",
            "[0.44945819 0.54002205] [0.30508815 1.6813674 ] [0.44945819 0.54002205]\n",
            "dW1 error: 3.3869961354667995e-12\n",
            "[0.44676605 0.52476906] [0.26921382 1.52529818] [0.44676605 0.52476906]\n",
            "dW1 error: 7.073618701451956e-12\n",
            "[0.44440533 0.51094177] [0.23607244 1.38272905] [0.44440533 0.51094177]\n",
            "dW1 error: 2.5105108068140215e-12\n",
            "[0.44234934 0.49841391] [0.20559822 1.25278656] [0.44234934 0.49841391]\n",
            "dW1 error: 2.786868242088841e-13\n",
            "[0.44057243 0.48706814] [0.17769174 1.13457648] [0.44057243 0.48706814]\n",
            "dW1 error: 1.1000994530789656e-11\n",
            "[0.43905012 0.47679604] [0.15223062 1.02720977] [0.43905012 0.47679604]\n",
            "dW1 error: 1.0001032301235395e-11\n",
            "[0.43775934 0.46749784] [0.12907786 0.92982088] [0.43775934 0.46749784]\n",
            "dW1 error: 1.435420002082068e-11\n",
            "[0.43667846 0.45908203] [0.10808842 0.84158028] [0.43667846 0.45908203]\n",
            "dW1 error: 5.5148835476143114e-12\n",
            "[0.43578732 0.45146501] [0.08911414 0.76170234] [0.43578732 0.45146501]\n",
            "dW1 error: 1.3283138070046278e-11\n",
            "[0.43506724 0.44457051] [0.07200745 0.68944992] [0.43506724 0.44457051]\n",
            "dW1 error: 1.8027199303284886e-11\n",
            "[0.434501   0.43832915] [0.05662409 0.62413648] [0.434501   0.43832915]\n",
            "dW1 error: 1.4101220343496929e-11\n",
            "[0.43407275 0.43267788] [0.04282502 0.56512636] [0.43407275 0.43267788]\n",
            "dW1 error: 2.794219526583751e-11\n",
            "[0.43376797 0.42755954] [0.0304777  0.51183382] [0.43376797 0.42755954]\n",
            "dW1 error: 2.0156620352314857e-12\n",
            "[0.4335734  0.42292233] [0.01945695 0.46372119] [0.4335734  0.42292233]\n",
            "dW1 error: 1.475051443711955e-10\n",
            "[0.43347695 0.41871937] [0.00964533 0.42029658] [0.43347695 0.41871937]\n",
            "dW1 error: 4.6111157921990874e-10\n",
            "[0.43346762 0.41490826] [0.00093337 0.38111108] [0.43346762 0.41490826]\n",
            "dW1 error: 1.6351465032226462e-10\n",
            "[0.43353542 0.4114507 ] [-0.00678047  0.34575599] [0.43353542 0.4114507 ]\n",
            "dW1 error: 6.69732820998941e-12\n",
            "[0.43367132 0.4083121 ] [-0.01358999  0.31385985] [0.43367132 0.4083121 ]\n",
            "dW1 error: 4.918957045992983e-11\n",
            "[0.43386714 0.40546124] [-0.01958153  0.28508561] [0.43386714 0.40546124]\n",
            "dW1 error: 1.4472543480993476e-11\n",
            "[0.43411548 0.40286996] [-0.02483431  0.25912779] [0.43411548 0.40286996]\n",
            "dW1 error: 7.478793879394069e-11\n",
            "[0.43440969 0.40051286] [-0.02942083  0.23570987] [0.43440969 0.40051286]\n",
            "dW1 error: 2.3556214251910013e-11\n",
            "[0.43474376 0.39836705] [-0.03340728  0.21458178] [0.43474376 0.39836705]\n",
            "dW1 error: 1.7188332004169318e-11\n",
            "[0.4351123  0.39641187] [-0.03685399  0.19551751] [0.4351123  0.39641187]\n",
            "dW1 error: 2.418569497365882e-11\n",
            "[0.43551046 0.39462874] [-0.0398158   0.17831298] [0.43551046 0.39462874]\n",
            "dW1 error: 2.89430712383169e-11\n",
            "[0.43593388 0.3930009 ] [-0.04234254  0.16278399] [0.43593388 0.3930009 ]\n",
            "dW1 error: 1.2424715123680446e-11\n",
            "[0.43637868 0.39151326] [-0.04447939  0.14876436] [0.43637868 0.39151326]\n",
            "dW1 error: 2.7640903720414707e-11\n",
            "[0.43684135 0.39015222] [-0.04626728  0.13610427] [0.43684135 0.39015222]\n",
            "dW1 error: 2.3838378053650465e-11\n",
            "[0.43731878 0.38890553] [-0.04774322  0.12466865] [0.43731878 0.38890553]\n",
            "dW1 error: 4.605077971600773e-11\n",
            "[0.43780819 0.38776217] [-0.04894067  0.11433582] [0.43780819 0.38776217]\n",
            "dW1 error: 1.2220636759015878e-11\n",
            "[0.43830709 0.38671221] [-0.04988984  0.10499612] [0.43830709 0.38671221]\n",
            "dW1 error: 9.339700458817529e-11\n",
            "[0.43881327 0.3857467 ] [-0.05061799  0.09655082] [0.43881327 0.3857467 ]\n",
            "dW1 error: 9.129348229895395e-12\n",
            "[0.43932476 0.38485759] [-0.05114968  0.08891101] [0.43932476 0.38485759]\n",
            "dW1 error: 1.0701409362080632e-11\n",
            "[0.43983983 0.38403763] [-0.05150705  0.08199662] [0.43983983 0.38403763]\n",
            "dW1 error: 6.658279985460775e-11\n",
            "[0.44035693 0.38328027] [-0.05170999  0.0757356 ] [0.44035693 0.38328027]\n",
            "dW1 error: 1.570960808264741e-11\n",
            "[0.4408747  0.38257964] [-0.05177644  0.07006309] [0.4408747  0.38257964]\n",
            "dW1 error: 3.181959340954184e-11\n",
            "[0.44139192 0.38193043] [-0.05172248  0.0649207 ] [0.44139192 0.38193043]\n",
            "dW1 error: 3.4519080799152877e-11\n",
            "[0.44190755 0.38132787] [-0.05156259  0.06025591] [0.44190755 0.38132787]\n",
            "dW1 error: 3.2236482351798766e-11\n",
            "[0.44242065 0.38076766] [-0.05130975  0.05602143] [0.44242065 0.38076766]\n",
            "dW1 error: 5.62226172711419e-11\n",
            "[0.4429304  0.38024591] [-0.0509756   0.05217473] [0.4429304  0.38024591]\n",
            "dW1 error: 1.959431509492534e-11\n",
            "[0.44343611 0.37975914] [-0.05057059  0.04867754] [0.44343611 0.37975914]\n",
            "dW1 error: 6.09196525276637e-11\n",
            "[0.44393715 0.37930418] [-0.05010407  0.0454954 ] [0.44393715 0.37930418]\n",
            "dW1 error: 2.679402556690677e-11\n",
            "[0.44443299 0.37887821] [-0.04958442  0.04259735] [0.44443299 0.37887821]\n",
            "dW1 error: 5.651392459278938e-11\n",
            "[0.44492319 0.37847865] [-0.04901913  0.03995548] [0.44492319 0.37847865]\n",
            "dW1 error: 1.0006497638551647e-10\n",
            "[0.44540733 0.37810321] [-0.04841489  0.03754472] [0.44540733 0.37810321]\n",
            "dW1 error: 6.488802563174992e-11\n",
            "[0.44588511 0.37774978] [-0.04777771  0.03534249] [0.44588511 0.37774978]\n",
            "dW1 error: 7.898332510655399e-11\n",
            "[0.44635624 0.3774165 ] [-0.0471129   0.03332848] [0.44635624 0.3774165 ]\n",
            "dW1 error: 5.845529031530104e-11\n",
            "[0.44682049 0.37710165] [-0.04642525  0.03148441] [0.44682049 0.37710165]\n",
            "dW1 error: 2.2989541137874775e-10\n",
            "[0.44727768 0.37680371] [-0.04571898  0.02979384] [0.44727768 0.37680371]\n",
            "dW1 error: 9.289961672512545e-11\n",
            "[0.44772766 0.37652129] [-0.04499788  0.02824196] [0.44772766 0.37652129]\n",
            "dW1 error: 1.0313287865419522e-10\n",
            "[0.44817031 0.37625314] [-0.04426529  0.02681544] [0.44817031 0.37625314]\n",
            "dW1 error: 3.240736264679638e-11\n",
            "[0.44860556 0.37599812] [-0.0435242  0.0255023] [0.44860556 0.37599812]\n",
            "dW1 error: 3.4114420785005063e-10\n",
            "[0.44903333 0.3757552 ] [-0.04277724  0.02429173] [0.44903333 0.3757552 ]\n",
            "dW1 error: 1.2299266398801947e-10\n",
            "[0.4494536  0.37552346] [-0.04202675  0.02317403] [0.4494536  0.37552346]\n",
            "dW1 error: 3.2625869312548167e-11\n",
            "[0.44986634 0.37530205] [-0.04127479  0.02214044] [0.44986634 0.37530205]\n",
            "dW1 error: 2.035349395991765e-10\n",
            "[0.45027158 0.37509022] [-0.04052317  0.02118307] [0.45027158 0.37509022]\n",
            "dW1 error: 8.108533695861646e-11\n",
            "[0.45066931 0.37488728] [-0.03977351  0.02029484] [0.45066931 0.37488728]\n",
            "dW1 error: 1.5196789619764904e-10\n",
            "[0.45105958 0.37469258] [-0.03902719  0.01946935] [0.45105958 0.37469258]\n",
            "dW1 error: 1.7544665855554362e-10\n",
            "[0.45144244 0.37450557] [-0.03828545  0.01870084] [0.45144244 0.37450557]\n",
            "dW1 error: 5.659033135932644e-11\n",
            "[0.45181793 0.37432573] [-0.03754936  0.01798412] [0.45181793 0.37432573]\n",
            "dW1 error: 1.4258570519002592e-10\n",
            "[0.45218613 0.37415259] [-0.03681983  0.01731452] [0.45218613 0.37415259]\n",
            "dW1 error: 4.736148172058689e-10\n",
            "[0.45254711 0.37398571] [-0.03609769  0.01668781] [0.45254711 0.37398571]\n",
            "dW1 error: 5.489933975136213e-11\n",
            "[0.45290094 0.37382471] [-0.0353836  0.0161002] [0.45290094 0.37382471]\n",
            "dW1 error: 4.210837793783955e-11\n",
            "[0.45324772 0.37366922] [-0.03467818  0.01554825] [0.45324772 0.37366922]\n",
            "dW1 error: 1.4982123813163159e-10\n",
            "[0.45358754 0.37351894] [-0.0339819   0.01502887] [0.45358754 0.37351894]\n",
            "dW1 error: 6.252480844765459e-11\n",
            "[0.4539205  0.37337354] [-0.0332952   0.01453927] [0.4539205  0.37337354]\n",
            "dW1 error: 1.2010639167318481e-10\n",
            "[0.45424668 0.37323277] [-0.03261842  0.01407694] [0.45424668 0.37323277]\n",
            "dW1 error: 3.194258231190559e-11\n",
            "[0.4545662  0.37309638] [-0.03195185  0.01363958] [0.4545662  0.37309638]\n",
            "dW1 error: 4.898489033124867e-11\n",
            "[0.45487915 0.37296413] [-0.03129571  0.01322515] [0.45487915 0.37296413]\n",
            "dW1 error: 7.29373860397104e-11\n",
            "[0.45518566 0.37283581] [-0.03065018  0.01283179] [0.45518566 0.37283581]\n",
            "dW1 error: 1.0195621500829622e-10\n",
            "[0.45548581 0.37271123] [-0.03001539  0.01245781] [0.45548581 0.37271123]\n",
            "dW1 error: 3.7046109153222646e-11\n",
            "[0.45577972 0.37259021] [-0.02939144  0.0121017 ] [0.45577972 0.37259021]\n",
            "dW1 error: 1.4066945986535086e-10\n",
            "[0.45606751 0.37247259] [-0.02877838  0.01176209] [0.45606751 0.37247259]\n",
            "dW1 error: 2.682856846841166e-10\n",
            "[0.45634927 0.37235822] [-0.02817625  0.01143771] [0.45634927 0.37235822]\n",
            "dW1 error: 1.3390948214249386e-10\n",
            "[0.45662512 0.37224694] [-0.02758505  0.01112745] [0.45662512 0.37224694]\n",
            "dW1 error: 1.658794039929515e-10\n",
            "[0.45689517 0.37213864] [-0.02700474  0.01083028] [0.45689517 0.37213864]\n",
            "dW1 error: 1.5025526843672387e-10\n",
            "[0.45715952 0.37203319] [-0.02643529  0.01054527] [0.45715952 0.37203319]\n",
            "dW1 error: 2.9592567054805014e-10\n",
            "[0.45741829 0.37193047] [-0.02587664  0.01027158] [0.45741829 0.37193047]\n",
            "dW1 error: 4.8001617546547665e-11\n",
            "[0.45767158 0.37183038] [-0.0253287   0.01000844] [0.45767158 0.37183038]\n",
            "dW1 error: 2.1498073654053004e-10\n",
            "[0.45791949 0.37173283] [-0.02479138  0.00975515] [0.45791949 0.37173283]\n",
            "dW1 error: 1.484725089689859e-10\n",
            "[0.45816213 0.37163772] [-0.02426458  0.00951108] [0.45816213 0.37163772]\n",
            "dW1 error: 5.691062916995731e-10\n",
            "[0.45839962 0.37154497] [-0.02374818  0.00927565] [0.45839962 0.37154497]\n",
            "dW1 error: 2.9641192712980986e-10\n",
            "[0.45863204 0.37145448] [-0.02324206  0.00904834] [0.45863204 0.37145448]\n",
            "dW1 error: 1.7428321351338014e-10\n",
            "[0.4588595 0.3713662] [-0.02274609  0.00882865] [0.4588595 0.3713662]\n",
            "dW1 error: 1.811295314697445e-10\n",
            "[0.4590821  0.37128003] [-0.02226012  0.00861616] [0.4590821  0.37128003]\n",
            "dW1 error: 3.5813007478203647e-11\n",
            "[0.45929994 0.37119593] [-0.02178402  0.00841045] [0.45929994 0.37119593]\n",
            "dW1 error: 1.631584079725361e-10\n",
            "[0.45951312 0.37111382] [-0.02131764  0.00821116] [0.45951312 0.37111382]\n",
            "dW1 error: 5.269367360169449e-10\n",
            "[0.45972172 0.37103364] [-0.02086083  0.00801795] [0.45972172 0.37103364]\n",
            "dW1 error: 6.658420972154538e-11\n",
            "[0.45992586 0.37095533] [-0.02041343  0.00783051] [0.45992586 0.37095533]\n",
            "dW1 error: 8.124660635763542e-11\n",
            "[0.46012561 0.37087885] [-0.01997529  0.00764856] [0.46012561 0.37087885]\n"
          ]
        }
      ]
    },
    {
      "cell_type": "code",
      "source": [
        "# Visualize how the loss changed over time\n",
        "\n",
        "plt.plot(loss_hist)\n",
        "plt.show()"
      ],
      "metadata": {
        "colab": {
          "base_uri": "https://localhost:8080/",
          "height": 265
        },
        "id": "r-9DC6P8cbOP",
        "outputId": "96804693-5edb-4575-bdae-1e38ee99f878"
      },
      "execution_count": null,
      "outputs": [
        {
          "output_type": "display_data",
          "data": {
            "text/plain": [
              "<Figure size 432x288 with 1 Axes>"
            ],
            "image/png": "[encoded data removed]"
          },
          "metadata": {
            "needs_background": "light"
          }
        }
      ]
    },
    {
      "cell_type": "code",
      "source": [
        "## Plot the final curve\n",
        "\n",
        "# include the original data points in our plot\n",
        "plt.plot(X_norm, Y_norm, 'bo')\n",
        "\n",
        "# take a long list of 100 values on the x-axis between 0 and 30\n",
        "x = np.linspace(-2,2.5,100)\n",
        "\n",
        "# compute the corresponding y-values for that long list\n",
        "y = feed_forward(x, weights)[0].reshape(100,1) # predictions for values in that long list\n",
        "\n",
        "# connect all of these points with a red line\n",
        "plt.plot(x, y, '-r') # -r = red line\n",
        "\n",
        "# start the plot at the point (0,0)\n",
        "# plt.ylim(ymin = 0)\n",
        "plt.xlim(xmin = -2, xmax = 2.5)\n",
        "\n",
        "# display the plot\n",
        "plt.show()"
      ],
      "metadata": {
        "colab": {
          "base_uri": "https://localhost:8080/",
          "height": 266
        },
        "id": "j5vP_o3Ic3_w",
        "outputId": "c83c26a6-f4fd-4e32-cb03-4c545915588b"
      },
      "execution_count": null,
      "outputs": [
        {
          "output_type": "display_data",
          "data": {
            "text/plain": [
              "<Figure size 432x288 with 1 Axes>"
            ],
            "image/png": "[encoded data removed]"
          },
          "metadata": {
            "needs_background": "light"
          }
        }
      ]
    },
    {
      "cell_type": "code",
      "source": [],
      "metadata": {
        "id": "JEE6BtMh8jlF"
      },
      "execution_count": null,
      "outputs": []
    }
  ]
}