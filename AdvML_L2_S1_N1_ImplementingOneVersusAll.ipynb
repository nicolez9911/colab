{
  "cells": [
    {
      "cell_type": "markdown",
      "metadata": {
        "id": "view-in-github",
        "colab_type": "text"
      },
      "source": [
        "<a href=\"https://colab.research.google.com/github/nicolez9911/colab/blob/main/AdvML_L2_S1_N1_ImplementingOneVersusAll.ipynb\" target=\"_parent\"><img src=\"https://colab.research.google.com/assets/colab-badge.svg\" alt=\"Open In Colab\"/></a>"
      ]
    },
    {
      "cell_type": "markdown",
      "source": [
        "# One versus All (OvA)\n",
        "\n",
        "This notebook provides a stub for implementing the One versus All approach.\n"
      ],
      "metadata": {
        "collapsed": false,
        "pycharm": {
          "name": "#%% md\n"
        },
        "id": "TIa3sy5jv9b2"
      }
    },
    {
      "cell_type": "markdown",
      "source": [
        "### Imports\n"
      ],
      "metadata": {
        "collapsed": false,
        "pycharm": {
          "name": "#%% md\n",
          "is_executing": false
        },
        "id": "Jpr9-Puhv9b4"
      }
    },
    {
      "cell_type": "code",
      "execution_count": 38,
      "outputs": [],
      "source": [
        "import numpy as np\n"
      ],
      "metadata": {
        "pycharm": {
          "name": "#%%\n"
        },
        "id": "6cU3ct_Pv9b4"
      }
    },
    {
      "cell_type": "markdown",
      "source": [
        "### Adapted Perceptron Class\n",
        "\n",
        "In order to use the class for the OvA approach we make three changes:\n",
        "\n",
        "* fit method now returns a weight vector\n",
        "* net_input expects a weight vector as parameter\n",
        "* predict method expects a weight vector as parameter"
      ],
      "metadata": {
        "collapsed": false,
        "pycharm": {
          "name": "#%% md\n",
          "is_executing": false
        },
        "id": "e9n0YR0Vv9b5"
      }
    },
    {
      "cell_type": "code",
      "execution_count": 39,
      "outputs": [],
      "source": [
        "class Perceptron(object):\n",
        "\n",
        "    \"\"\"Perceptron binary classifier.\n",
        "\n",
        "    Parameters\n",
        "    -----------\n",
        "    eta : float\n",
        "       Learning rate (value between 0.0 and 1.0)\n",
        "    epochs  : int\n",
        "       Number of passes over the training set\n",
        "\n",
        "    Attributes\n",
        "    -----------\n",
        "\n",
        "\n",
        "    \"\"\"\n",
        "\n",
        "    def __init__(self, eta=0.01, epochs=10, random_state=1):\n",
        "        self.eta = eta\n",
        "        self.epochs = epochs\n",
        "        self.random_state = random_state\n",
        "\n",
        "    def fit(self, X, y):\n",
        "        \"\"\" Fit training data; i.e. train the Perceptron\n",
        "\n",
        "        Parameters\n",
        "        -----------\n",
        "        X : dataframe with shape - [n_samples, n_features]\n",
        "          feature vectors, where n_samples is the number of samples\n",
        "          in the data set, n_features is the number of features\n",
        "        y : dataframe with shape = [n_samples].\n",
        "            1 target value per sample (the label).\n",
        "\n",
        "        Returns\n",
        "        -----------\n",
        "        self : weight vector w\n",
        "\n",
        "        \"\"\"\n",
        "\n",
        "        # this initialize the weights\n",
        "        rgen = np.random.RandomState(self.random_state)\n",
        "        w = rgen.normal(loc=0.0, scale=0.01, size=1 + X.shape[1])\n",
        "\n",
        "        # this will be used to store the number of updates per epoch\n",
        "\n",
        "\n",
        "        for _ in range(self.epochs):\n",
        "            for xi, target in zip(X, y.T):\n",
        "                update = self.eta * (target - self.predict(xi, w))\n",
        "                w[1:] += update * xi\n",
        "                w[0] += update\n",
        "        return w\n",
        "\n",
        "    def net_input(self, x, w):\n",
        "        \"\"\"Calculate net input for given sample vector and weight vector\"\"\"\n",
        "        net_input = w[0] + sum(t[0] * t[1] for t in zip(x, w[1:]))\n",
        "        return net_input\n",
        "\n",
        "    def predict(self, x, w):\n",
        "        \"\"\"Predict based on computing the net input and the threshold function\"\"\"\n",
        "        net_input = self.net_input(x, w)\n",
        "        if net_input >= 0.0:\n",
        "            prediction = 1\n",
        "        elif net_input < 0.0:\n",
        "            prediction = -1\n",
        "        return prediction\n",
        "\n",
        ""
      ],
      "metadata": {
        "pycharm": {
          "name": "#%%\n"
        },
        "id": "8GIliQvnv9b5"
      }
    },
    {
      "cell_type": "markdown",
      "source": [
        "### Import the IRIS dataset\n",
        "\n",
        "The cell below imports the full IRIS dataset as contained in sklearn.   "
      ],
      "metadata": {
        "collapsed": false,
        "pycharm": {
          "name": "#%% md\n"
        },
        "id": "KsVfbRBWv9b6"
      }
    },
    {
      "cell_type": "code",
      "execution_count": 40,
      "outputs": [],
      "source": [
        "from sklearn import datasets\n",
        "\n",
        "iris = datasets.load_iris()\n",
        "y = iris.target\n",
        "X = iris.data[:,:]"
      ],
      "metadata": {
        "pycharm": {
          "name": "#%%\n",
          "is_executing": false
        },
        "id": "nz8R4GH_v9b6"
      }
    },
    {
      "cell_type": "markdown",
      "source": [
        "### Exercise 1: Analyse Transformation of Targets\n",
        "\n",
        "Take a look at below method and compare it to the discussion we had of the OvA approach.\n",
        "The method provides a key implementation piece necessary for implementing a very simple\n",
        "OvA classifier based on our Perceptron implementation.\n",
        "\n"
      ],
      "metadata": {
        "collapsed": false,
        "pycharm": {
          "name": "#%% md\n"
        },
        "id": "xpfzpknWv9b6"
      }
    },
    {
      "cell_type": "code",
      "execution_count": 41,
      "outputs": [],
      "source": [
        "import copy\n",
        "\n",
        "def split_targets(y):\n",
        "    # identify the number of classes in the dataset\n",
        "    cn = np.size(np.unique(y))\n",
        "    sub_t =  []\n",
        "    for c in range(0,cn):\n",
        "        # prepare temporary C vs notC sub-probem labels\n",
        "        y_temp = copy.deepcopy(y)\n",
        "        ind = np.argwhere(y_temp.astype(int) == c)\n",
        "        ind = ind[:,0]\n",
        "        ind2 = np.argwhere(y_temp.astype(int) != c)\n",
        "        ind2 = ind2[:,0]\n",
        "        #Check indices\n",
        "        y_temp[[ind]] = 1\n",
        "        y_temp[[ind2]] = -1\n",
        "        sub_t.append(y_temp)\n",
        "    return sub_t\n",
        ""
      ],
      "metadata": {
        "pycharm": {
          "name": "#%%\n",
          "is_executing": false
        },
        "id": "lQN3CnUdv9b7"
      }
    },
    {
      "cell_type": "markdown",
      "source": [
        "### Exercise 2: Implement OvA classification\n",
        "\n",
        " 1. Implement the most simplistic OvA implementation.\n",
        "Using the split_targets method should make it much easier to do so.\n",
        "\n",
        " 2. Test your trained weight vectors for each class with samples from the IRIS dataset.\n",
        "    It suffices if you print the scores for the different weight vectors. We just want\n",
        "    to get to the point where we can see the principle of OvA in action.\n",
        "  \n"
      ],
      "metadata": {
        "collapsed": false,
        "pycharm": {
          "name": "#%% md\n",
          "is_executing": false
        },
        "id": "oazDWMopv9b7"
      }
    },
    {
      "cell_type": "code",
      "source": [
        "from sklearn.utils import shuffle"
      ],
      "metadata": {
        "id": "1G3yMHrq274M"
      },
      "execution_count": 42,
      "outputs": []
    },
    {
      "cell_type": "code",
      "execution_count": 45,
      "outputs": [
        {
          "output_type": "stream",
          "name": "stdout",
          "text": [
            "-3.1926849644933126\n",
            "-2.2706849644868825\n",
            "-22.19468496449002\n"
          ]
        }
      ],
      "source": [
        "# the number of classes. This should be useful for the implementation\n",
        "num_classes = np.size(np.unique(y))\n",
        "\n",
        "# transform the target to be compatible with OvA\n",
        "sub_targets = split_targets(y)\n",
        "\n",
        "# train the C weight vectors (1 for each class)\n",
        "ppn = Perceptron(eta=0.1, epochs=300)\n",
        "weights = []\n",
        "for cls in range(0,num_classes):\n",
        "    X_cls, y_cls = shuffle(X, sub_targets[cls], random_state=0)\n",
        "    temp_w = ppn.fit(X_cls, y_cls)\n",
        "    weights.append(temp_w)\n",
        "\n",
        "\n",
        "# test your implementation with multiple\n",
        "x = X[54,:]\n",
        "for c in range(0,num_classes):\n",
        "    print(ppn.net_input(x, weights[c]))\n",
        "\n"
      ],
      "metadata": {
        "pycharm": {
          "name": "#%%\n",
          "is_executing": false
        },
        "colab": {
          "base_uri": "https://localhost:8080/"
        },
        "id": "Spv8wZljv9b7",
        "outputId": "0346707d-cda0-4f3f-d2ff-5c2a600b6c39"
      }
    },
    {
      "cell_type": "markdown",
      "source": [
        "### Exercise 3: Train and Test with MNIST\n",
        "\n",
        "Test your OvA implementation with the MINIST dataset.\n",
        "\n",
        "1. Import the MNIST dataset\n",
        "2. Train an OvA classifier for the full set of digits or a subset\n",
        "3. Conduct some sanity checks by testing with number samples"
      ],
      "metadata": {
        "collapsed": false,
        "pycharm": {
          "name": "#%% md\n",
          "is_executing": false
        },
        "id": "75TOCZVKv9b8"
      }
    },
    {
      "cell_type": "code",
      "execution_count": 43,
      "outputs": [],
      "source": [],
      "metadata": {
        "pycharm": {
          "name": "#%%\n"
        },
        "id": "YzIzvZZQv9b8"
      }
    }
  ],
  "metadata": {
    "language_info": {
      "codemirror_mode": {
        "name": "ipython",
        "version": 2
      },
      "file_extension": ".py",
      "mimetype": "text/x-python",
      "name": "python",
      "nbconvert_exporter": "python",
      "pygments_lexer": "ipython2",
      "version": "2.7.6"
    },
    "kernelspec": {
      "name": "pycharm-d231b7f0",
      "language": "python",
      "display_name": "PyCharm (Perceptron)"
    },
    "pycharm": {
      "stem_cell": {
        "cell_type": "raw",
        "source": [],
        "metadata": {
          "collapsed": false
        }
      }
    },
    "colab": {
      "provenance": [],
      "include_colab_link": true
    }
  },
  "nbformat": 4,
  "nbformat_minor": 0
}