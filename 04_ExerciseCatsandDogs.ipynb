{
  "cells": [
    {
      "cell_type": "markdown",
      "metadata": {
        "id": "view-in-github",
        "colab_type": "text"
      },
      "source": [
        "<a href=\"https://colab.research.google.com/github/nicolez9911/colab/blob/main/04_ExerciseCatsandDogs.ipynb\" target=\"_parent\"><img src=\"https://colab.research.google.com/assets/colab-badge.svg\" alt=\"Open In Colab\"/></a>"
      ]
    },
    {
      "cell_type": "markdown",
      "metadata": {
        "id": "S_byX3ZH8eow"
      },
      "source": [
        "### Cats VS Dogs"
      ]
    },
    {
      "cell_type": "markdown",
      "source": [
        "Install latest version of kaggle library"
      ],
      "metadata": {
        "id": "1IoXBlgPKXWX"
      }
    },
    {
      "cell_type": "code",
      "source": [
        "!pip install --upgrade --force-reinstall --no-deps kaggle"
      ],
      "metadata": {
        "id": "H2VSuC-L96Tn",
        "colab": {
          "base_uri": "https://localhost:8080/"
        },
        "outputId": "1f37b4c4-897f-4f32-a7cc-8525ff7f0c1b"
      },
      "execution_count": 1,
      "outputs": [
        {
          "output_type": "stream",
          "name": "stdout",
          "text": [
            "Collecting kaggle\n",
            "  Downloading kaggle-1.5.16.tar.gz (83 kB)\n",
            "\u001b[2K     \u001b[90m━━━━━━━━━━━━━━━━━━━━━━━━━━━━━━━━━━━━━━━━\u001b[0m \u001b[32m83.6/83.6 kB\u001b[0m \u001b[31m1.5 MB/s\u001b[0m eta \u001b[36m0:00:00\u001b[0m\n",
            "\u001b[?25h  Preparing metadata (setup.py) ... \u001b[?25l\u001b[?25hdone\n",
            "Building wheels for collected packages: kaggle\n",
            "  Building wheel for kaggle (setup.py) ... \u001b[?25l\u001b[?25hdone\n",
            "  Created wheel for kaggle: filename=kaggle-1.5.16-py3-none-any.whl size=110683 sha256=93a78ec4a076b765357d2890c533933909a5e507a12974f634090c51da0c9b4f\n",
            "  Stored in directory: /root/.cache/pip/wheels/43/4b/fb/736478af5e8004810081a06259f9aa2f7c3329fc5d03c2c412\n",
            "Successfully built kaggle\n",
            "Installing collected packages: kaggle\n",
            "  Attempting uninstall: kaggle\n",
            "    Found existing installation: kaggle 1.5.16\n",
            "    Uninstalling kaggle-1.5.16:\n",
            "      Successfully uninstalled kaggle-1.5.16\n",
            "Successfully installed kaggle-1.5.16\n"
          ]
        }
      ]
    },
    {
      "cell_type": "markdown",
      "source": [
        "1. Create a kaggle account and from your settings create a new API token to download a file called kaggle.json"
      ],
      "metadata": {
        "id": "ZU7ryrceBHlg"
      }
    },
    {
      "cell_type": "code",
      "execution_count": 2,
      "metadata": {
        "id": "GPGOa6Zc8eow",
        "colab": {
          "base_uri": "https://localhost:8080/",
          "height": 92
        },
        "outputId": "55464370-1d8d-4155-efca-7341af40496d"
      },
      "outputs": [
        {
          "output_type": "display_data",
          "data": {
            "text/plain": [
              "<IPython.core.display.HTML object>"
            ],
            "text/html": [
              "\n",
              "     <input type=\"file\" id=\"files-5adb8720-8526-45bf-8cc4-3a855c640efb\" name=\"files[]\" multiple disabled\n",
              "        style=\"border:none\" />\n",
              "     <output id=\"result-5adb8720-8526-45bf-8cc4-3a855c640efb\">\n",
              "      Upload widget is only available when the cell has been executed in the\n",
              "      current browser session. Please rerun this cell to enable.\n",
              "      </output>\n",
              "      <script>// Copyright 2017 Google LLC\n",
              "//\n",
              "// Licensed under the Apache License, Version 2.0 (the \"License\");\n",
              "// you may not use this file except in compliance with the License.\n",
              "// You may obtain a copy of the License at\n",
              "//\n",
              "//      http://www.apache.org/licenses/LICENSE-2.0\n",
              "//\n",
              "// Unless required by applicable law or agreed to in writing, software\n",
              "// distributed under the License is distributed on an \"AS IS\" BASIS,\n",
              "// WITHOUT WARRANTIES OR CONDITIONS OF ANY KIND, either express or implied.\n",
              "// See the License for the specific language governing permissions and\n",
              "// limitations under the License.\n",
              "\n",
              "/**\n",
              " * @fileoverview Helpers for google.colab Python module.\n",
              " */\n",
              "(function(scope) {\n",
              "function span(text, styleAttributes = {}) {\n",
              "  const element = document.createElement('span');\n",
              "  element.textContent = text;\n",
              "  for (const key of Object.keys(styleAttributes)) {\n",
              "    element.style[key] = styleAttributes[key];\n",
              "  }\n",
              "  return element;\n",
              "}\n",
              "\n",
              "// Max number of bytes which will be uploaded at a time.\n",
              "const MAX_PAYLOAD_SIZE = 100 * 1024;\n",
              "\n",
              "function _uploadFiles(inputId, outputId) {\n",
              "  const steps = uploadFilesStep(inputId, outputId);\n",
              "  const outputElement = document.getElementById(outputId);\n",
              "  // Cache steps on the outputElement to make it available for the next call\n",
              "  // to uploadFilesContinue from Python.\n",
              "  outputElement.steps = steps;\n",
              "\n",
              "  return _uploadFilesContinue(outputId);\n",
              "}\n",
              "\n",
              "// This is roughly an async generator (not supported in the browser yet),\n",
              "// where there are multiple asynchronous steps and the Python side is going\n",
              "// to poll for completion of each step.\n",
              "// This uses a Promise to block the python side on completion of each step,\n",
              "// then passes the result of the previous step as the input to the next step.\n",
              "function _uploadFilesContinue(outputId) {\n",
              "  const outputElement = document.getElementById(outputId);\n",
              "  const steps = outputElement.steps;\n",
              "\n",
              "  const next = steps.next(outputElement.lastPromiseValue);\n",
              "  return Promise.resolve(next.value.promise).then((value) => {\n",
              "    // Cache the last promise value to make it available to the next\n",
              "    // step of the generator.\n",
              "    outputElement.lastPromiseValue = value;\n",
              "    return next.value.response;\n",
              "  });\n",
              "}\n",
              "\n",
              "/**\n",
              " * Generator function which is called between each async step of the upload\n",
              " * process.\n",
              " * @param {string} inputId Element ID of the input file picker element.\n",
              " * @param {string} outputId Element ID of the output display.\n",
              " * @return {!Iterable<!Object>} Iterable of next steps.\n",
              " */\n",
              "function* uploadFilesStep(inputId, outputId) {\n",
              "  const inputElement = document.getElementById(inputId);\n",
              "  inputElement.disabled = false;\n",
              "\n",
              "  const outputElement = document.getElementById(outputId);\n",
              "  outputElement.innerHTML = '';\n",
              "\n",
              "  const pickedPromise = new Promise((resolve) => {\n",
              "    inputElement.addEventListener('change', (e) => {\n",
              "      resolve(e.target.files);\n",
              "    });\n",
              "  });\n",
              "\n",
              "  const cancel = document.createElement('button');\n",
              "  inputElement.parentElement.appendChild(cancel);\n",
              "  cancel.textContent = 'Cancel upload';\n",
              "  const cancelPromise = new Promise((resolve) => {\n",
              "    cancel.onclick = () => {\n",
              "      resolve(null);\n",
              "    };\n",
              "  });\n",
              "\n",
              "  // Wait for the user to pick the files.\n",
              "  const files = yield {\n",
              "    promise: Promise.race([pickedPromise, cancelPromise]),\n",
              "    response: {\n",
              "      action: 'starting',\n",
              "    }\n",
              "  };\n",
              "\n",
              "  cancel.remove();\n",
              "\n",
              "  // Disable the input element since further picks are not allowed.\n",
              "  inputElement.disabled = true;\n",
              "\n",
              "  if (!files) {\n",
              "    return {\n",
              "      response: {\n",
              "        action: 'complete',\n",
              "      }\n",
              "    };\n",
              "  }\n",
              "\n",
              "  for (const file of files) {\n",
              "    const li = document.createElement('li');\n",
              "    li.append(span(file.name, {fontWeight: 'bold'}));\n",
              "    li.append(span(\n",
              "        `(${file.type || 'n/a'}) - ${file.size} bytes, ` +\n",
              "        `last modified: ${\n",
              "            file.lastModifiedDate ? file.lastModifiedDate.toLocaleDateString() :\n",
              "                                    'n/a'} - `));\n",
              "    const percent = span('0% done');\n",
              "    li.appendChild(percent);\n",
              "\n",
              "    outputElement.appendChild(li);\n",
              "\n",
              "    const fileDataPromise = new Promise((resolve) => {\n",
              "      const reader = new FileReader();\n",
              "      reader.onload = (e) => {\n",
              "        resolve(e.target.result);\n",
              "      };\n",
              "      reader.readAsArrayBuffer(file);\n",
              "    });\n",
              "    // Wait for the data to be ready.\n",
              "    let fileData = yield {\n",
              "      promise: fileDataPromise,\n",
              "      response: {\n",
              "        action: 'continue',\n",
              "      }\n",
              "    };\n",
              "\n",
              "    // Use a chunked sending to avoid message size limits. See b/62115660.\n",
              "    let position = 0;\n",
              "    do {\n",
              "      const length = Math.min(fileData.byteLength - position, MAX_PAYLOAD_SIZE);\n",
              "      const chunk = new Uint8Array(fileData, position, length);\n",
              "      position += length;\n",
              "\n",
              "      const base64 = btoa(String.fromCharCode.apply(null, chunk));\n",
              "      yield {\n",
              "        response: {\n",
              "          action: 'append',\n",
              "          file: file.name,\n",
              "          data: base64,\n",
              "        },\n",
              "      };\n",
              "\n",
              "      let percentDone = fileData.byteLength === 0 ?\n",
              "          100 :\n",
              "          Math.round((position / fileData.byteLength) * 100);\n",
              "      percent.textContent = `${percentDone}% done`;\n",
              "\n",
              "    } while (position < fileData.byteLength);\n",
              "  }\n",
              "\n",
              "  // All done.\n",
              "  yield {\n",
              "    response: {\n",
              "      action: 'complete',\n",
              "    }\n",
              "  };\n",
              "}\n",
              "\n",
              "scope.google = scope.google || {};\n",
              "scope.google.colab = scope.google.colab || {};\n",
              "scope.google.colab._files = {\n",
              "  _uploadFiles,\n",
              "  _uploadFilesContinue,\n",
              "};\n",
              "})(self);\n",
              "</script> "
            ]
          },
          "metadata": {}
        },
        {
          "output_type": "stream",
          "name": "stdout",
          "text": [
            "Saving kaggle.json to kaggle.json\n"
          ]
        },
        {
          "output_type": "execute_result",
          "data": {
            "text/plain": [
              "{'kaggle.json': b'{\"username\":\"nicolez9911\",\"key\":\"439a3da38e3dab16713f10b91119c5cf\"}'}"
            ]
          },
          "metadata": {},
          "execution_count": 2
        }
      ],
      "source": [
        "from google.colab import files\n",
        "files.upload()"
      ]
    },
    {
      "cell_type": "code",
      "execution_count": 3,
      "metadata": {
        "id": "ro53tr6p8eow"
      },
      "outputs": [],
      "source": [
        "!mkdir ~/.kaggle\n",
        "!cp kaggle.json ~/.kaggle/\n",
        "!chmod 600 ~/.kaggle/kaggle.json"
      ]
    },
    {
      "cell_type": "code",
      "source": [
        "!ls ~/.kaggle"
      ],
      "metadata": {
        "id": "HosDttKR-sBj",
        "colab": {
          "base_uri": "https://localhost:8080/"
        },
        "outputId": "1dc2b4aa-64b2-47ca-e927-26f543e59f50"
      },
      "execution_count": 4,
      "outputs": [
        {
          "output_type": "stream",
          "name": "stdout",
          "text": [
            "kaggle.json\n"
          ]
        }
      ]
    },
    {
      "cell_type": "markdown",
      "source": [
        "2. Go to this link :https://www.kaggle.com/c/dogs-vs-cats/data\n",
        "and accept the terms of the competition"
      ],
      "metadata": {
        "id": "dGSNwIckA2p9"
      }
    },
    {
      "cell_type": "code",
      "execution_count": 5,
      "metadata": {
        "id": "V_7Udby88eox",
        "colab": {
          "base_uri": "https://localhost:8080/"
        },
        "outputId": "3243a147-c828-40e7-ecea-55201deab173"
      },
      "outputs": [
        {
          "output_type": "stream",
          "name": "stdout",
          "text": [
            "Downloading dogs-vs-cats.zip to /content\n",
            " 98% 798M/812M [00:03<00:00, 207MB/s]\n",
            "100% 812M/812M [00:03<00:00, 240MB/s]\n"
          ]
        }
      ],
      "source": [
        "!kaggle competitions download -c dogs-vs-cats"
      ]
    },
    {
      "cell_type": "code",
      "execution_count": 6,
      "metadata": {
        "id": "4RpDCQZ18eox"
      },
      "outputs": [],
      "source": [
        "!unzip -qq /content/dogs-vs-cats.zip"
      ]
    },
    {
      "cell_type": "code",
      "source": [
        "!ls /content"
      ],
      "metadata": {
        "id": "qqAtEdhVB3Vh",
        "colab": {
          "base_uri": "https://localhost:8080/"
        },
        "outputId": "0d35c98c-c7f6-4e43-e07e-3599e9855ebb"
      },
      "execution_count": 7,
      "outputs": [
        {
          "output_type": "stream",
          "name": "stdout",
          "text": [
            "dogs-vs-cats.zip  kaggle.json  sample_data  sampleSubmission.csv  test1.zip  train.zip\n"
          ]
        }
      ]
    },
    {
      "cell_type": "code",
      "source": [
        "!unzip -qq /content/train.zip\n",
        "!unzip -qq /content/test1.zip"
      ],
      "metadata": {
        "id": "rrGgKz2-CPvz"
      },
      "execution_count": 8,
      "outputs": []
    },
    {
      "cell_type": "markdown",
      "metadata": {
        "id": "F3H4WvfQ8eox"
      },
      "source": [
        "**Copying images to training, validation, and test directories**"
      ]
    },
    {
      "cell_type": "code",
      "execution_count": 9,
      "metadata": {
        "id": "dE5VrIpM8eox"
      },
      "outputs": [],
      "source": [
        "import os, shutil, pathlib\n",
        "\n",
        "original_dir = pathlib.Path(\"/content/train\")\n",
        "new_base_dir = pathlib.Path(\"cats_vs_dogs_small\")\n",
        "\n",
        "def make_subset(subset_name, start_index, end_index):\n",
        "    for category in (\"cat\", \"dog\"):\n",
        "        dir = new_base_dir / subset_name / category\n",
        "        os.makedirs(dir)\n",
        "        fnames = [f\"{category}.{i}.jpg\" for i in range(start_index, end_index)]\n",
        "        for fname in fnames:\n",
        "            shutil.copyfile(src=original_dir / fname,\n",
        "                            dst=dir / fname)\n",
        "\n",
        "make_subset(\"train\", start_index=0, end_index=1000)\n",
        "make_subset(\"validation\", start_index=1000, end_index=1500)\n",
        "make_subset(\"test\", start_index=1500, end_index=2500)"
      ]
    },
    {
      "cell_type": "markdown",
      "metadata": {
        "id": "NJ5AcxAD8eoy"
      },
      "source": [
        "### Load Dataset"
      ]
    },
    {
      "cell_type": "code",
      "execution_count": 10,
      "metadata": {
        "id": "hKCTyNrd8eoz",
        "colab": {
          "base_uri": "https://localhost:8080/"
        },
        "outputId": "fbcc001c-71d4-4d13-c956-895619d702c1"
      },
      "outputs": [
        {
          "output_type": "stream",
          "name": "stdout",
          "text": [
            "Found 2000 files belonging to 2 classes.\n",
            "Found 1000 files belonging to 2 classes.\n",
            "Found 2000 files belonging to 2 classes.\n"
          ]
        }
      ],
      "source": [
        "from tensorflow.keras.utils import image_dataset_from_directory\n",
        "\n",
        "train_dataset = image_dataset_from_directory(\n",
        "    new_base_dir / \"train\",\n",
        "    image_size=(180, 180),\n",
        "    batch_size=32)\n",
        "validation_dataset = image_dataset_from_directory(\n",
        "    new_base_dir / \"validation\",\n",
        "    image_size=(180, 180),\n",
        "    batch_size=32)\n",
        "test_dataset = image_dataset_from_directory(\n",
        "    new_base_dir / \"test\",\n",
        "    image_size=(180, 180),\n",
        "    batch_size=32)"
      ]
    },
    {
      "cell_type": "code",
      "source": [
        "import matplotlib.pyplot as plt\n",
        "\n",
        "def generate_plot(history):\n",
        "  # Plot training history (loss and accuracy)\n",
        "  plt.figure(figsize=(12, 5))\n",
        "\n",
        "  # Plot training & validation loss\n",
        "  plt.subplot(1, 2, 1)\n",
        "  plt.plot(history.history['loss'], label='Training Loss')\n",
        "  plt.plot(history.history['val_loss'], label='Validation Loss')\n",
        "  plt.xlabel('Epochs')\n",
        "  plt.ylabel('Loss')\n",
        "  plt.legend()\n",
        "  plt.title('Training and Validation Loss')\n",
        "\n",
        "  # Plot training & validation accuracy\n",
        "  plt.subplot(1, 2, 2)\n",
        "  plt.plot(history.history['accuracy'], label='Training Accuracy')\n",
        "  plt.plot(history.history['val_accuracy'], label='Validation Accuracy')\n",
        "  plt.xlabel('Epochs')\n",
        "  plt.ylabel('Accuracy')\n",
        "  plt.legend()\n",
        "  plt.title('Training and Validation Accuracy')\n",
        "\n",
        "  plt.tight_layout()\n",
        "  return plt"
      ],
      "metadata": {
        "id": "r_T4CfNqSS-K"
      },
      "execution_count": 11,
      "outputs": []
    },
    {
      "cell_type": "code",
      "source": [
        "import tensorflow as tf\n",
        "\n",
        "\n",
        "model = tf.keras.models.Sequential([\n",
        "  tf.keras.layers.Conv2D(32, (3,3), activation='relu', input_shape=(180, 180, 3)),\n",
        "  tf.keras.layers.Conv2D(32, (3,3), activation='relu'),\n",
        "  tf.keras.layers.Conv2D(32, (3,3), activation='relu'),\n",
        "  tf.keras.layers.MaxPooling2D(2, 2),\n",
        "  tf.keras.layers.Flatten(),\n",
        "  tf.keras.layers.Dense(128, activation='relu'),\n",
        "  tf.keras.layers.Dense(10, activation='softmax')\n",
        "])\n",
        "model.compile(optimizer='adam', loss='sparse_categorical_crossentropy', metrics=['accuracy'])\n",
        "model.summary()\n",
        "history = model.fit(train_dataset, validation_data=validation_dataset, epochs=10, batch_size=512)\n",
        "\n",
        "test_loss = model.evaluate(test_dataset)\n",
        "validation_loss = model.evaluate(validation_dataset)\n",
        "\n",
        "plt = generate_plot(history)\n",
        "plt.show()\n",
        "\n",
        "test_loss, validation_loss\n"
      ],
      "metadata": {
        "colab": {
          "base_uri": "https://localhost:8080/",
          "height": 1000
        },
        "id": "_X7shTN4SsB0",
        "outputId": "8bb142ac-fdb2-4c52-ae74-ae2d41df7048"
      },
      "execution_count": 14,
      "outputs": [
        {
          "output_type": "stream",
          "name": "stdout",
          "text": [
            "Model: \"sequential_2\"\n",
            "_________________________________________________________________\n",
            " Layer (type)                Output Shape              Param #   \n",
            "=================================================================\n",
            " conv2d_4 (Conv2D)           (None, 178, 178, 32)      896       \n",
            "                                                                 \n",
            " conv2d_5 (Conv2D)           (None, 176, 176, 32)      9248      \n",
            "                                                                 \n",
            " conv2d_6 (Conv2D)           (None, 174, 174, 32)      9248      \n",
            "                                                                 \n",
            " max_pooling2d_4 (MaxPoolin  (None, 87, 87, 32)        0         \n",
            " g2D)                                                            \n",
            "                                                                 \n",
            " flatten_2 (Flatten)         (None, 242208)            0         \n",
            "                                                                 \n",
            " dense_2 (Dense)             (None, 128)               31002752  \n",
            "                                                                 \n",
            " dense_3 (Dense)             (None, 10)                1290      \n",
            "                                                                 \n",
            "=================================================================\n",
            "Total params: 31023434 (118.35 MB)\n",
            "Trainable params: 31023434 (118.35 MB)\n",
            "Non-trainable params: 0 (0.00 Byte)\n",
            "_________________________________________________________________\n",
            "Epoch 1/10\n",
            "63/63 [==============================] - 19s 109ms/step - loss: 53.4227 - accuracy: 0.5165 - val_loss: 0.9927 - val_accuracy: 0.5310\n",
            "Epoch 2/10\n",
            "63/63 [==============================] - 6s 88ms/step - loss: 0.6687 - accuracy: 0.6655 - val_loss: 0.9884 - val_accuracy: 0.5240\n",
            "Epoch 3/10\n",
            "63/63 [==============================] - 5s 83ms/step - loss: 0.3187 - accuracy: 0.8730 - val_loss: 1.1279 - val_accuracy: 0.5520\n",
            "Epoch 4/10\n",
            "63/63 [==============================] - 5s 83ms/step - loss: 0.1601 - accuracy: 0.9435 - val_loss: 1.3284 - val_accuracy: 0.5560\n",
            "Epoch 5/10\n",
            "63/63 [==============================] - 6s 86ms/step - loss: 0.0710 - accuracy: 0.9830 - val_loss: 1.8350 - val_accuracy: 0.5480\n",
            "Epoch 6/10\n",
            "63/63 [==============================] - 6s 86ms/step - loss: 0.0364 - accuracy: 0.9935 - val_loss: 2.0835 - val_accuracy: 0.5680\n",
            "Epoch 7/10\n",
            "63/63 [==============================] - 5s 83ms/step - loss: 0.0196 - accuracy: 0.9975 - val_loss: 2.3669 - val_accuracy: 0.5630\n",
            "Epoch 8/10\n",
            "63/63 [==============================] - 6s 96ms/step - loss: 0.0586 - accuracy: 0.9865 - val_loss: 1.8100 - val_accuracy: 0.5790\n",
            "Epoch 9/10\n",
            "63/63 [==============================] - 6s 86ms/step - loss: 0.0719 - accuracy: 0.9825 - val_loss: 2.4317 - val_accuracy: 0.5690\n",
            "Epoch 10/10\n",
            "63/63 [==============================] - 6s 90ms/step - loss: 0.0775 - accuracy: 0.9800 - val_loss: 2.3533 - val_accuracy: 0.5870\n",
            "63/63 [==============================] - 2s 30ms/step - loss: 2.4136 - accuracy: 0.5450\n",
            "32/32 [==============================] - 1s 29ms/step - loss: 2.3533 - accuracy: 0.5870\n"
          ]
        },
        {
          "output_type": "display_data",
          "data": {
            "text/plain": [
              "<Figure size 1200x500 with 2 Axes>"
            ],
            "image/png": "[encoded data removed]"
          },
          "metadata": {}
        },
        {
          "output_type": "execute_result",
          "data": {
            "text/plain": [
              "([2.413557529449463, 0.5450000166893005],\n",
              " [2.3533377647399902, 0.5870000123977661])"
            ]
          },
          "metadata": {},
          "execution_count": 14
        }
      ]
    },
    {
      "cell_type": "code",
      "source": [
        "from tensorflow import keras\n",
        "from keras import layers\n",
        "\n",
        "data_augmentation = keras.Sequential([\n",
        "  layers.RandomFlip(\"horizontal\"),\n",
        "  layers.RandomRotation(0.1),\n",
        "  layers.RandomZoom(0.2),\n",
        "])\n",
        "inputs = keras.Input(shape=(180, 180, 3))\n",
        "x = data_augmentation(inputs)\n",
        "x = layers.Rescaling(1./255)(x)\n",
        "x = layers.Conv2D(filters=32, kernel_size=3, activation=\"relu\")(x)\n",
        "x = layers.MaxPooling2D(pool_size=2)(x)\n",
        "x = layers.Conv2D(filters=64, kernel_size=3, activation=\"relu\")(x)\n",
        "x = layers.MaxPooling2D(pool_size=2)(x)\n",
        "x = layers.Conv2D(filters=128, kernel_size=3, activation=\"relu\")(x)\n",
        "x = layers.MaxPooling2D(pool_size=2)(x)\n",
        "x = layers.Conv2D(filters=256, kernel_size=3, activation=\"relu\")(x)\n",
        "x = layers.MaxPooling2D(pool_size=2)(x)\n",
        "x = layers.Conv2D(filters=256, kernel_size=3, activation=\"relu\")(x)\n",
        "x = layers.Flatten()(x)\n",
        "x = layers.Dropout(0.5)(x)\n",
        "outputs = layers.Dense(1, activation=\"sigmoid\")(x)\n",
        "model = keras.Model(inputs=inputs, outputs=outputs)\n",
        "model.compile(loss=\"binary_crossentropy\",\n",
        "  optimizer=\"rmsprop\",\n",
        "  metrics=[\"accuracy\"])"
      ],
      "metadata": {
        "id": "MWs4iyljTOd1"
      },
      "execution_count": 16,
      "outputs": []
    },
    {
      "cell_type": "code",
      "source": [
        "model.summary()\n",
        "history = model.fit(train_dataset, validation_data=validation_dataset, epochs=30, batch_size=256)\n",
        "\n",
        "test_loss = model.evaluate(test_dataset)\n",
        "validation_loss = model.evaluate(validation_dataset)\n",
        "\n",
        "plt = generate_plot(history)\n",
        "plt.show()\n",
        "\n",
        "test_loss, validation_loss"
      ],
      "metadata": {
        "colab": {
          "base_uri": "https://localhost:8080/",
          "height": 1000
        },
        "id": "THrQg4awVpoS",
        "outputId": "9b9e27d6-852a-4c92-af7b-6691e06ae7d0"
      },
      "execution_count": 18,
      "outputs": [
        {
          "output_type": "stream",
          "name": "stdout",
          "text": [
            "Model: \"model\"\n",
            "_________________________________________________________________\n",
            " Layer (type)                Output Shape              Param #   \n",
            "=================================================================\n",
            " input_2 (InputLayer)        [(None, 180, 180, 3)]     0         \n",
            "                                                                 \n",
            " sequential_3 (Sequential)   (None, 180, 180, 3)       0         \n",
            "                                                                 \n",
            " rescaling (Rescaling)       (None, 180, 180, 3)       0         \n",
            "                                                                 \n",
            " conv2d_7 (Conv2D)           (None, 178, 178, 32)      896       \n",
            "                                                                 \n",
            " max_pooling2d_5 (MaxPoolin  (None, 89, 89, 32)        0         \n",
            " g2D)                                                            \n",
            "                                                                 \n",
            " conv2d_8 (Conv2D)           (None, 87, 87, 64)        18496     \n",
            "                                                                 \n",
            " max_pooling2d_6 (MaxPoolin  (None, 43, 43, 64)        0         \n",
            " g2D)                                                            \n",
            "                                                                 \n",
            " conv2d_9 (Conv2D)           (None, 41, 41, 128)       73856     \n",
            "                                                                 \n",
            " max_pooling2d_7 (MaxPoolin  (None, 20, 20, 128)       0         \n",
            " g2D)                                                            \n",
            "                                                                 \n",
            " conv2d_10 (Conv2D)          (None, 18, 18, 256)       295168    \n",
            "                                                                 \n",
            " max_pooling2d_8 (MaxPoolin  (None, 9, 9, 256)         0         \n",
            " g2D)                                                            \n",
            "                                                                 \n",
            " conv2d_11 (Conv2D)          (None, 7, 7, 256)         590080    \n",
            "                                                                 \n",
            " flatten_3 (Flatten)         (None, 12544)             0         \n",
            "                                                                 \n",
            " dropout (Dropout)           (None, 12544)             0         \n",
            "                                                                 \n",
            " dense_4 (Dense)             (None, 1)                 12545     \n",
            "                                                                 \n",
            "=================================================================\n",
            "Total params: 991041 (3.78 MB)\n",
            "Trainable params: 991041 (3.78 MB)\n",
            "Non-trainable params: 0 (0.00 Byte)\n",
            "_________________________________________________________________\n",
            "Epoch 1/30\n",
            "63/63 [==============================] - 5s 71ms/step - loss: 0.5783 - accuracy: 0.7050 - val_loss: 0.5956 - val_accuracy: 0.6710\n",
            "Epoch 2/30\n",
            "63/63 [==============================] - 5s 78ms/step - loss: 0.5763 - accuracy: 0.7125 - val_loss: 0.5733 - val_accuracy: 0.7050\n",
            "Epoch 3/30\n",
            "63/63 [==============================] - 4s 59ms/step - loss: 0.5594 - accuracy: 0.7140 - val_loss: 0.5765 - val_accuracy: 0.6870\n",
            "Epoch 4/30\n",
            "63/63 [==============================] - 5s 83ms/step - loss: 0.5558 - accuracy: 0.7160 - val_loss: 0.5686 - val_accuracy: 0.6960\n",
            "Epoch 5/30\n",
            "63/63 [==============================] - 4s 61ms/step - loss: 0.5499 - accuracy: 0.7240 - val_loss: 0.5345 - val_accuracy: 0.7290\n",
            "Epoch 6/30\n",
            "63/63 [==============================] - 5s 74ms/step - loss: 0.5359 - accuracy: 0.7350 - val_loss: 0.5324 - val_accuracy: 0.7410\n",
            "Epoch 7/30\n",
            "63/63 [==============================] - 4s 59ms/step - loss: 0.5265 - accuracy: 0.7255 - val_loss: 0.6064 - val_accuracy: 0.7060\n",
            "Epoch 8/30\n",
            "63/63 [==============================] - 4s 59ms/step - loss: 0.5095 - accuracy: 0.7560 - val_loss: 0.5553 - val_accuracy: 0.7060\n",
            "Epoch 9/30\n",
            "63/63 [==============================] - 5s 74ms/step - loss: 0.4942 - accuracy: 0.7575 - val_loss: 0.5830 - val_accuracy: 0.6860\n",
            "Epoch 10/30\n",
            "63/63 [==============================] - 4s 59ms/step - loss: 0.4979 - accuracy: 0.7640 - val_loss: 0.5015 - val_accuracy: 0.7510\n",
            "Epoch 11/30\n",
            "63/63 [==============================] - 4s 60ms/step - loss: 0.4748 - accuracy: 0.7775 - val_loss: 0.5309 - val_accuracy: 0.7450\n",
            "Epoch 12/30\n",
            "63/63 [==============================] - 5s 74ms/step - loss: 0.4646 - accuracy: 0.7845 - val_loss: 0.5414 - val_accuracy: 0.7340\n",
            "Epoch 13/30\n",
            "63/63 [==============================] - 4s 60ms/step - loss: 0.4740 - accuracy: 0.7810 - val_loss: 0.5059 - val_accuracy: 0.7530\n",
            "Epoch 14/30\n",
            "63/63 [==============================] - 4s 61ms/step - loss: 0.4496 - accuracy: 0.7875 - val_loss: 0.5227 - val_accuracy: 0.7540\n",
            "Epoch 15/30\n",
            "63/63 [==============================] - 4s 62ms/step - loss: 0.4489 - accuracy: 0.8020 - val_loss: 0.5356 - val_accuracy: 0.7850\n",
            "Epoch 16/30\n",
            "63/63 [==============================] - 4s 60ms/step - loss: 0.4280 - accuracy: 0.8030 - val_loss: 0.5025 - val_accuracy: 0.7700\n",
            "Epoch 17/30\n",
            "63/63 [==============================] - 5s 75ms/step - loss: 0.4223 - accuracy: 0.8055 - val_loss: 0.4884 - val_accuracy: 0.7780\n",
            "Epoch 18/30\n",
            "63/63 [==============================] - 4s 58ms/step - loss: 0.4279 - accuracy: 0.7950 - val_loss: 0.4712 - val_accuracy: 0.7740\n",
            "Epoch 19/30\n",
            "63/63 [==============================] - 4s 60ms/step - loss: 0.4092 - accuracy: 0.8215 - val_loss: 0.4900 - val_accuracy: 0.7690\n",
            "Epoch 20/30\n",
            "63/63 [==============================] - 5s 77ms/step - loss: 0.4235 - accuracy: 0.8165 - val_loss: 0.4240 - val_accuracy: 0.8020\n",
            "Epoch 21/30\n",
            "63/63 [==============================] - 4s 60ms/step - loss: 0.3795 - accuracy: 0.8285 - val_loss: 0.4691 - val_accuracy: 0.8040\n",
            "Epoch 22/30\n",
            "63/63 [==============================] - 4s 60ms/step - loss: 0.3898 - accuracy: 0.8280 - val_loss: 0.4301 - val_accuracy: 0.7940\n",
            "Epoch 23/30\n",
            "63/63 [==============================] - 5s 69ms/step - loss: 0.3899 - accuracy: 0.8280 - val_loss: 0.4177 - val_accuracy: 0.8210\n",
            "Epoch 24/30\n",
            "63/63 [==============================] - 4s 59ms/step - loss: 0.3688 - accuracy: 0.8350 - val_loss: 0.4468 - val_accuracy: 0.8060\n",
            "Epoch 25/30\n",
            "63/63 [==============================] - 5s 83ms/step - loss: 0.3812 - accuracy: 0.8290 - val_loss: 0.4274 - val_accuracy: 0.8230\n",
            "Epoch 26/30\n",
            "63/63 [==============================] - 4s 60ms/step - loss: 0.3570 - accuracy: 0.8440 - val_loss: 0.4786 - val_accuracy: 0.7970\n",
            "Epoch 27/30\n",
            "63/63 [==============================] - 5s 72ms/step - loss: 0.3400 - accuracy: 0.8440 - val_loss: 0.5495 - val_accuracy: 0.7540\n",
            "Epoch 28/30\n",
            "63/63 [==============================] - 4s 60ms/step - loss: 0.3314 - accuracy: 0.8635 - val_loss: 0.5150 - val_accuracy: 0.7920\n",
            "Epoch 29/30\n",
            "63/63 [==============================] - 6s 85ms/step - loss: 0.3251 - accuracy: 0.8665 - val_loss: 0.5239 - val_accuracy: 0.7880\n",
            "Epoch 30/30\n",
            "63/63 [==============================] - 4s 59ms/step - loss: 0.3167 - accuracy: 0.8690 - val_loss: 0.4626 - val_accuracy: 0.8360\n",
            "63/63 [==============================] - 2s 30ms/step - loss: 0.4666 - accuracy: 0.8210\n",
            "32/32 [==============================] - 1s 27ms/step - loss: 0.4626 - accuracy: 0.8360\n"
          ]
        },
        {
          "output_type": "display_data",
          "data": {
            "text/plain": [
              "<Figure size 1200x500 with 2 Axes>"
            ],
            "image/png": "[encoded data removed]"
          },
          "metadata": {}
        },
        {
          "output_type": "execute_result",
          "data": {
            "text/plain": [
              "([0.4665664732456207, 0.8209999799728394],\n",
              " [0.4626007080078125, 0.8360000252723694])"
            ]
          },
          "metadata": {},
          "execution_count": 18
        }
      ]
    },
    {
      "cell_type": "code",
      "source": [
        "conv_base = keras.applications.vgg16.VGG16(\n",
        "  weights=\"imagenet\",\n",
        "  include_top=False,\n",
        "  input_shape=(180, 180, 3))\n",
        "conv_base.summary()\n",
        "\n",
        "import numpy as np\n",
        "def get_features_and_labels(dataset) :\n",
        "  # diese funktion ist dumm\n",
        "  all_features = []\n",
        "  all_labels = []\n",
        "\n",
        "  for images, labels in dataset:\n",
        "    preprocessed_images = keras.applications.vgg16.preprocess_input(images)\n",
        "    features = conv_base.predict(preprocessed_images)\n",
        "    all_features.append(features)\n",
        "    all_labels.append(labels)\n",
        "    return np.concatenate(all_features), np.concatenate (all_labels)\n",
        "\n",
        "train_features, train_labels = get_features_and_labels(train_dataset)\n",
        "val_features, val_labels = get_features_and_labels(validation_dataset)\n",
        "test_features, test_labels = get_features_and_labels(test_dataset)"
      ],
      "metadata": {
        "colab": {
          "base_uri": "https://localhost:8080/"
        },
        "id": "lnCxS6tBWJqc",
        "outputId": "1e7e3ddd-7b14-49df-9244-7a3fe78ffe4a"
      },
      "execution_count": 30,
      "outputs": [
        {
          "output_type": "stream",
          "name": "stdout",
          "text": [
            "Model: \"vgg16\"\n",
            "_________________________________________________________________\n",
            " Layer (type)                Output Shape              Param #   \n",
            "=================================================================\n",
            " input_8 (InputLayer)        [(None, 180, 180, 3)]     0         \n",
            "                                                                 \n",
            " block1_conv1 (Conv2D)       (None, 180, 180, 64)      1792      \n",
            "                                                                 \n",
            " block1_conv2 (Conv2D)       (None, 180, 180, 64)      36928     \n",
            "                                                                 \n",
            " block1_pool (MaxPooling2D)  (None, 90, 90, 64)        0         \n",
            "                                                                 \n",
            " block2_conv1 (Conv2D)       (None, 90, 90, 128)       73856     \n",
            "                                                                 \n",
            " block2_conv2 (Conv2D)       (None, 90, 90, 128)       147584    \n",
            "                                                                 \n",
            " block2_pool (MaxPooling2D)  (None, 45, 45, 128)       0         \n",
            "                                                                 \n",
            " block3_conv1 (Conv2D)       (None, 45, 45, 256)       295168    \n",
            "                                                                 \n",
            " block3_conv2 (Conv2D)       (None, 45, 45, 256)       590080    \n",
            "                                                                 \n",
            " block3_conv3 (Conv2D)       (None, 45, 45, 256)       590080    \n",
            "                                                                 \n",
            " block3_pool (MaxPooling2D)  (None, 22, 22, 256)       0         \n",
            "                                                                 \n",
            " block4_conv1 (Conv2D)       (None, 22, 22, 512)       1180160   \n",
            "                                                                 \n",
            " block4_conv2 (Conv2D)       (None, 22, 22, 512)       2359808   \n",
            "                                                                 \n",
            " block4_conv3 (Conv2D)       (None, 22, 22, 512)       2359808   \n",
            "                                                                 \n",
            " block4_pool (MaxPooling2D)  (None, 11, 11, 512)       0         \n",
            "                                                                 \n",
            " block5_conv1 (Conv2D)       (None, 11, 11, 512)       2359808   \n",
            "                                                                 \n",
            " block5_conv2 (Conv2D)       (None, 11, 11, 512)       2359808   \n",
            "                                                                 \n",
            " block5_conv3 (Conv2D)       (None, 11, 11, 512)       2359808   \n",
            "                                                                 \n",
            " block5_pool (MaxPooling2D)  (None, 5, 5, 512)         0         \n",
            "                                                                 \n",
            "=================================================================\n",
            "Total params: 14714688 (56.13 MB)\n",
            "Trainable params: 14714688 (56.13 MB)\n",
            "Non-trainable params: 0 (0.00 Byte)\n",
            "_________________________________________________________________\n",
            "1/1 [==============================] - 0s 126ms/step\n",
            "1/1 [==============================] - 0s 23ms/step\n",
            "1/1 [==============================] - 0s 25ms/step\n"
          ]
        }
      ]
    },
    {
      "cell_type": "code",
      "source": [
        "conv_base = keras.applications.vgg16.VGG16(\n",
        "  weights=\"imagenet\",\n",
        "  include_top=False)\n",
        "conv_base.trainable = False"
      ],
      "metadata": {
        "id": "QcgEpsiZghCF"
      },
      "execution_count": 24,
      "outputs": []
    },
    {
      "cell_type": "code",
      "source": [
        "inputs = keras.Input(shape=(5, 5, 512))\n",
        "x = layers.Flatten()(inputs)\n",
        "x = layers.Dense(256)(x)\n",
        "outputs = layers.Dense(1, activation=\"sigmoid\")(x)\n",
        "model = keras.Model(inputs, outputs)\n",
        "model.compile(loss=\"binary_crossentropy\",\n",
        "  optimizer=\"rmsprop\",\n",
        "  metrics=[\"accuracy\"])\n",
        "model.fit(\n",
        "  train_features, train_labels,\n",
        "  epochs=20,\n",
        "  validation_data=(val_features, val_labels))"
      ],
      "metadata": {
        "colab": {
          "base_uri": "https://localhost:8080/"
        },
        "id": "RacfLzzZcKrw",
        "outputId": "402bea6b-35ae-4d2a-f1b9-ac10af60c78f"
      },
      "execution_count": 22,
      "outputs": [
        {
          "output_type": "stream",
          "name": "stdout",
          "text": [
            "Epoch 1/20\n",
            "1/1 [==============================] - 1s 652ms/step - loss: 10.1756 - accuracy: 0.5312 - val_loss: 639.3196 - val_accuracy: 0.4688\n",
            "Epoch 2/20\n",
            "1/1 [==============================] - 0s 31ms/step - loss: 587.4122 - accuracy: 0.5000 - val_loss: 46.1504 - val_accuracy: 0.8750\n",
            "Epoch 3/20\n",
            "1/1 [==============================] - 0s 29ms/step - loss: 0.0000e+00 - accuracy: 1.0000 - val_loss: 46.1504 - val_accuracy: 0.8750\n",
            "Epoch 4/20\n",
            "1/1 [==============================] - 0s 38ms/step - loss: 0.0000e+00 - accuracy: 1.0000 - val_loss: 46.1504 - val_accuracy: 0.8750\n",
            "Epoch 5/20\n",
            "1/1 [==============================] - 0s 31ms/step - loss: 0.0000e+00 - accuracy: 1.0000 - val_loss: 46.1504 - val_accuracy: 0.8750\n",
            "Epoch 6/20\n",
            "1/1 [==============================] - 0s 31ms/step - loss: 0.0000e+00 - accuracy: 1.0000 - val_loss: 46.1504 - val_accuracy: 0.8750\n",
            "Epoch 7/20\n",
            "1/1 [==============================] - 0s 29ms/step - loss: 0.0000e+00 - accuracy: 1.0000 - val_loss: 46.1504 - val_accuracy: 0.8750\n",
            "Epoch 8/20\n",
            "1/1 [==============================] - 0s 54ms/step - loss: 0.0000e+00 - accuracy: 1.0000 - val_loss: 46.1504 - val_accuracy: 0.8750\n",
            "Epoch 9/20\n",
            "1/1 [==============================] - 0s 45ms/step - loss: 0.0000e+00 - accuracy: 1.0000 - val_loss: 46.1504 - val_accuracy: 0.8750\n",
            "Epoch 10/20\n",
            "1/1 [==============================] - 0s 48ms/step - loss: 0.0000e+00 - accuracy: 1.0000 - val_loss: 46.1504 - val_accuracy: 0.8750\n",
            "Epoch 11/20\n",
            "1/1 [==============================] - 0s 99ms/step - loss: 0.0000e+00 - accuracy: 1.0000 - val_loss: 46.1504 - val_accuracy: 0.8750\n",
            "Epoch 12/20\n",
            "1/1 [==============================] - 0s 62ms/step - loss: 0.0000e+00 - accuracy: 1.0000 - val_loss: 46.1504 - val_accuracy: 0.8750\n",
            "Epoch 13/20\n",
            "1/1 [==============================] - 0s 56ms/step - loss: 0.0000e+00 - accuracy: 1.0000 - val_loss: 46.1504 - val_accuracy: 0.8750\n",
            "Epoch 14/20\n",
            "1/1 [==============================] - 0s 46ms/step - loss: 0.0000e+00 - accuracy: 1.0000 - val_loss: 46.1504 - val_accuracy: 0.8750\n",
            "Epoch 15/20\n",
            "1/1 [==============================] - 0s 46ms/step - loss: 0.0000e+00 - accuracy: 1.0000 - val_loss: 46.1504 - val_accuracy: 0.8750\n",
            "Epoch 16/20\n",
            "1/1 [==============================] - 0s 42ms/step - loss: 0.0000e+00 - accuracy: 1.0000 - val_loss: 46.1504 - val_accuracy: 0.8750\n",
            "Epoch 17/20\n",
            "1/1 [==============================] - 0s 38ms/step - loss: 0.0000e+00 - accuracy: 1.0000 - val_loss: 46.1504 - val_accuracy: 0.8750\n",
            "Epoch 18/20\n",
            "1/1 [==============================] - 0s 54ms/step - loss: 0.0000e+00 - accuracy: 1.0000 - val_loss: 46.1504 - val_accuracy: 0.8750\n",
            "Epoch 19/20\n",
            "1/1 [==============================] - 0s 42ms/step - loss: 0.0000e+00 - accuracy: 1.0000 - val_loss: 46.1504 - val_accuracy: 0.8750\n",
            "Epoch 20/20\n",
            "1/1 [==============================] - 0s 43ms/step - loss: 0.0000e+00 - accuracy: 1.0000 - val_loss: 46.1504 - val_accuracy: 0.8750\n"
          ]
        },
        {
          "output_type": "execute_result",
          "data": {
            "text/plain": [
              "<keras.src.callbacks.History at 0x788b9ef88b20>"
            ]
          },
          "metadata": {},
          "execution_count": 22
        }
      ]
    },
    {
      "cell_type": "code",
      "source": [
        "data_augmentation = keras.Sequential([\n",
        "  layers.RandomFlip(\"horizontal\"),\n",
        "  layers.RandomRotation(0.1),\n",
        "  layers.RandomZoom(0.2),\n",
        "])\n",
        "inputs = keras.Input(shape=(180, 180, 3))\n",
        "x = data_augmentation(inputs)\n",
        "x = keras.applications.vgg16.preprocess_input(x)\n",
        "x = conv_base(x)\n",
        "x = layers.Flatten()(x)\n",
        "x = layers.Dense(256)(x)\n",
        "outputs = layers.Dense(1, activation=\"sigmoid\")(x)\n",
        "model = keras.Model(inputs, outputs)\n",
        "model.compile(loss=\"binary_crossentropy\",\n",
        "optimizer=\"rmsprop\",\n",
        "metrics=[\"accuracy\"])"
      ],
      "metadata": {
        "id": "CzeHgTEBdDuE"
      },
      "execution_count": 25,
      "outputs": []
    },
    {
      "cell_type": "code",
      "source": [
        "model.fit(\n",
        "train_dataset,\n",
        "epochs=20,\n",
        "validation_data=validation_dataset)"
      ],
      "metadata": {
        "colab": {
          "base_uri": "https://localhost:8080/"
        },
        "id": "6sHmk8Drhe0O",
        "outputId": "61a51549-35a1-45ae-f664-6e33c360af56"
      },
      "execution_count": 26,
      "outputs": [
        {
          "output_type": "stream",
          "name": "stdout",
          "text": [
            "Epoch 1/20\n",
            "63/63 [==============================] - 14s 199ms/step - loss: 18.9537 - accuracy: 0.8910 - val_loss: 15.9112 - val_accuracy: 0.9160\n",
            "Epoch 2/20\n",
            "63/63 [==============================] - 10s 147ms/step - loss: 4.2305 - accuracy: 0.9530 - val_loss: 5.9422 - val_accuracy: 0.9500\n",
            "Epoch 3/20\n",
            "63/63 [==============================] - 10s 155ms/step - loss: 2.6377 - accuracy: 0.9555 - val_loss: 0.9950 - val_accuracy: 0.9720\n",
            "Epoch 4/20\n",
            "63/63 [==============================] - 10s 151ms/step - loss: 1.0132 - accuracy: 0.9665 - val_loss: 0.7446 - val_accuracy: 0.9520\n",
            "Epoch 5/20\n",
            "63/63 [==============================] - 11s 178ms/step - loss: 0.3190 - accuracy: 0.9595 - val_loss: 0.3193 - val_accuracy: 0.9690\n",
            "Epoch 6/20\n",
            "63/63 [==============================] - 9s 142ms/step - loss: 0.1900 - accuracy: 0.9670 - val_loss: 0.2328 - val_accuracy: 0.9620\n",
            "Epoch 7/20\n",
            "63/63 [==============================] - 9s 144ms/step - loss: 0.1349 - accuracy: 0.9675 - val_loss: 0.2185 - val_accuracy: 0.9760\n",
            "Epoch 8/20\n",
            "63/63 [==============================] - 11s 177ms/step - loss: 0.0958 - accuracy: 0.9805 - val_loss: 0.4196 - val_accuracy: 0.9710\n",
            "Epoch 9/20\n",
            "63/63 [==============================] - 9s 146ms/step - loss: 0.1896 - accuracy: 0.9690 - val_loss: 0.1716 - val_accuracy: 0.9770\n",
            "Epoch 10/20\n",
            "63/63 [==============================] - 10s 147ms/step - loss: 0.1447 - accuracy: 0.9745 - val_loss: 0.2701 - val_accuracy: 0.9750\n",
            "Epoch 11/20\n",
            "63/63 [==============================] - 9s 145ms/step - loss: 0.1511 - accuracy: 0.9755 - val_loss: 0.1751 - val_accuracy: 0.9770\n",
            "Epoch 12/20\n",
            "63/63 [==============================] - 10s 148ms/step - loss: 0.1347 - accuracy: 0.9790 - val_loss: 0.4511 - val_accuracy: 0.9550\n",
            "Epoch 13/20\n",
            "63/63 [==============================] - 9s 143ms/step - loss: 0.1158 - accuracy: 0.9815 - val_loss: 0.1710 - val_accuracy: 0.9790\n",
            "Epoch 14/20\n",
            "63/63 [==============================] - 9s 143ms/step - loss: 0.1764 - accuracy: 0.9750 - val_loss: 0.2934 - val_accuracy: 0.9760\n",
            "Epoch 15/20\n",
            "63/63 [==============================] - 9s 145ms/step - loss: 0.1103 - accuracy: 0.9805 - val_loss: 0.4278 - val_accuracy: 0.9660\n",
            "Epoch 16/20\n",
            "63/63 [==============================] - 9s 145ms/step - loss: 0.0749 - accuracy: 0.9870 - val_loss: 0.8910 - val_accuracy: 0.9620\n",
            "Epoch 17/20\n",
            "63/63 [==============================] - 9s 145ms/step - loss: 0.1290 - accuracy: 0.9855 - val_loss: 0.8674 - val_accuracy: 0.9230\n",
            "Epoch 18/20\n",
            "63/63 [==============================] - 11s 177ms/step - loss: 0.1112 - accuracy: 0.9855 - val_loss: 0.2680 - val_accuracy: 0.9760\n",
            "Epoch 19/20\n",
            "63/63 [==============================] - 9s 144ms/step - loss: 0.0862 - accuracy: 0.9870 - val_loss: 0.7839 - val_accuracy: 0.9680\n",
            "Epoch 20/20\n",
            "63/63 [==============================] - 10s 145ms/step - loss: 0.1160 - accuracy: 0.9860 - val_loss: 0.8116 - val_accuracy: 0.9690\n"
          ]
        },
        {
          "output_type": "execute_result",
          "data": {
            "text/plain": [
              "<keras.src.callbacks.History at 0x788b9e6d7b20>"
            ]
          },
          "metadata": {},
          "execution_count": 26
        }
      ]
    },
    {
      "cell_type": "code",
      "source": [
        "conv_base.trainable = True\n",
        "for layer in conv_base.layers[:-4]:\n",
        "  layer.trainable = False"
      ],
      "metadata": {
        "id": "XOK1bPqqhjNr"
      },
      "execution_count": 27,
      "outputs": []
    },
    {
      "cell_type": "code",
      "source": [
        "model.compile(loss=\"binary_crossentropy\",\n",
        "optimizer=keras.optimizers.RMSprop(learning_rate=1e-5),\n",
        "metrics=[\"accuracy\"])"
      ],
      "metadata": {
        "id": "vQ3BbJbtk3IJ"
      },
      "execution_count": 28,
      "outputs": []
    },
    {
      "cell_type": "code",
      "source": [
        "model.fit(\n",
        "train_dataset,\n",
        "epochs=20,\n",
        "validation_data=validation_dataset)"
      ],
      "metadata": {
        "colab": {
          "base_uri": "https://localhost:8080/"
        },
        "id": "SwEkJIGgk3pT",
        "outputId": "cb4db96b-9a55-49fd-8f17-9f202fa9144a"
      },
      "execution_count": 29,
      "outputs": [
        {
          "output_type": "stream",
          "name": "stdout",
          "text": [
            "Epoch 1/20\n",
            "63/63 [==============================] - 13s 170ms/step - loss: 0.1359 - accuracy: 0.9850 - val_loss: 0.3266 - val_accuracy: 0.9720\n",
            "Epoch 2/20\n",
            "63/63 [==============================] - 11s 168ms/step - loss: 0.0532 - accuracy: 0.9905 - val_loss: 0.3685 - val_accuracy: 0.9700\n",
            "Epoch 3/20\n",
            "63/63 [==============================] - 11s 168ms/step - loss: 0.0389 - accuracy: 0.9935 - val_loss: 0.3316 - val_accuracy: 0.9770\n",
            "Epoch 4/20\n",
            "63/63 [==============================] - 11s 165ms/step - loss: 0.0452 - accuracy: 0.9900 - val_loss: 0.3085 - val_accuracy: 0.9770\n",
            "Epoch 5/20\n",
            "63/63 [==============================] - 10s 162ms/step - loss: 0.0342 - accuracy: 0.9930 - val_loss: 0.2792 - val_accuracy: 0.9730\n",
            "Epoch 6/20\n",
            "63/63 [==============================] - 12s 193ms/step - loss: 0.0314 - accuracy: 0.9945 - val_loss: 0.3010 - val_accuracy: 0.9790\n",
            "Epoch 7/20\n",
            "63/63 [==============================] - 10s 160ms/step - loss: 0.0469 - accuracy: 0.9930 - val_loss: 0.3134 - val_accuracy: 0.9770\n",
            "Epoch 8/20\n",
            "63/63 [==============================] - 10s 163ms/step - loss: 0.0392 - accuracy: 0.9940 - val_loss: 0.2755 - val_accuracy: 0.9770\n",
            "Epoch 9/20\n",
            "63/63 [==============================] - 11s 166ms/step - loss: 0.0426 - accuracy: 0.9940 - val_loss: 0.2641 - val_accuracy: 0.9760\n",
            "Epoch 10/20\n",
            "63/63 [==============================] - 11s 167ms/step - loss: 0.0142 - accuracy: 0.9975 - val_loss: 0.4287 - val_accuracy: 0.9720\n",
            "Epoch 11/20\n",
            "63/63 [==============================] - 12s 194ms/step - loss: 0.0135 - accuracy: 0.9960 - val_loss: 0.3197 - val_accuracy: 0.9790\n",
            "Epoch 12/20\n",
            "63/63 [==============================] - 11s 164ms/step - loss: 0.0321 - accuracy: 0.9955 - val_loss: 0.2453 - val_accuracy: 0.9790\n",
            "Epoch 13/20\n",
            "63/63 [==============================] - 10s 163ms/step - loss: 0.0101 - accuracy: 0.9970 - val_loss: 0.3505 - val_accuracy: 0.9760\n",
            "Epoch 14/20\n",
            "63/63 [==============================] - 11s 166ms/step - loss: 0.0250 - accuracy: 0.9965 - val_loss: 0.3804 - val_accuracy: 0.9760\n",
            "Epoch 15/20\n",
            "63/63 [==============================] - 11s 165ms/step - loss: 0.0144 - accuracy: 0.9940 - val_loss: 0.2654 - val_accuracy: 0.9780\n",
            "Epoch 16/20\n",
            "63/63 [==============================] - 10s 161ms/step - loss: 0.0125 - accuracy: 0.9975 - val_loss: 0.2794 - val_accuracy: 0.9770\n",
            "Epoch 17/20\n",
            "63/63 [==============================] - 10s 161ms/step - loss: 0.0113 - accuracy: 0.9960 - val_loss: 0.3417 - val_accuracy: 0.9760\n",
            "Epoch 18/20\n",
            "63/63 [==============================] - 10s 163ms/step - loss: 0.0082 - accuracy: 0.9980 - val_loss: 0.2575 - val_accuracy: 0.9790\n",
            "Epoch 19/20\n",
            "63/63 [==============================] - 11s 165ms/step - loss: 0.0236 - accuracy: 0.9950 - val_loss: 0.2139 - val_accuracy: 0.9780\n",
            "Epoch 20/20\n",
            "63/63 [==============================] - 11s 165ms/step - loss: 0.0122 - accuracy: 0.9960 - val_loss: 0.2199 - val_accuracy: 0.9780\n"
          ]
        },
        {
          "output_type": "execute_result",
          "data": {
            "text/plain": [
              "<keras.src.callbacks.History at 0x788b9e35f670>"
            ]
          },
          "metadata": {},
          "execution_count": 29
        }
      ]
    },
    {
      "cell_type": "code",
      "source": [],
      "metadata": {
        "id": "2lPhvBEUk56l"
      },
      "execution_count": null,
      "outputs": []
    }
  ],
  "metadata": {
    "colab": {
      "provenance": [],
      "include_colab_link": true
    },
    "kernelspec": {
      "display_name": "Python 3",
      "language": "python",
      "name": "python3"
    },
    "language_info": {
      "codemirror_mode": {
        "name": "ipython",
        "version": 3
      },
      "file_extension": ".py",
      "mimetype": "text/x-python",
      "name": "python",
      "nbconvert_exporter": "python",
      "pygments_lexer": "ipython3",
      "version": "3.7.0"
    },
    "accelerator": "GPU"
  },
  "nbformat": 4,
  "nbformat_minor": 0
}