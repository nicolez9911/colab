{
  "nbformat": 4,
  "nbformat_minor": 0,
  "metadata": {
    "colab": {
      "provenance": [],
      "gpuType": "T4",
      "authorship_tag": "ABX9TyMgU9S2l+k/5ZtLnqBhC3IA",
      "include_colab_link": true
    },
    "kernelspec": {
      "name": "python3",
      "display_name": "Python 3"
    },
    "language_info": {
      "name": "python"
    },
    "accelerator": "GPU"
  },
  "cells": [
    {
      "cell_type": "markdown",
      "metadata": {
        "id": "view-in-github",
        "colab_type": "text"
      },
      "source": [
        "<a href=\"https://colab.research.google.com/github/nicolez9911/colab/blob/main/00_pytorch_fundamentals_video.ipynb\" target=\"_parent\"><img src=\"https://colab.research.google.com/assets/colab-badge.svg\" alt=\"Open In Colab\"/></a>"
      ]
    },
    {
      "cell_type": "markdown",
      "source": [
        "# 00. PyTorch Fundamentals"
      ],
      "metadata": {
        "id": "sKXLySB0oi6P"
      }
    },
    {
      "cell_type": "code",
      "execution_count": 1,
      "metadata": {
        "colab": {
          "base_uri": "https://localhost:8080/"
        },
        "id": "x16qLuAuoNRt",
        "outputId": "b7b813ff-d55e-4765-b87a-8c123d4b7d4c"
      },
      "outputs": [
        {
          "output_type": "stream",
          "name": "stdout",
          "text": [
            "2.0.1+cu118\n"
          ]
        }
      ],
      "source": [
        "import torch\n",
        "import pandas as pd\n",
        "import numpy as np\n",
        "import matplotlib.pyplot as plt\n",
        "\n",
        "print(torch.__version__)"
      ]
    },
    {
      "cell_type": "markdown",
      "source": [
        "## Introduction to Tensors\n",
        "\n",
        "### Creating Tensors"
      ],
      "metadata": {
        "id": "zPuJkiObpl23"
      }
    },
    {
      "cell_type": "code",
      "source": [
        "scalar = torch.tensor(7)\n",
        "print(scalar)\n",
        "print(scalar.dtype)\n",
        "print(scalar.dim())\n",
        "print(scalar.shape)"
      ],
      "metadata": {
        "colab": {
          "base_uri": "https://localhost:8080/"
        },
        "id": "4J4298lyodPH",
        "outputId": "86e12852-657a-4d31-ab96-f842f1586951"
      },
      "execution_count": 2,
      "outputs": [
        {
          "output_type": "stream",
          "name": "stdout",
          "text": [
            "tensor(7)\n",
            "torch.int64\n",
            "0\n",
            "torch.Size([])\n"
          ]
        }
      ]
    },
    {
      "cell_type": "code",
      "source": [
        "vector = torch.tensor([1,2])\n",
        "print(vector.dtype)\n",
        "print(vector.dim())\n",
        "print(vector.shape)\n",
        "vector"
      ],
      "metadata": {
        "colab": {
          "base_uri": "https://localhost:8080/"
        },
        "id": "OzKdd6lbpvVQ",
        "outputId": "440c0893-216b-48ba-dfc2-12bbb20fcbe2"
      },
      "execution_count": 3,
      "outputs": [
        {
          "output_type": "stream",
          "name": "stdout",
          "text": [
            "torch.int64\n",
            "1\n",
            "torch.Size([2])\n"
          ]
        },
        {
          "output_type": "execute_result",
          "data": {
            "text/plain": [
              "tensor([1, 2])"
            ]
          },
          "metadata": {},
          "execution_count": 3
        }
      ]
    },
    {
      "cell_type": "code",
      "source": [
        "matrix = torch.tensor([[1,2],[3,4]])\n",
        "print(matrix.dim())\n",
        "print(matrix.shape)\n",
        "matrix"
      ],
      "metadata": {
        "colab": {
          "base_uri": "https://localhost:8080/"
        },
        "id": "Zr4uooUCsg4f",
        "outputId": "399cb586-792e-4f1c-8631-ca81c4fd8e63"
      },
      "execution_count": 4,
      "outputs": [
        {
          "output_type": "stream",
          "name": "stdout",
          "text": [
            "2\n",
            "torch.Size([2, 2])\n"
          ]
        },
        {
          "output_type": "execute_result",
          "data": {
            "text/plain": [
              "tensor([[1, 2],\n",
              "        [3, 4]])"
            ]
          },
          "metadata": {},
          "execution_count": 4
        }
      ]
    },
    {
      "cell_type": "markdown",
      "source": [
        "### Creating Random Tensor"
      ],
      "metadata": {
        "id": "nGqTN9yEtmIj"
      }
    },
    {
      "cell_type": "code",
      "source": [
        "random_tensor = torch.rand(3, 2, 3)\n",
        "random_tensor"
      ],
      "metadata": {
        "colab": {
          "base_uri": "https://localhost:8080/"
        },
        "id": "VAaKgNWVspQn",
        "outputId": "4744d41a-506a-45db-e338-f80ea8ad01ad"
      },
      "execution_count": 5,
      "outputs": [
        {
          "output_type": "execute_result",
          "data": {
            "text/plain": [
              "tensor([[[0.5103, 0.6042, 0.6838],\n",
              "         [0.7105, 0.6546, 0.7924]],\n",
              "\n",
              "        [[0.7246, 0.2670, 0.1040],\n",
              "         [0.0599, 0.9867, 0.7161]],\n",
              "\n",
              "        [[0.0647, 0.3121, 0.5484],\n",
              "         [0.4052, 0.3569, 0.8087]]])"
            ]
          },
          "metadata": {},
          "execution_count": 5
        }
      ]
    },
    {
      "cell_type": "code",
      "source": [
        "random_tensor.ndim"
      ],
      "metadata": {
        "colab": {
          "base_uri": "https://localhost:8080/"
        },
        "id": "uYgdU7-atsFg",
        "outputId": "fa9071b6-65e6-45f6-9601-6271d8233977"
      },
      "execution_count": 6,
      "outputs": [
        {
          "output_type": "execute_result",
          "data": {
            "text/plain": [
              "3"
            ]
          },
          "metadata": {},
          "execution_count": 6
        }
      ]
    },
    {
      "cell_type": "code",
      "source": [
        "random_tensor.shape"
      ],
      "metadata": {
        "colab": {
          "base_uri": "https://localhost:8080/"
        },
        "id": "KY28F1IctzeX",
        "outputId": "95ea0365-820c-406a-9950-75ecb72050a7"
      },
      "execution_count": 7,
      "outputs": [
        {
          "output_type": "execute_result",
          "data": {
            "text/plain": [
              "torch.Size([3, 2, 3])"
            ]
          },
          "metadata": {},
          "execution_count": 7
        }
      ]
    },
    {
      "cell_type": "markdown",
      "source": [
        "### Zeros and ones"
      ],
      "metadata": {
        "id": "e9Edm7UxuTep"
      }
    },
    {
      "cell_type": "code",
      "source": [
        "zeros = torch.zeros(size=(3,2))\n",
        "zeros"
      ],
      "metadata": {
        "colab": {
          "base_uri": "https://localhost:8080/"
        },
        "id": "WAqNxyAYt2iW",
        "outputId": "8d4c4e3b-7406-42db-ff48-3671ca7c6921"
      },
      "execution_count": 8,
      "outputs": [
        {
          "output_type": "execute_result",
          "data": {
            "text/plain": [
              "tensor([[0., 0.],\n",
              "        [0., 0.],\n",
              "        [0., 0.]])"
            ]
          },
          "metadata": {},
          "execution_count": 8
        }
      ]
    },
    {
      "cell_type": "code",
      "source": [
        "zeros.dtype"
      ],
      "metadata": {
        "colab": {
          "base_uri": "https://localhost:8080/"
        },
        "id": "gZ8mn1XYuaWV",
        "outputId": "393fc380-8be5-4fe4-f4ae-9b3f8665e094"
      },
      "execution_count": 9,
      "outputs": [
        {
          "output_type": "execute_result",
          "data": {
            "text/plain": [
              "torch.float32"
            ]
          },
          "metadata": {},
          "execution_count": 9
        }
      ]
    },
    {
      "cell_type": "code",
      "source": [
        "ones = torch.ones(size=(3,2))\n",
        "ones"
      ],
      "metadata": {
        "colab": {
          "base_uri": "https://localhost:8080/"
        },
        "id": "0BdUgcoMufR2",
        "outputId": "4a4f83de-8c72-43cb-f946-bb4ed509728f"
      },
      "execution_count": 10,
      "outputs": [
        {
          "output_type": "execute_result",
          "data": {
            "text/plain": [
              "tensor([[1., 1.],\n",
              "        [1., 1.],\n",
              "        [1., 1.]])"
            ]
          },
          "metadata": {},
          "execution_count": 10
        }
      ]
    },
    {
      "cell_type": "markdown",
      "source": [
        "### Creating a range of tensors and tensors-like"
      ],
      "metadata": {
        "id": "DzCyDEIuukv2"
      }
    },
    {
      "cell_type": "code",
      "source": [
        "one_to_ten = torch.arange(1, 11)\n",
        "one_to_ten"
      ],
      "metadata": {
        "colab": {
          "base_uri": "https://localhost:8080/"
        },
        "id": "3hBZQ2CyujC5",
        "outputId": "f7ece141-572d-4738-8bee-d6054c4b1bc3"
      },
      "execution_count": 11,
      "outputs": [
        {
          "output_type": "execute_result",
          "data": {
            "text/plain": [
              "tensor([ 1,  2,  3,  4,  5,  6,  7,  8,  9, 10])"
            ]
          },
          "metadata": {},
          "execution_count": 11
        }
      ]
    },
    {
      "cell_type": "code",
      "source": [
        "one_to_thirty = torch.arange(start=1, end=30, step=3)\n",
        "one_to_thirty"
      ],
      "metadata": {
        "colab": {
          "base_uri": "https://localhost:8080/"
        },
        "id": "oAZRXn1Yurlu",
        "outputId": "a60888ae-4f98-453d-c63d-87cb29461938"
      },
      "execution_count": 12,
      "outputs": [
        {
          "output_type": "execute_result",
          "data": {
            "text/plain": [
              "tensor([ 1,  4,  7, 10, 13, 16, 19, 22, 25, 28])"
            ]
          },
          "metadata": {},
          "execution_count": 12
        }
      ]
    },
    {
      "cell_type": "code",
      "source": [
        "ten_zeros = torch.zeros_like(input=one_to_ten)\n",
        "ten_zeros"
      ],
      "metadata": {
        "colab": {
          "base_uri": "https://localhost:8080/"
        },
        "id": "5n5LOR6iu8QB",
        "outputId": "13ddcaab-f8c7-4822-d863-be2828e4730e"
      },
      "execution_count": 13,
      "outputs": [
        {
          "output_type": "execute_result",
          "data": {
            "text/plain": [
              "tensor([0, 0, 0, 0, 0, 0, 0, 0, 0, 0])"
            ]
          },
          "metadata": {},
          "execution_count": 13
        }
      ]
    },
    {
      "cell_type": "markdown",
      "source": [
        "## Tensor datatypes"
      ],
      "metadata": {
        "id": "3ux58hlAvKk4"
      }
    },
    {
      "cell_type": "code",
      "source": [
        "float_32_tensor = torch.tensor([3.0,6.0,9.0],\n",
        "                               dtype=None, # set dtype, float32 is default\n",
        "                               device=None, # cpu / gpu etc.\n",
        "                               requires_grad=False # wheter or not to track gradient\n",
        "                               )\n",
        "float_32_tensor.dtype"
      ],
      "metadata": {
        "colab": {
          "base_uri": "https://localhost:8080/"
        },
        "id": "6-SOXVwVvGOa",
        "outputId": "e6e90fec-0ce4-4e25-bcdd-68dc63ce3741"
      },
      "execution_count": 14,
      "outputs": [
        {
          "output_type": "execute_result",
          "data": {
            "text/plain": [
              "torch.float32"
            ]
          },
          "metadata": {},
          "execution_count": 14
        }
      ]
    },
    {
      "cell_type": "code",
      "source": [
        "float_16_tensor = torch.tensor([3.0,6.0,9.0],\n",
        "                               dtype=torch.float16,\n",
        "                               device=None,\n",
        "                               requires_grad=False)\n",
        "float_16_tensor.dtype"
      ],
      "metadata": {
        "colab": {
          "base_uri": "https://localhost:8080/"
        },
        "id": "Nhg5l2DMvwhZ",
        "outputId": "9acd4bfd-df68-4b88-91c1-09e5abdb457f"
      },
      "execution_count": 15,
      "outputs": [
        {
          "output_type": "execute_result",
          "data": {
            "text/plain": [
              "torch.float16"
            ]
          },
          "metadata": {},
          "execution_count": 15
        }
      ]
    },
    {
      "cell_type": "code",
      "source": [
        "converted = float_16_tensor.type(torch.float32)\n",
        "converted.dtype"
      ],
      "metadata": {
        "colab": {
          "base_uri": "https://localhost:8080/"
        },
        "id": "oB7ulWY2v2X4",
        "outputId": "535502c5-8d5d-4186-c906-5cfbc291c6c7"
      },
      "execution_count": 16,
      "outputs": [
        {
          "output_type": "execute_result",
          "data": {
            "text/plain": [
              "torch.float32"
            ]
          },
          "metadata": {},
          "execution_count": 16
        }
      ]
    },
    {
      "cell_type": "markdown",
      "source": [
        "## Manipulating Tensors (tensor operation)\n",
        "\n",
        "*   Addition\n",
        "*   Subtraction\n",
        "*   Multiplication (element-wise)\n",
        "*   Division\n",
        "*   Matrix Multiplication\n",
        "\n",
        "\n",
        "\n",
        "\n",
        "\n"
      ],
      "metadata": {
        "id": "tnwdApk7i9Nu"
      }
    },
    {
      "cell_type": "code",
      "source": [
        "tensor = torch.tensor([1,2,3])\n",
        "tensor"
      ],
      "metadata": {
        "colab": {
          "base_uri": "https://localhost:8080/"
        },
        "id": "JMY1zzUxh3fi",
        "outputId": "7c7aea6f-4a29-482d-a3a9-406801145ac6"
      },
      "execution_count": 17,
      "outputs": [
        {
          "output_type": "execute_result",
          "data": {
            "text/plain": [
              "tensor([1, 2, 3])"
            ]
          },
          "metadata": {},
          "execution_count": 17
        }
      ]
    },
    {
      "cell_type": "code",
      "source": [
        "tensor - 5"
      ],
      "metadata": {
        "colab": {
          "base_uri": "https://localhost:8080/"
        },
        "id": "ohQJypyujafY",
        "outputId": "65ad75fe-97e3-4643-e961-8ac6950bd422"
      },
      "execution_count": 18,
      "outputs": [
        {
          "output_type": "execute_result",
          "data": {
            "text/plain": [
              "tensor([-4, -3, -2])"
            ]
          },
          "metadata": {},
          "execution_count": 18
        }
      ]
    },
    {
      "cell_type": "code",
      "source": [
        "torch.add(tensor, 5)"
      ],
      "metadata": {
        "colab": {
          "base_uri": "https://localhost:8080/"
        },
        "id": "LLl963T5jbnc",
        "outputId": "32c1df7b-5dee-4f85-d2d1-9b04cc135c9c"
      },
      "execution_count": 19,
      "outputs": [
        {
          "output_type": "execute_result",
          "data": {
            "text/plain": [
              "tensor([6, 7, 8])"
            ]
          },
          "metadata": {},
          "execution_count": 19
        }
      ]
    },
    {
      "cell_type": "code",
      "source": [
        "tensor + 5"
      ],
      "metadata": {
        "colab": {
          "base_uri": "https://localhost:8080/"
        },
        "id": "GYpyfZt7jeDs",
        "outputId": "0faba464-5321-4d20-aec9-d7ca88cf8efd"
      },
      "execution_count": 20,
      "outputs": [
        {
          "output_type": "execute_result",
          "data": {
            "text/plain": [
              "tensor([6, 7, 8])"
            ]
          },
          "metadata": {},
          "execution_count": 20
        }
      ]
    },
    {
      "cell_type": "code",
      "source": [
        "tensor * tensor"
      ],
      "metadata": {
        "colab": {
          "base_uri": "https://localhost:8080/"
        },
        "id": "FXna0qkFjnFU",
        "outputId": "7dc3fc97-d2e9-4333-ea88-50feb3998dab"
      },
      "execution_count": 21,
      "outputs": [
        {
          "output_type": "execute_result",
          "data": {
            "text/plain": [
              "tensor([1, 4, 9])"
            ]
          },
          "metadata": {},
          "execution_count": 21
        }
      ]
    },
    {
      "cell_type": "code",
      "source": [
        "torch.matmul(tensor,tensor) # faster than a for loop"
      ],
      "metadata": {
        "colab": {
          "base_uri": "https://localhost:8080/"
        },
        "id": "0VuxqZL7kGin",
        "outputId": "c637ae7e-51d7-4624-957c-a33b08e98dde"
      },
      "execution_count": 22,
      "outputs": [
        {
          "output_type": "execute_result",
          "data": {
            "text/plain": [
              "tensor(14)"
            ]
          },
          "metadata": {},
          "execution_count": 22
        }
      ]
    },
    {
      "cell_type": "code",
      "source": [
        "# also works for matrix multiplication (but no so common)\n",
        "tensor @ tensor"
      ],
      "metadata": {
        "colab": {
          "base_uri": "https://localhost:8080/"
        },
        "id": "v3Te7zgElAZl",
        "outputId": "ce0d22af-fbd3-40bd-f1d1-e62ff1e61c77"
      },
      "execution_count": 23,
      "outputs": [
        {
          "output_type": "execute_result",
          "data": {
            "text/plain": [
              "tensor(14)"
            ]
          },
          "metadata": {},
          "execution_count": 23
        }
      ]
    },
    {
      "cell_type": "code",
      "source": [
        "tensor_test = torch.rand(3,2)"
      ],
      "metadata": {
        "id": "9DG3uLHJmegp"
      },
      "execution_count": 24,
      "outputs": []
    },
    {
      "cell_type": "code",
      "source": [
        "tensor_test, tensor_test.shape"
      ],
      "metadata": {
        "colab": {
          "base_uri": "https://localhost:8080/"
        },
        "id": "fELR70hQmV2F",
        "outputId": "0fa5d322-235f-4b37-b7ca-dd1ac0a2657a"
      },
      "execution_count": 25,
      "outputs": [
        {
          "output_type": "execute_result",
          "data": {
            "text/plain": [
              "(tensor([[0.2832, 0.0218],\n",
              "         [0.1389, 0.5752],\n",
              "         [0.5397, 0.5037]]),\n",
              " torch.Size([3, 2]))"
            ]
          },
          "metadata": {},
          "execution_count": 25
        }
      ]
    },
    {
      "cell_type": "code",
      "source": [
        "tensor_test.T, tensor_test.T.shape"
      ],
      "metadata": {
        "colab": {
          "base_uri": "https://localhost:8080/"
        },
        "id": "3HnmveHDmJzg",
        "outputId": "7c903c07-9dbf-4a29-849a-c780895d9e1c"
      },
      "execution_count": 26,
      "outputs": [
        {
          "output_type": "execute_result",
          "data": {
            "text/plain": [
              "(tensor([[0.2832, 0.1389, 0.5397],\n",
              "         [0.0218, 0.5752, 0.5037]]),\n",
              " torch.Size([2, 3]))"
            ]
          },
          "metadata": {},
          "execution_count": 26
        }
      ]
    },
    {
      "cell_type": "code",
      "source": [
        "torch.mm(tensor_test, tensor_test)"
      ],
      "metadata": {
        "colab": {
          "base_uri": "https://localhost:8080/",
          "height": 176
        },
        "id": "pmqr2kI2nCtY",
        "outputId": "ae487207-da21-4948-c483-3f95f0ac1477"
      },
      "execution_count": 28,
      "outputs": [
        {
          "output_type": "error",
          "ename": "RuntimeError",
          "evalue": "ignored",
          "traceback": [
            "\u001b[0;31m---------------------------------------------------------------------------\u001b[0m",
            "\u001b[0;31mRuntimeError\u001b[0m                              Traceback (most recent call last)",
            "\u001b[0;32m<ipython-input-28-e6ef093f28f8>\u001b[0m in \u001b[0;36m<cell line: 1>\u001b[0;34m()\u001b[0m\n\u001b[0;32m----> 1\u001b[0;31m \u001b[0mtorch\u001b[0m\u001b[0;34m.\u001b[0m\u001b[0mmm\u001b[0m\u001b[0;34m(\u001b[0m\u001b[0mtensor_test\u001b[0m\u001b[0;34m,\u001b[0m \u001b[0mtensor_test\u001b[0m\u001b[0;34m)\u001b[0m\u001b[0;34m\u001b[0m\u001b[0;34m\u001b[0m\u001b[0m\n\u001b[0m",
            "\u001b[0;31mRuntimeError\u001b[0m: mat1 and mat2 shapes cannot be multiplied (3x2 and 3x2)"
          ]
        }
      ]
    },
    {
      "cell_type": "code",
      "source": [
        "torch.mm(tensor_test, tensor_test.T)"
      ],
      "metadata": {
        "colab": {
          "base_uri": "https://localhost:8080/"
        },
        "id": "aaJn1CfUm9pt",
        "outputId": "f7d01537-3677-4dbf-bfff-d9d826b5bf19"
      },
      "execution_count": 29,
      "outputs": [
        {
          "output_type": "execute_result",
          "data": {
            "text/plain": [
              "tensor([[0.0807, 0.0519, 0.1639],\n",
              "        [0.0519, 0.3501, 0.3647],\n",
              "        [0.1639, 0.3647, 0.5450]])"
            ]
          },
          "metadata": {},
          "execution_count": 29
        }
      ]
    },
    {
      "cell_type": "markdown",
      "source": [
        "## Finding min, max, mean & sum"
      ],
      "metadata": {
        "id": "_VNpPKE1k57I"
      }
    },
    {
      "cell_type": "code",
      "source": [
        "x = torch.arange(0, 100, 10)\n",
        "x"
      ],
      "metadata": {
        "colab": {
          "base_uri": "https://localhost:8080/"
        },
        "id": "KAz-RLP2kMiK",
        "outputId": "6b2bfb62-d87a-449a-a055-f7ce6daf23cd"
      },
      "execution_count": 30,
      "outputs": [
        {
          "output_type": "execute_result",
          "data": {
            "text/plain": [
              "tensor([ 0, 10, 20, 30, 40, 50, 60, 70, 80, 90])"
            ]
          },
          "metadata": {},
          "execution_count": 30
        }
      ]
    },
    {
      "cell_type": "code",
      "source": [
        "torch.min(x)"
      ],
      "metadata": {
        "colab": {
          "base_uri": "https://localhost:8080/"
        },
        "id": "8ujlndotnUu2",
        "outputId": "1e07d483-c15f-4928-aeb2-4fdf7a58d2a1"
      },
      "execution_count": 31,
      "outputs": [
        {
          "output_type": "execute_result",
          "data": {
            "text/plain": [
              "tensor(0)"
            ]
          },
          "metadata": {},
          "execution_count": 31
        }
      ]
    },
    {
      "cell_type": "code",
      "source": [
        "torch.max(x)"
      ],
      "metadata": {
        "colab": {
          "base_uri": "https://localhost:8080/"
        },
        "id": "WcmNpW2mnfgw",
        "outputId": "20aa69de-5a2a-4465-9c2e-e36d019b0ed7"
      },
      "execution_count": 32,
      "outputs": [
        {
          "output_type": "execute_result",
          "data": {
            "text/plain": [
              "tensor(90)"
            ]
          },
          "metadata": {},
          "execution_count": 32
        }
      ]
    },
    {
      "cell_type": "code",
      "source": [
        "torch.mean(x.type(torch.float32))"
      ],
      "metadata": {
        "colab": {
          "base_uri": "https://localhost:8080/"
        },
        "id": "VQxe_VPdniwW",
        "outputId": "66e2a31d-a64d-4040-a48e-e07e08f3c4a6"
      },
      "execution_count": 33,
      "outputs": [
        {
          "output_type": "execute_result",
          "data": {
            "text/plain": [
              "tensor(45.)"
            ]
          },
          "metadata": {},
          "execution_count": 33
        }
      ]
    },
    {
      "cell_type": "code",
      "source": [
        "# get index of the smallest element\n",
        "torch.argmin(x)"
      ],
      "metadata": {
        "colab": {
          "base_uri": "https://localhost:8080/"
        },
        "id": "7CIsu8hJnt78",
        "outputId": "8f0a4ccd-0de3-4972-9a62-4ac9f6fec732"
      },
      "execution_count": 34,
      "outputs": [
        {
          "output_type": "execute_result",
          "data": {
            "text/plain": [
              "tensor(0)"
            ]
          },
          "metadata": {},
          "execution_count": 34
        }
      ]
    },
    {
      "cell_type": "code",
      "source": [
        "torch.argmax(x)"
      ],
      "metadata": {
        "colab": {
          "base_uri": "https://localhost:8080/"
        },
        "id": "EbtwW2C5n2Bm",
        "outputId": "a51642fd-ab8e-417e-87b3-1ebac03367e3"
      },
      "execution_count": 35,
      "outputs": [
        {
          "output_type": "execute_result",
          "data": {
            "text/plain": [
              "tensor(9)"
            ]
          },
          "metadata": {},
          "execution_count": 35
        }
      ]
    },
    {
      "cell_type": "code",
      "source": [
        "x[torch.argmax(x)]"
      ],
      "metadata": {
        "colab": {
          "base_uri": "https://localhost:8080/"
        },
        "id": "HoD2UBlRoGTE",
        "outputId": "13204fd9-cef0-4b28-e78d-37c4d3e21913"
      },
      "execution_count": 36,
      "outputs": [
        {
          "output_type": "execute_result",
          "data": {
            "text/plain": [
              "tensor(90)"
            ]
          },
          "metadata": {},
          "execution_count": 36
        }
      ]
    },
    {
      "cell_type": "markdown",
      "source": [
        "## Reshaping, viewing and stacking\n",
        "\n",
        "**view of a tensor shares the same memory, reshape makes a new one**"
      ],
      "metadata": {
        "id": "mqHVlWyVo-6I"
      }
    },
    {
      "cell_type": "code",
      "source": [
        "y = torch.arange(1.,11.)\n",
        "y"
      ],
      "metadata": {
        "colab": {
          "base_uri": "https://localhost:8080/"
        },
        "id": "wPy2-FZNn4Tp",
        "outputId": "54057d6a-65c7-42b0-84b0-5eb329cf8070"
      },
      "execution_count": 37,
      "outputs": [
        {
          "output_type": "execute_result",
          "data": {
            "text/plain": [
              "tensor([ 1.,  2.,  3.,  4.,  5.,  6.,  7.,  8.,  9., 10.])"
            ]
          },
          "metadata": {},
          "execution_count": 37
        }
      ]
    },
    {
      "cell_type": "code",
      "source": [
        "y_reshaped = y.reshape(2, 5)\n",
        "y_reshaped"
      ],
      "metadata": {
        "colab": {
          "base_uri": "https://localhost:8080/"
        },
        "id": "cTqb-hSUpIj1",
        "outputId": "cc670629-8aff-4b7f-ca44-16c2b345bc45"
      },
      "execution_count": 38,
      "outputs": [
        {
          "output_type": "execute_result",
          "data": {
            "text/plain": [
              "tensor([[ 1.,  2.,  3.,  4.,  5.],\n",
              "        [ 6.,  7.,  8.,  9., 10.]])"
            ]
          },
          "metadata": {},
          "execution_count": 38
        }
      ]
    },
    {
      "cell_type": "code",
      "source": [
        "z = y.view(2, 5)\n",
        "z"
      ],
      "metadata": {
        "colab": {
          "base_uri": "https://localhost:8080/"
        },
        "id": "Ibddj6ctprgb",
        "outputId": "c22806c5-ac05-4995-e2af-762ac1b8b20e"
      },
      "execution_count": 39,
      "outputs": [
        {
          "output_type": "execute_result",
          "data": {
            "text/plain": [
              "tensor([[ 1.,  2.,  3.,  4.,  5.],\n",
              "        [ 6.,  7.,  8.,  9., 10.]])"
            ]
          },
          "metadata": {},
          "execution_count": 39
        }
      ]
    },
    {
      "cell_type": "code",
      "source": [
        "z[0] = 50."
      ],
      "metadata": {
        "id": "yWYOnleSp6Ye"
      },
      "execution_count": 40,
      "outputs": []
    },
    {
      "cell_type": "code",
      "source": [
        "z"
      ],
      "metadata": {
        "colab": {
          "base_uri": "https://localhost:8080/"
        },
        "id": "jyPmMXoep_Tb",
        "outputId": "9599d4d2-bc95-498c-a644-dba71bbf4831"
      },
      "execution_count": 41,
      "outputs": [
        {
          "output_type": "execute_result",
          "data": {
            "text/plain": [
              "tensor([[50., 50., 50., 50., 50.],\n",
              "        [ 6.,  7.,  8.,  9., 10.]])"
            ]
          },
          "metadata": {},
          "execution_count": 41
        }
      ]
    },
    {
      "cell_type": "code",
      "source": [
        "y"
      ],
      "metadata": {
        "colab": {
          "base_uri": "https://localhost:8080/"
        },
        "id": "C9QUfpwxqAZN",
        "outputId": "b6a5e1db-9852-4fea-8ef8-4c3b16565450"
      },
      "execution_count": 42,
      "outputs": [
        {
          "output_type": "execute_result",
          "data": {
            "text/plain": [
              "tensor([50., 50., 50., 50., 50.,  6.,  7.,  8.,  9., 10.])"
            ]
          },
          "metadata": {},
          "execution_count": 42
        }
      ]
    },
    {
      "cell_type": "code",
      "source": [
        "y_stacked = torch.stack([x,y,x])\n",
        "y_stacked"
      ],
      "metadata": {
        "colab": {
          "base_uri": "https://localhost:8080/"
        },
        "id": "n-TkCPMeqBkG",
        "outputId": "a9a0d138-ada4-4505-a6c2-6792fcee34a7"
      },
      "execution_count": 43,
      "outputs": [
        {
          "output_type": "execute_result",
          "data": {
            "text/plain": [
              "tensor([[ 0., 10., 20., 30., 40., 50., 60., 70., 80., 90.],\n",
              "        [50., 50., 50., 50., 50.,  6.,  7.,  8.,  9., 10.],\n",
              "        [ 0., 10., 20., 30., 40., 50., 60., 70., 80., 90.]])"
            ]
          },
          "metadata": {},
          "execution_count": 43
        }
      ]
    },
    {
      "cell_type": "code",
      "source": [
        "y.shape"
      ],
      "metadata": {
        "colab": {
          "base_uri": "https://localhost:8080/"
        },
        "id": "lNFTptO5qLqo",
        "outputId": "62882957-99b9-47f2-ed7e-49f1ea5d2185"
      },
      "execution_count": 44,
      "outputs": [
        {
          "output_type": "execute_result",
          "data": {
            "text/plain": [
              "torch.Size([10])"
            ]
          },
          "metadata": {},
          "execution_count": 44
        }
      ]
    },
    {
      "cell_type": "code",
      "source": [
        "y_squeezed = y.squeeze()\n",
        "y_squeezed"
      ],
      "metadata": {
        "colab": {
          "base_uri": "https://localhost:8080/"
        },
        "id": "dj6vCliaqTK3",
        "outputId": "6ff460a2-e0a1-422e-a7f7-33c6573b3499"
      },
      "execution_count": 45,
      "outputs": [
        {
          "output_type": "execute_result",
          "data": {
            "text/plain": [
              "tensor([50., 50., 50., 50., 50.,  6.,  7.,  8.,  9., 10.])"
            ]
          },
          "metadata": {},
          "execution_count": 45
        }
      ]
    },
    {
      "cell_type": "code",
      "source": [
        "y_squeezed.shape"
      ],
      "metadata": {
        "colab": {
          "base_uri": "https://localhost:8080/"
        },
        "id": "4_ChoCdgqaUu",
        "outputId": "ca64a672-933e-4973-a937-8b4920b383c9"
      },
      "execution_count": 46,
      "outputs": [
        {
          "output_type": "execute_result",
          "data": {
            "text/plain": [
              "torch.Size([10])"
            ]
          },
          "metadata": {},
          "execution_count": 46
        }
      ]
    },
    {
      "cell_type": "markdown",
      "source": [
        "### Permute"
      ],
      "metadata": {
        "id": "Jof8v5k1q-I7"
      }
    },
    {
      "cell_type": "code",
      "source": [
        "x_original = torch.rand(size=(224,224,3))\n",
        "\n",
        "# permute to rearrange the axis (or dim) order\n",
        "x_permuted = x_original.permute(2, 0, 1)"
      ],
      "metadata": {
        "id": "V5eCSIKPqiXP"
      },
      "execution_count": 47,
      "outputs": []
    },
    {
      "cell_type": "code",
      "source": [
        "x_original"
      ],
      "metadata": {
        "colab": {
          "base_uri": "https://localhost:8080/"
        },
        "id": "_xia7JMOrVfu",
        "outputId": "4611e7e0-860a-43f7-f38d-390cd27bb3bf"
      },
      "execution_count": 48,
      "outputs": [
        {
          "output_type": "execute_result",
          "data": {
            "text/plain": [
              "tensor([[[0.7649, 0.4884, 0.1632],\n",
              "         [0.4138, 0.5171, 0.8792],\n",
              "         [0.9833, 0.1088, 0.0416],\n",
              "         ...,\n",
              "         [0.8882, 0.9149, 0.7383],\n",
              "         [0.2074, 0.4167, 0.6507],\n",
              "         [0.4441, 0.7647, 0.5797]],\n",
              "\n",
              "        [[0.2878, 0.7139, 0.1399],\n",
              "         [0.1092, 0.6651, 0.5091],\n",
              "         [0.6769, 0.8984, 0.2988],\n",
              "         ...,\n",
              "         [0.1799, 0.3367, 0.3173],\n",
              "         [0.8456, 0.6975, 0.3571],\n",
              "         [0.9272, 0.8681, 0.1838]],\n",
              "\n",
              "        [[0.6408, 0.8185, 0.6378],\n",
              "         [0.6887, 0.1789, 0.0176],\n",
              "         [0.7078, 0.5504, 0.2301],\n",
              "         ...,\n",
              "         [0.7205, 0.1902, 0.1388],\n",
              "         [0.4195, 0.8003, 0.0834],\n",
              "         [0.9276, 0.9462, 0.7021]],\n",
              "\n",
              "        ...,\n",
              "\n",
              "        [[0.7284, 0.2526, 0.9706],\n",
              "         [0.9444, 0.3539, 0.2299],\n",
              "         [0.3376, 0.6758, 0.3422],\n",
              "         ...,\n",
              "         [0.1009, 0.4582, 0.4376],\n",
              "         [0.9609, 0.2120, 0.1367],\n",
              "         [0.6536, 0.2148, 0.4910]],\n",
              "\n",
              "        [[0.9669, 0.7928, 0.8663],\n",
              "         [0.5154, 0.3769, 0.2844],\n",
              "         [0.6764, 0.2937, 0.3574],\n",
              "         ...,\n",
              "         [0.8539, 0.5407, 0.4253],\n",
              "         [0.2316, 0.2494, 0.8949],\n",
              "         [0.0897, 0.0557, 0.9410]],\n",
              "\n",
              "        [[0.1586, 0.4109, 0.6648],\n",
              "         [0.2603, 0.6075, 0.9038],\n",
              "         [0.8853, 0.4229, 0.6044],\n",
              "         ...,\n",
              "         [0.0126, 0.5121, 0.4952],\n",
              "         [0.5700, 0.5366, 0.1685],\n",
              "         [0.9024, 0.6750, 0.4570]]])"
            ]
          },
          "metadata": {},
          "execution_count": 48
        }
      ]
    },
    {
      "cell_type": "code",
      "source": [
        "x_permuted"
      ],
      "metadata": {
        "colab": {
          "base_uri": "https://localhost:8080/"
        },
        "id": "ZOyTzVzdrIQm",
        "outputId": "b76e1617-c3ed-45ab-a4c3-51b0dc790087"
      },
      "execution_count": 49,
      "outputs": [
        {
          "output_type": "execute_result",
          "data": {
            "text/plain": [
              "tensor([[[0.7649, 0.4138, 0.9833,  ..., 0.8882, 0.2074, 0.4441],\n",
              "         [0.2878, 0.1092, 0.6769,  ..., 0.1799, 0.8456, 0.9272],\n",
              "         [0.6408, 0.6887, 0.7078,  ..., 0.7205, 0.4195, 0.9276],\n",
              "         ...,\n",
              "         [0.7284, 0.9444, 0.3376,  ..., 0.1009, 0.9609, 0.6536],\n",
              "         [0.9669, 0.5154, 0.6764,  ..., 0.8539, 0.2316, 0.0897],\n",
              "         [0.1586, 0.2603, 0.8853,  ..., 0.0126, 0.5700, 0.9024]],\n",
              "\n",
              "        [[0.4884, 0.5171, 0.1088,  ..., 0.9149, 0.4167, 0.7647],\n",
              "         [0.7139, 0.6651, 0.8984,  ..., 0.3367, 0.6975, 0.8681],\n",
              "         [0.8185, 0.1789, 0.5504,  ..., 0.1902, 0.8003, 0.9462],\n",
              "         ...,\n",
              "         [0.2526, 0.3539, 0.6758,  ..., 0.4582, 0.2120, 0.2148],\n",
              "         [0.7928, 0.3769, 0.2937,  ..., 0.5407, 0.2494, 0.0557],\n",
              "         [0.4109, 0.6075, 0.4229,  ..., 0.5121, 0.5366, 0.6750]],\n",
              "\n",
              "        [[0.1632, 0.8792, 0.0416,  ..., 0.7383, 0.6507, 0.5797],\n",
              "         [0.1399, 0.5091, 0.2988,  ..., 0.3173, 0.3571, 0.1838],\n",
              "         [0.6378, 0.0176, 0.2301,  ..., 0.1388, 0.0834, 0.7021],\n",
              "         ...,\n",
              "         [0.9706, 0.2299, 0.3422,  ..., 0.4376, 0.1367, 0.4910],\n",
              "         [0.8663, 0.2844, 0.3574,  ..., 0.4253, 0.8949, 0.9410],\n",
              "         [0.6648, 0.9038, 0.6044,  ..., 0.4952, 0.1685, 0.4570]]])"
            ]
          },
          "metadata": {},
          "execution_count": 49
        }
      ]
    },
    {
      "cell_type": "markdown",
      "source": [
        "## Pytorch, Tensors and Numpy"
      ],
      "metadata": {
        "id": "Is5PeZE6svDh"
      }
    },
    {
      "cell_type": "code",
      "source": [
        "a = np.arange(1.0, 8.0)\n",
        "a"
      ],
      "metadata": {
        "colab": {
          "base_uri": "https://localhost:8080/"
        },
        "id": "WCEdHnt11b3X",
        "outputId": "feebfe02-3bb1-446b-df0f-6517563072d5"
      },
      "execution_count": 50,
      "outputs": [
        {
          "output_type": "execute_result",
          "data": {
            "text/plain": [
              "array([1., 2., 3., 4., 5., 6., 7.])"
            ]
          },
          "metadata": {},
          "execution_count": 50
        }
      ]
    },
    {
      "cell_type": "code",
      "source": [
        "t = torch.from_numpy(a)\n",
        "t"
      ],
      "metadata": {
        "colab": {
          "base_uri": "https://localhost:8080/"
        },
        "id": "k1VJvheJrU_J",
        "outputId": "68e015fc-7a37-4993-c47d-034ce993b695"
      },
      "execution_count": 51,
      "outputs": [
        {
          "output_type": "execute_result",
          "data": {
            "text/plain": [
              "tensor([1., 2., 3., 4., 5., 6., 7.], dtype=torch.float64)"
            ]
          },
          "metadata": {},
          "execution_count": 51
        }
      ]
    },
    {
      "cell_type": "code",
      "source": [
        "t.numpy() # > numpy array"
      ],
      "metadata": {
        "colab": {
          "base_uri": "https://localhost:8080/"
        },
        "id": "P0Wwtj5_1LMN",
        "outputId": "ce05812a-06a8-455a-b02f-3bb372204047"
      },
      "execution_count": 52,
      "outputs": [
        {
          "output_type": "execute_result",
          "data": {
            "text/plain": [
              "array([1., 2., 3., 4., 5., 6., 7.])"
            ]
          },
          "metadata": {},
          "execution_count": 52
        }
      ]
    },
    {
      "cell_type": "markdown",
      "source": [
        "## Reproducability\n",
        "\n",
        "-> start with random numbers > tensor operations > update random numbers to try and make them better representation of the data -> again -> again ....\n",
        "\n",
        "> random seed flavoured die randomness > dann hat man etwas mehr reproducability"
      ],
      "metadata": {
        "id": "z9ydsuhx1joD"
      }
    },
    {
      "cell_type": "code",
      "source": [
        "RANDOM_SEED = 1234\n",
        "torch.manual_seed(RANDOM_SEED)\n",
        "rand1 = torch.rand(3,4)\n",
        "torch.manual_seed(RANDOM_SEED)\n",
        "rand2 = torch.rand(3,4)\n",
        "\n",
        "rand1, rand2"
      ],
      "metadata": {
        "colab": {
          "base_uri": "https://localhost:8080/"
        },
        "id": "_cKgs5g11MTQ",
        "outputId": "2a41a164-71f2-4cd9-d389-cea247023037"
      },
      "execution_count": 53,
      "outputs": [
        {
          "output_type": "execute_result",
          "data": {
            "text/plain": [
              "(tensor([[0.0290, 0.4019, 0.2598, 0.3666],\n",
              "         [0.0583, 0.7006, 0.0518, 0.4681],\n",
              "         [0.6738, 0.3315, 0.7837, 0.5631]]),\n",
              " tensor([[0.0290, 0.4019, 0.2598, 0.3666],\n",
              "         [0.0583, 0.7006, 0.0518, 0.4681],\n",
              "         [0.6738, 0.3315, 0.7837, 0.5631]]))"
            ]
          },
          "metadata": {},
          "execution_count": 53
        }
      ]
    },
    {
      "cell_type": "code",
      "source": [
        "!nvidia-smi"
      ],
      "metadata": {
        "colab": {
          "base_uri": "https://localhost:8080/"
        },
        "id": "EwTei3623mJo",
        "outputId": "69578b3c-d568-4a60-bd1c-cfcd0c25685e"
      },
      "execution_count": 54,
      "outputs": [
        {
          "output_type": "stream",
          "name": "stdout",
          "text": [
            "Tue Oct  3 14:09:24 2023       \n",
            "+-----------------------------------------------------------------------------+\n",
            "| NVIDIA-SMI 525.105.17   Driver Version: 525.105.17   CUDA Version: 12.0     |\n",
            "|-------------------------------+----------------------+----------------------+\n",
            "| GPU  Name        Persistence-M| Bus-Id        Disp.A | Volatile Uncorr. ECC |\n",
            "| Fan  Temp  Perf  Pwr:Usage/Cap|         Memory-Usage | GPU-Util  Compute M. |\n",
            "|                               |                      |               MIG M. |\n",
            "|===============================+======================+======================|\n",
            "|   0  Tesla T4            Off  | 00000000:00:04.0 Off |                    0 |\n",
            "| N/A   42C    P8     9W /  70W |      0MiB / 15360MiB |      0%      Default |\n",
            "|                               |                      |                  N/A |\n",
            "+-------------------------------+----------------------+----------------------+\n",
            "                                                                               \n",
            "+-----------------------------------------------------------------------------+\n",
            "| Processes:                                                                  |\n",
            "|  GPU   GI   CI        PID   Type   Process name                  GPU Memory |\n",
            "|        ID   ID                                                   Usage      |\n",
            "|=============================================================================|\n",
            "|  No running processes found                                                 |\n",
            "+-----------------------------------------------------------------------------+\n"
          ]
        }
      ]
    },
    {
      "cell_type": "code",
      "source": [
        "torch.cuda.is_available()"
      ],
      "metadata": {
        "colab": {
          "base_uri": "https://localhost:8080/"
        },
        "id": "CYBcj9Fk35Q5",
        "outputId": "17312e45-5d2e-45f1-88d2-d7b894476ce8"
      },
      "execution_count": 56,
      "outputs": [
        {
          "output_type": "execute_result",
          "data": {
            "text/plain": [
              "True"
            ]
          },
          "metadata": {},
          "execution_count": 56
        }
      ]
    },
    {
      "cell_type": "code",
      "source": [
        "device = \"cuda\" if torch.cuda.is_available() else \"cpu\""
      ],
      "metadata": {
        "id": "AKFUllmy4AwW"
      },
      "execution_count": 57,
      "outputs": []
    },
    {
      "cell_type": "code",
      "source": [
        "torch.cuda.device_count()"
      ],
      "metadata": {
        "colab": {
          "base_uri": "https://localhost:8080/"
        },
        "id": "1MzxLVjZ4LEB",
        "outputId": "076386f3-01d9-40e5-8009-89b8307eba43"
      },
      "execution_count": 58,
      "outputs": [
        {
          "output_type": "execute_result",
          "data": {
            "text/plain": [
              "1"
            ]
          },
          "metadata": {},
          "execution_count": 58
        }
      ]
    },
    {
      "cell_type": "code",
      "source": [
        "tensor = torch.tensor([1,2,3])\n",
        "print(tensor, tensor.device)"
      ],
      "metadata": {
        "colab": {
          "base_uri": "https://localhost:8080/"
        },
        "id": "CDaUkYf54Oc8",
        "outputId": "a3c93c73-be67-437a-ab80-bafd4c289ff4"
      },
      "execution_count": 59,
      "outputs": [
        {
          "output_type": "stream",
          "name": "stdout",
          "text": [
            "tensor([1, 2, 3]) cpu\n"
          ]
        }
      ]
    },
    {
      "cell_type": "code",
      "source": [
        "tensor_on_gpu = tensor.to(device)\n",
        "tensor_on_gpu"
      ],
      "metadata": {
        "colab": {
          "base_uri": "https://localhost:8080/"
        },
        "id": "TUOHbURe42F-",
        "outputId": "60842f95-0cc6-4edd-a251-cc97781e518c"
      },
      "execution_count": 60,
      "outputs": [
        {
          "output_type": "execute_result",
          "data": {
            "text/plain": [
              "tensor([1, 2, 3], device='cuda:0')"
            ]
          },
          "metadata": {},
          "execution_count": 60
        }
      ]
    },
    {
      "cell_type": "code",
      "source": [
        "tensor_on_gpu.numpy()"
      ],
      "metadata": {
        "colab": {
          "base_uri": "https://localhost:8080/",
          "height": 176
        },
        "id": "MrNZtk5d5M4f",
        "outputId": "7b5d6b91-1b0e-43ee-c457-22ee5ff6c8ea"
      },
      "execution_count": 64,
      "outputs": [
        {
          "output_type": "error",
          "ename": "TypeError",
          "evalue": "ignored",
          "traceback": [
            "\u001b[0;31m---------------------------------------------------------------------------\u001b[0m",
            "\u001b[0;31mTypeError\u001b[0m                                 Traceback (most recent call last)",
            "\u001b[0;32m<ipython-input-64-e0c96c7436fd>\u001b[0m in \u001b[0;36m<cell line: 1>\u001b[0;34m()\u001b[0m\n\u001b[0;32m----> 1\u001b[0;31m \u001b[0mtensor_on_gpu\u001b[0m\u001b[0;34m.\u001b[0m\u001b[0mnumpy\u001b[0m\u001b[0;34m(\u001b[0m\u001b[0;34m)\u001b[0m\u001b[0;34m\u001b[0m\u001b[0;34m\u001b[0m\u001b[0m\n\u001b[0m",
            "\u001b[0;31mTypeError\u001b[0m: can't convert cuda:0 device type tensor to numpy. Use Tensor.cpu() to copy the tensor to host memory first."
          ]
        }
      ]
    },
    {
      "cell_type": "code",
      "source": [
        "# you cannot use numpy on gpu\n",
        "tensor_back_on_cpu = tensor_on_gpu.cpu().numpy()\n",
        "tensor_back_on_cpu"
      ],
      "metadata": {
        "colab": {
          "base_uri": "https://localhost:8080/"
        },
        "id": "2av0sFJl46zm",
        "outputId": "821fcdf0-e17c-4b33-ccd7-89d063e67399"
      },
      "execution_count": 62,
      "outputs": [
        {
          "output_type": "execute_result",
          "data": {
            "text/plain": [
              "array([1, 2, 3])"
            ]
          },
          "metadata": {},
          "execution_count": 62
        }
      ]
    },
    {
      "cell_type": "code",
      "source": [
        "tensor.numpy()"
      ],
      "metadata": {
        "colab": {
          "base_uri": "https://localhost:8080/"
        },
        "id": "KiaRta-Z5IB0",
        "outputId": "2b9349a5-e93c-40fa-c842-14918b4bf0fb"
      },
      "execution_count": 63,
      "outputs": [
        {
          "output_type": "execute_result",
          "data": {
            "text/plain": [
              "array([1, 2, 3])"
            ]
          },
          "metadata": {},
          "execution_count": 63
        }
      ]
    },
    {
      "cell_type": "code",
      "source": [],
      "metadata": {
        "id": "OuDrBnRR5Lo9"
      },
      "execution_count": null,
      "outputs": []
    }
  ]
}